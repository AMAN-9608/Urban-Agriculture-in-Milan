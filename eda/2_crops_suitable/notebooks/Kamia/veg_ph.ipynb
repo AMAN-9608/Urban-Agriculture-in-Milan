{
 "cells": [
  {
   "cell_type": "markdown",
   "metadata": {},
   "source": [
    "# pH Values, in Veg Data"
   ]
  },
  {
   "cell_type": "code",
   "execution_count": 2,
   "metadata": {},
   "outputs": [],
   "source": [
    "\n",
    "import pandas as pd\n",
    "import numpy as np\n",
    "import matplotlib.pyplot as plt\n",
    "import seaborn as sns\n",
    "\n",
    "from scipy import stats\n",
    "\n",
    "import plotly.express as px\n",
    "import plotly.graph_objs as go\n",
    "\n",
    "from statsmodels.stats.outliers_influence import variance_inflation_factor\n",
    "import statsmodels.api as sm\n",
    "from statsmodels.stats.power import FTestPower\n"
   ]
  },
  {
   "cell_type": "markdown",
   "metadata": {},
   "source": [
    "# Data Dictionary\n",
    "\n",
    "| Column           | Data Type | Description                                                       |\n",
    "|------------------|-----------|-------------------------------------------------------------------|\n",
    "| `S. no.`         | `int64`   | Serial number, a unique identifier for each row                   |\n",
    "| `Name`           | `object`  | Name of the vegetable                                             |\n",
    "| `Soil_Type`      | `object`  | Type of soil in which the vegetable is grown                      |\n",
    "| `Fertility`      | `object`  | Fertility status of the soil                                      |\n",
    "| `Photoperiod`    | `object`  | Duration of light exposure the vegetable receives                 |\n",
    "| `N-P-K Ratio`    | `object`  | Ratio of Nitrogen (N), Phosphorus (P), and Potassium (K) in the soil |\n",
    "| `Temperature`    | `float64` | Average temperature (in degrees Celsius)                          |\n",
    "| `Rainfall`       | `float64` | Amount of rainfall (in millimeters)                               |\n",
    "| `pH`             | `float64` | pH level of the soil                                              |\n",
    "| `Light_Hours`    | `float64` | Number of light hours per day                                     |\n",
    "| `Light_Intensity`| `float64` | Intensity of light received (in lumens)                           |\n",
    "| `Rh`             | `float64` | Relative humidity (percentage)                                    |\n",
    "| `Yield`          | `float64` | Yield of the vegetable (100 g per hectare)                      |\n",
    "| `Season`         | `object`  | Growing season of the vegetable (e.g., Winter, Spring, Summer, Fall) |\n"
   ]
  },
  {
   "cell_type": "markdown",
   "metadata": {},
   "source": [
    "### General EDA"
   ]
  },
  {
   "cell_type": "code",
   "execution_count": 63,
   "metadata": {},
   "outputs": [],
   "source": [
    "veg_data = pd.read_csv('/Users/kamiasalango/Desktop/Milan_Data_Urban_Ag/synthetic_veg_normal_crop_data.csv')"
   ]
  },
  {
   "cell_type": "code",
   "execution_count": 64,
   "metadata": {},
   "outputs": [
    {
     "data": {
      "text/html": [
       "<div>\n",
       "<style scoped>\n",
       "    .dataframe tbody tr th:only-of-type {\n",
       "        vertical-align: middle;\n",
       "    }\n",
       "\n",
       "    .dataframe tbody tr th {\n",
       "        vertical-align: top;\n",
       "    }\n",
       "\n",
       "    .dataframe thead th {\n",
       "        text-align: right;\n",
       "    }\n",
       "</style>\n",
       "<table border=\"1\" class=\"dataframe\">\n",
       "  <thead>\n",
       "    <tr style=\"text-align: right;\">\n",
       "      <th></th>\n",
       "      <th>S. no.</th>\n",
       "      <th>Name</th>\n",
       "      <th>Soil_Type</th>\n",
       "      <th>Fertility</th>\n",
       "      <th>Photoperiod</th>\n",
       "      <th>N-P-K Ratio</th>\n",
       "      <th>Temperature</th>\n",
       "      <th>Rainfall</th>\n",
       "      <th>pH</th>\n",
       "      <th>Light_Hours</th>\n",
       "      <th>Light_Intensity</th>\n",
       "      <th>Rh</th>\n",
       "      <th>Yield</th>\n",
       "      <th>Season</th>\n",
       "    </tr>\n",
       "  </thead>\n",
       "  <tbody>\n",
       "    <tr>\n",
       "      <th>0</th>\n",
       "      <td>1</td>\n",
       "      <td>Tomatoes</td>\n",
       "      <td>Fertile, well-drained loam or sandy loam soil</td>\n",
       "      <td>High</td>\n",
       "      <td>Short Day Period</td>\n",
       "      <td>10:10:10</td>\n",
       "      <td>22.489987</td>\n",
       "      <td>495.524098</td>\n",
       "      <td>6.272267</td>\n",
       "      <td>7.398897</td>\n",
       "      <td>529.733246</td>\n",
       "      <td>53.334987</td>\n",
       "      <td>60.647800</td>\n",
       "      <td>Fall</td>\n",
       "    </tr>\n",
       "    <tr>\n",
       "      <th>1</th>\n",
       "      <td>1</td>\n",
       "      <td>Tomatoes</td>\n",
       "      <td>Fertile, well-drained loam or sandy loam soil</td>\n",
       "      <td>High</td>\n",
       "      <td>Short Day Period</td>\n",
       "      <td>10:10:10</td>\n",
       "      <td>24.008877</td>\n",
       "      <td>454.428932</td>\n",
       "      <td>6.377733</td>\n",
       "      <td>6.625545</td>\n",
       "      <td>667.273615</td>\n",
       "      <td>57.410295</td>\n",
       "      <td>60.624575</td>\n",
       "      <td>Spring</td>\n",
       "    </tr>\n",
       "  </tbody>\n",
       "</table>\n",
       "</div>"
      ],
      "text/plain": [
       "   S. no.      Name                                      Soil_Type Fertility  \\\n",
       "0       1  Tomatoes  Fertile, well-drained loam or sandy loam soil      High   \n",
       "1       1  Tomatoes  Fertile, well-drained loam or sandy loam soil      High   \n",
       "\n",
       "        Photoperiod N-P-K Ratio  Temperature    Rainfall        pH  \\\n",
       "0  Short Day Period    10:10:10    22.489987  495.524098  6.272267   \n",
       "1  Short Day Period    10:10:10    24.008877  454.428932  6.377733   \n",
       "\n",
       "   Light_Hours  Light_Intensity         Rh      Yield  Season  \n",
       "0     7.398897       529.733246  53.334987  60.647800    Fall  \n",
       "1     6.625545       667.273615  57.410295  60.624575  Spring  "
      ]
     },
     "execution_count": 64,
     "metadata": {},
     "output_type": "execute_result"
    }
   ],
   "source": [
    "veg_data.head(2)"
   ]
  },
  {
   "cell_type": "code",
   "execution_count": 53,
   "metadata": {},
   "outputs": [
    {
     "name": "stdout",
     "output_type": "stream",
     "text": [
      "<class 'pandas.core.frame.DataFrame'>\n",
      "RangeIndex: 1000 entries, 0 to 999\n",
      "Data columns (total 14 columns):\n",
      " #   Column           Non-Null Count  Dtype  \n",
      "---  ------           --------------  -----  \n",
      " 0   S. no.           1000 non-null   int64  \n",
      " 1   Name             1000 non-null   object \n",
      " 2   Soil_Type        1000 non-null   object \n",
      " 3   Fertility        1000 non-null   object \n",
      " 4   Photoperiod      1000 non-null   object \n",
      " 5   N-P-K Ratio      1000 non-null   object \n",
      " 6   Temperature      1000 non-null   float64\n",
      " 7   Rainfall         1000 non-null   float64\n",
      " 8   pH               1000 non-null   float64\n",
      " 9   Light_Hours      1000 non-null   float64\n",
      " 10  Light_Intensity  1000 non-null   float64\n",
      " 11  Rh               1000 non-null   float64\n",
      " 12  Yield            1000 non-null   float64\n",
      " 13  Season           1000 non-null   object \n",
      "dtypes: float64(7), int64(1), object(6)\n",
      "memory usage: 109.5+ KB\n"
     ]
    }
   ],
   "source": [
    "veg_data.info()"
   ]
  },
  {
   "cell_type": "code",
   "execution_count": 54,
   "metadata": {},
   "outputs": [
    {
     "data": {
      "text/plain": [
       "S. no.             0\n",
       "Name               0\n",
       "Soil_Type          0\n",
       "Fertility          0\n",
       "Photoperiod        0\n",
       "N-P-K Ratio        0\n",
       "Temperature        0\n",
       "Rainfall           0\n",
       "pH                 0\n",
       "Light_Hours        0\n",
       "Light_Intensity    0\n",
       "Rh                 0\n",
       "Yield              0\n",
       "Season             0\n",
       "dtype: int64"
      ]
     },
     "execution_count": 54,
     "metadata": {},
     "output_type": "execute_result"
    }
   ],
   "source": [
    "#check for nulls \n",
    "veg_data.isnull().sum()"
   ]
  },
  {
   "cell_type": "markdown",
   "metadata": {},
   "source": [
    "### Categorical Variables\n",
    "\n",
    "The following variables can be considered categorical \n",
    " - `S. no.` (int64): Serial number, a unique identifier for each row\n",
    "- `Name` (object): Name of the vegetable\n",
    "- `Soil_Type` (object): Type of soil in which the vegetable is grown\n",
    "- `Fertility` (object): Fertility status of the soil\n",
    "- `Photoperiod` (object): Duration of light exposure the vegetable receives\n",
    "- `Season` (object): Growing season of the vegetable (e.g., Winter, Spring, Summer, Fall)"
   ]
  },
  {
   "cell_type": "code",
   "execution_count": 22,
   "metadata": {},
   "outputs": [
    {
     "data": {
      "text/plain": [
       "array([' Fall', 'Spring', ' Summer',\n",
       "       ' Fall                                                                         ',\n",
       "       ' Summer                                           ', 'Fall',\n",
       "       'Winter', ' Winter', ' Fall      '], dtype=object)"
      ]
     },
     "execution_count": 22,
     "metadata": {},
     "output_type": "execute_result"
    }
   ],
   "source": [
    "veg_data['Season'].unique()"
   ]
  },
  {
   "cell_type": "code",
   "execution_count": 23,
   "metadata": {},
   "outputs": [],
   "source": [
    "#Clean up whitespace in 'Season' values\n",
    "veg_data['Season'] = veg_data['Season'].str.strip().str.replace('\\s+', ' ')"
   ]
  },
  {
   "cell_type": "markdown",
   "metadata": {},
   "source": [
    "### Continuous, Numeric Variables\n",
    "\n",
    "- `Temperature` (float64): Average temperature (in degrees Celsius)\n",
    "- `Rainfall` (float64): Amount of rainfall (in millimeters)\n",
    "- `pH` (float64): pH level of the soil\n",
    "- `Light_Hours` (float64): Number of light hours per day\n",
    "- `Light_Intensity` (float64): Intensity of light received (in lumens)\n",
    "- `Rh` (float64): Relative humidity (percentage)\n",
    "- `Yield` (float64): Yield of the vegetable (in tons per hectare)\n",
    "- `N-P-K Ratio` (object): Ratio of Nitrogen (N), Phosphorus (P), and Potassium (K) in the soil"
   ]
  },
  {
   "cell_type": "code",
   "execution_count": 24,
   "metadata": {},
   "outputs": [
    {
     "data": {
      "text/html": [
       "<div>\n",
       "<style scoped>\n",
       "    .dataframe tbody tr th:only-of-type {\n",
       "        vertical-align: middle;\n",
       "    }\n",
       "\n",
       "    .dataframe tbody tr th {\n",
       "        vertical-align: top;\n",
       "    }\n",
       "\n",
       "    .dataframe thead th {\n",
       "        text-align: right;\n",
       "    }\n",
       "</style>\n",
       "<table border=\"1\" class=\"dataframe\">\n",
       "  <thead>\n",
       "    <tr style=\"text-align: right;\">\n",
       "      <th></th>\n",
       "      <th>S. no.</th>\n",
       "      <th>Temperature</th>\n",
       "      <th>Rainfall</th>\n",
       "      <th>pH</th>\n",
       "      <th>Light_Hours</th>\n",
       "      <th>Light_Intensity</th>\n",
       "      <th>Rh</th>\n",
       "      <th>Yield</th>\n",
       "    </tr>\n",
       "  </thead>\n",
       "  <tbody>\n",
       "    <tr>\n",
       "      <th>count</th>\n",
       "      <td>1000.000000</td>\n",
       "      <td>1000.000000</td>\n",
       "      <td>1000.000000</td>\n",
       "      <td>1000.000000</td>\n",
       "      <td>1000.000000</td>\n",
       "      <td>1000.000000</td>\n",
       "      <td>1000.000000</td>\n",
       "      <td>1000.000000</td>\n",
       "    </tr>\n",
       "    <tr>\n",
       "      <th>mean</th>\n",
       "      <td>5.500000</td>\n",
       "      <td>21.223453</td>\n",
       "      <td>899.822311</td>\n",
       "      <td>6.314535</td>\n",
       "      <td>7.788497</td>\n",
       "      <td>454.160624</td>\n",
       "      <td>62.491512</td>\n",
       "      <td>25.407443</td>\n",
       "    </tr>\n",
       "    <tr>\n",
       "      <th>std</th>\n",
       "      <td>2.873719</td>\n",
       "      <td>3.388224</td>\n",
       "      <td>248.827272</td>\n",
       "      <td>0.387982</td>\n",
       "      <td>1.081211</td>\n",
       "      <td>107.980401</td>\n",
       "      <td>9.444966</td>\n",
       "      <td>14.874399</td>\n",
       "    </tr>\n",
       "    <tr>\n",
       "      <th>min</th>\n",
       "      <td>1.000000</td>\n",
       "      <td>9.382705</td>\n",
       "      <td>408.922109</td>\n",
       "      <td>4.869373</td>\n",
       "      <td>5.916419</td>\n",
       "      <td>208.199107</td>\n",
       "      <td>41.949928</td>\n",
       "      <td>4.648454</td>\n",
       "    </tr>\n",
       "    <tr>\n",
       "      <th>25%</th>\n",
       "      <td>3.000000</td>\n",
       "      <td>19.107643</td>\n",
       "      <td>717.766522</td>\n",
       "      <td>6.093833</td>\n",
       "      <td>6.929032</td>\n",
       "      <td>377.061951</td>\n",
       "      <td>54.588245</td>\n",
       "      <td>18.978198</td>\n",
       "    </tr>\n",
       "    <tr>\n",
       "      <th>50%</th>\n",
       "      <td>5.500000</td>\n",
       "      <td>21.100561</td>\n",
       "      <td>895.413750</td>\n",
       "      <td>6.339494</td>\n",
       "      <td>7.277581</td>\n",
       "      <td>434.972823</td>\n",
       "      <td>60.628367</td>\n",
       "      <td>24.174195</td>\n",
       "    </tr>\n",
       "    <tr>\n",
       "      <th>75%</th>\n",
       "      <td>8.000000</td>\n",
       "      <td>23.949001</td>\n",
       "      <td>1047.528260</td>\n",
       "      <td>6.556465</td>\n",
       "      <td>8.862176</td>\n",
       "      <td>534.277933</td>\n",
       "      <td>70.848804</td>\n",
       "      <td>29.416648</td>\n",
       "    </tr>\n",
       "    <tr>\n",
       "      <th>max</th>\n",
       "      <td>10.000000</td>\n",
       "      <td>31.246506</td>\n",
       "      <td>1634.156080</td>\n",
       "      <td>7.397805</td>\n",
       "      <td>11.594160</td>\n",
       "      <td>802.796178</td>\n",
       "      <td>94.308429</td>\n",
       "      <td>65.126196</td>\n",
       "    </tr>\n",
       "  </tbody>\n",
       "</table>\n",
       "</div>"
      ],
      "text/plain": [
       "            S. no.  Temperature     Rainfall           pH  Light_Hours  \\\n",
       "count  1000.000000  1000.000000  1000.000000  1000.000000  1000.000000   \n",
       "mean      5.500000    21.223453   899.822311     6.314535     7.788497   \n",
       "std       2.873719     3.388224   248.827272     0.387982     1.081211   \n",
       "min       1.000000     9.382705   408.922109     4.869373     5.916419   \n",
       "25%       3.000000    19.107643   717.766522     6.093833     6.929032   \n",
       "50%       5.500000    21.100561   895.413750     6.339494     7.277581   \n",
       "75%       8.000000    23.949001  1047.528260     6.556465     8.862176   \n",
       "max      10.000000    31.246506  1634.156080     7.397805    11.594160   \n",
       "\n",
       "       Light_Intensity           Rh        Yield  \n",
       "count      1000.000000  1000.000000  1000.000000  \n",
       "mean        454.160624    62.491512    25.407443  \n",
       "std         107.980401     9.444966    14.874399  \n",
       "min         208.199107    41.949928     4.648454  \n",
       "25%         377.061951    54.588245    18.978198  \n",
       "50%         434.972823    60.628367    24.174195  \n",
       "75%         534.277933    70.848804    29.416648  \n",
       "max         802.796178    94.308429    65.126196  "
      ]
     },
     "execution_count": 24,
     "metadata": {},
     "output_type": "execute_result"
    }
   ],
   "source": [
    "#basic descriptive stats:\n",
    "veg_data.describe()"
   ]
  },
  {
   "cell_type": "markdown",
   "metadata": {},
   "source": [
    "## pH"
   ]
  },
  {
   "cell_type": "code",
   "execution_count": 55,
   "metadata": {},
   "outputs": [],
   "source": [
    "#define function to assign labels to Ph values\n",
    "def assign_ph_label(ph_value):\n",
    "    if ph_value < 5.5:\n",
    "        return 'High Acidic'\n",
    "    elif 5.5 <= ph_value < 6.5:\n",
    "        return 'Acidic'\n",
    "    elif 6.5 <= ph_value < 7.5:\n",
    "        return 'Neutral'\n",
    "    elif 7.5 <= ph_value < 8.5:\n",
    "        return 'Alkaline'\n",
    "    else:\n",
    "        return 'High Alkaline'"
   ]
  },
  {
   "cell_type": "code",
   "execution_count": 65,
   "metadata": {},
   "outputs": [],
   "source": [
    "veg_data['pH_Label'] = veg_data['pH'].apply(assign_ph_label)"
   ]
  },
  {
   "cell_type": "markdown",
   "metadata": {},
   "source": [
    "#### pH Distribution per Vegetable"
   ]
  },
  {
   "cell_type": "code",
   "execution_count": 66,
   "metadata": {},
   "outputs": [
    {
     "data": {
      "text/plain": [
       "0      Acidic\n",
       "1      Acidic\n",
       "2      Acidic\n",
       "3      Acidic\n",
       "4      Acidic\n",
       "        ...  \n",
       "995    Acidic\n",
       "996    Acidic\n",
       "997    Acidic\n",
       "998    Acidic\n",
       "999    Acidic\n",
       "Name: pH_Label, Length: 1000, dtype: object"
      ]
     },
     "execution_count": 66,
     "metadata": {},
     "output_type": "execute_result"
    }
   ],
   "source": [
    "veg_data['pH_Label']"
   ]
  },
  {
   "cell_type": "code",
   "execution_count": 67,
   "metadata": {},
   "outputs": [
    {
     "name": "stdout",
     "output_type": "stream",
     "text": [
      "pH_Label        Acidic  High Acidic  Neutral\n",
      "Name                                        \n",
      "Asparagus           95            0        5\n",
      "Broccoli            44            0       56\n",
      "Cabbage             16            0       84\n",
      "Cauliflowers        54            0       46\n",
      "Chilli Peppers      96            0        4\n",
      "Cucumbers           18            0       82\n",
      "Eggplants           96            0        4\n",
      "Green Peas          85            0       15\n",
      "Potatoes            73           27        0\n",
      "Tomatoes            95            0        5\n"
     ]
    }
   ],
   "source": [
    "#distribution of labels and associated vegetable \n",
    "label_distribution = veg_data.groupby(['Name', 'pH_Label']).size().unstack(fill_value=0)\n",
    "print(label_distribution)\n"
   ]
  },
  {
   "cell_type": "code",
   "execution_count": 28,
   "metadata": {},
   "outputs": [
    {
     "name": "stdout",
     "output_type": "stream",
     "text": [
      "                count      mean       std       min       25%       50%  \\\n",
      "Name                                                                      \n",
      "Asparagus       100.0  6.346015  0.107233  6.061796  6.284878  6.341769   \n",
      "Broccoli        100.0  6.513211  0.157678  6.143281  6.400573  6.514724   \n",
      "Cabbage         100.0  6.758387  0.254208  6.089276  6.593666  6.747294   \n",
      "Cauliflowers    100.0  6.494089  0.175295  6.070728  6.372317  6.473891   \n",
      "Chilli Peppers  100.0  6.154652  0.198944  5.727542  6.012622  6.148576   \n",
      "Cucumbers       100.0  6.741400  0.260841  6.136454  6.577165  6.722876   \n",
      "Eggplants       100.0  6.144058  0.206452  5.737192  5.995257  6.166610   \n",
      "Green Peas      100.0  6.236779  0.254468  5.580126  6.092907  6.220417   \n",
      "Potatoes        100.0  5.589057  0.210531  4.869373  5.488421  5.601350   \n",
      "Tomatoes        100.0  6.167698  0.238268  5.655158  6.006855  6.182478   \n",
      "\n",
      "                     75%       max  \n",
      "Name                                \n",
      "Asparagus       6.423751  6.669365  \n",
      "Broccoli        6.621758  6.895943  \n",
      "Cabbage         6.931702  7.332121  \n",
      "Cauliflowers    6.634035  6.868983  \n",
      "Chilli Peppers  6.317382  6.574242  \n",
      "Cucumbers       6.903549  7.397805  \n",
      "Eggplants       6.293505  6.626205  \n",
      "Green Peas      6.411709  6.862811  \n",
      "Potatoes        5.691614  6.106140  \n",
      "Tomatoes        6.314452  6.992737  \n"
     ]
    }
   ],
   "source": [
    "#distribution of continious pH and vegetable\n",
    "cont_stats = veg_data.groupby('Name')['pH'].describe()\n",
    "print(cont_stats)"
   ]
  },
  {
   "cell_type": "code",
   "execution_count": 48,
   "metadata": {},
   "outputs": [
    {
     "data": {
      "image/png": "[encoded data removed]",
      "text/plain": [
       "<Figure size 1100x800 with 1 Axes>"
      ]
     },
     "metadata": {},
     "output_type": "display_data"
    }
   ],
   "source": [
    "label_distribution.plot(kind='bar', stacked=True, figsize=(11, 8))\n",
    "plt.title('Distribution of pH Labels by Vegetable')\n",
    "plt.xlabel('Vegetable')\n",
    "plt.ylabel('Count')\n",
    "plt.legend(title='pH Label')\n",
    "plt.show()\n"
   ]
  },
  {
   "cell_type": "code",
   "execution_count": 31,
   "metadata": {},
   "outputs": [
    {
     "data": {
      "image/png": "[encoded data removed]",
      "text/plain": [
       "<Figure size 1200x800 with 1 Axes>"
      ]
     },
     "metadata": {},
     "output_type": "display_data"
    }
   ],
   "source": [
    "plt.figure(figsize=(12, 8))\n",
    "sns.boxplot(x='Name', y='pH', data=veg_data)\n",
    "plt.title('Distribution of Continuous pH Values by Vegetable')\n",
    "plt.xlabel('Vegetable')\n",
    "plt.ylabel('pH Value')\n",
    "plt.xticks(rotation=45)\n",
    "plt.show()"
   ]
  },
  {
   "cell_type": "markdown",
   "metadata": {},
   "source": [
    "### Summary and Insights\n",
    "\n",
    "#### Labeled pH Distribution\n",
    "- **Acidic**: The majority of the vegetables fall into the \"Acidic\" category, especially Asparagus (95%), Chilli Peppers (96%), and Eggplants (96%).\n",
    "- **High Acidic**: Only Potatoes have a significant proportion in the \"High Acidic\" category (27%).\n",
    "- **Neutral**: Vegetables like Cabbage (84%) and Cucumbers (82%) have higher proportions in the \"Neutral\" category.\n",
    "\n",
    "#### Continuous pH Values\n",
    "- **Mean pH**: The mean pH values show variability across vegetables, with Cucumbers having the highest mean pH (6.74) and Potatoes the lowest (5.59).\n",
    "- **Standard Deviation**: The standard deviation indicates the variability in pH values, Cucumbers show the highest variability. \n",
    "\n",
    "**Notes** \n",
    "\n",
    "How were min and max assigned for each vegetable? "
   ]
  },
  {
   "cell_type": "markdown",
   "metadata": {},
   "source": [
    "#### pH and yield per vegetable"
   ]
  },
  {
   "cell_type": "code",
   "execution_count": 41,
   "metadata": {},
   "outputs": [
    {
     "data": {
      "application/vnd.plotly.v1+json": {
       "config": {
        "plotlyServerURL": "https://plot.ly"
       },
       "data": [
        {
         "customdata": [
          [
           "Tomatoes"
          ],
          [
           "Tomatoes"
          ],
          [
           "Tomatoes"
          ],
          [
           "Tomatoes"
          ],
          [
           "Tomatoes"
          ],
          [
           "Tomatoes"
          ],
          [
           "Tomatoes"
          ],
          [
           "Tomatoes"
          ],
          [
           "Tomatoes"
          ],
          [
           "Tomatoes"
          ],
          [
           "Tomatoes"
          ],
          [
           "Tomatoes"
          ],
          [
           "Tomatoes"
          ],
          [
           "Tomatoes"
          ],
          [
           "Tomatoes"
          ],
          [
           "Tomatoes"
          ],
          [
           "Tomatoes"
          ],
          [
           "Tomatoes"
          ],
          [
           "Tomatoes"
          ],
          [
           "Tomatoes"
          ],
          [
           "Tomatoes"
          ],
          [
           "Tomatoes"
          ],
          [
           "Tomatoes"
          ],
          [
           "Tomatoes"
          ],
          [
           "Tomatoes"
          ],
          [
           "Tomatoes"
          ],
          [
           "Tomatoes"
          ],
          [
           "Tomatoes"
          ],
          [
           "Tomatoes"
          ],
          [
           "Tomatoes"
          ],
          [
           "Tomatoes"
          ],
          [
           "Tomatoes"
          ],
          [
           "Tomatoes"
          ],
          [
           "Tomatoes"
          ],
          [
           "Tomatoes"
          ],
          [
           "Tomatoes"
          ],
          [
           "Tomatoes"
          ],
          [
           "Tomatoes"
          ],
          [
           "Tomatoes"
          ],
          [
           "Tomatoes"
          ],
          [
           "Tomatoes"
          ],
          [
           "Tomatoes"
          ],
          [
           "Tomatoes"
          ],
          [
           "Tomatoes"
          ],
          [
           "Tomatoes"
          ],
          [
           "Tomatoes"
          ],
          [
           "Tomatoes"
          ],
          [
           "Tomatoes"
          ],
          [
           "Tomatoes"
          ],
          [
           "Tomatoes"
          ],
          [
           "Tomatoes"
          ],
          [
           "Tomatoes"
          ],
          [
           "Tomatoes"
          ],
          [
           "Tomatoes"
          ],
          [
           "Tomatoes"
          ],
          [
           "Tomatoes"
          ],
          [
           "Tomatoes"
          ],
          [
           "Tomatoes"
          ],
          [
           "Tomatoes"
          ],
          [
           "Tomatoes"
          ],
          [
           "Tomatoes"
          ],
          [
           "Tomatoes"
          ],
          [
           "Tomatoes"
          ],
          [
           "Tomatoes"
          ],
          [
           "Tomatoes"
          ],
          [
           "Tomatoes"
          ],
          [
           "Tomatoes"
          ],
          [
           "Tomatoes"
          ],
          [
           "Tomatoes"
          ],
          [
           "Tomatoes"
          ],
          [
           "Tomatoes"
          ],
          [
           "Tomatoes"
          ],
          [
           "Tomatoes"
          ],
          [
           "Tomatoes"
          ],
          [
           "Tomatoes"
          ],
          [
           "Tomatoes"
          ],
          [
           "Tomatoes"
          ],
          [
           "Tomatoes"
          ],
          [
           "Tomatoes"
          ],
          [
           "Tomatoes"
          ],
          [
           "Tomatoes"
          ],
          [
           "Tomatoes"
          ],
          [
           "Tomatoes"
          ],
          [
           "Tomatoes"
          ],
          [
           "Tomatoes"
          ],
          [
           "Tomatoes"
          ],
          [
           "Tomatoes"
          ],
          [
           "Tomatoes"
          ],
          [
           "Tomatoes"
          ],
          [
           "Tomatoes"
          ],
          [
           "Tomatoes"
          ],
          [
           "Tomatoes"
          ],
          [
           "Tomatoes"
          ],
          [
           "Tomatoes"
          ],
          [
           "Tomatoes"
          ],
          [
           "Tomatoes"
          ],
          [
           "Tomatoes"
          ],
          [
           "Tomatoes"
          ],
          [
           "Tomatoes"
          ],
          [
           "Tomatoes"
          ]
         ],
         "hovertemplate": "Name=%{customdata[0]}<br>pH Value=%{x}<br>Yield=%{y}<extra></extra>",
         "legendgroup": "Tomatoes",
         "marker": {
          "color": "#636efa",
          "symbol": "circle"
         },
         "mode": "markers",
         "name": "Tomatoes",
         "orientation": "v",
         "showlegend": true,
         "type": "scatter",
         "x": [
          6.272266696497128,
          6.377732974974409,
          6.094119276537949,
          6.402487043524022,
          5.80341777199403,
          5.871509109616049,
          6.070580667326613,
          5.967114513644022,
          6.055715980339875,
          6.087688315876472,
          6.395740043813085,
          6.1997804822221605,
          6.078967063255184,
          6.392653984704734,
          6.065710928930179,
          6.992737178648733,
          6.464553385998572,
          6.1267855628077,
          6.20102443533616,
          6.486284459690496,
          6.4506442880435735,
          6.021932570145733,
          6.386599630472073,
          6.4389651400551475,
          6.068813805060959,
          6.1023580781686455,
          6.691377133740615,
          6.011821166624907,
          5.839351029846539,
          5.991956319929431,
          5.980497139101876,
          6.421090013885459,
          6.481910551407415,
          5.876269427492794,
          6.160026636690681,
          6.607246850140626,
          6.235742027173162,
          6.204880926029005,
          6.278751331155406,
          6.186081002372694,
          6.215487946671032,
          6.213766387571809,
          6.277604380774344,
          6.163316691556309,
          6.242043781842928,
          6.313891256816471,
          6.218880423191875,
          6.220379520347332,
          6.159090353658967,
          6.2127124994478,
          6.090516228208473,
          6.279618983395132,
          6.287626510000516,
          6.384641036791783,
          5.733323443762271,
          5.876543583014845,
          6.0436175545164135,
          6.392183462100463,
          6.693187732933949,
          6.260308080386386,
          6.258561082628857,
          5.752982008280544,
          5.762331683064351,
          5.97665796920981,
          6.129007092072679,
          5.887818228974939,
          5.741227081492232,
          6.178874940268774,
          5.990004570713502,
          5.967660901273258,
          6.219248615880296,
          6.20817781809075,
          5.868705786588433,
          6.1753416520379165,
          5.655158134991587,
          5.756949940172049,
          6.133458725625198,
          5.855506755044968,
          6.2560068391026835,
          6.223402778281139,
          5.880875560934144,
          6.3850135536632715,
          5.965950153351176,
          6.0636759169803724,
          6.232163203311361,
          6.146362844601255,
          6.250110525397068,
          5.9893048652326195,
          6.073077676574718,
          6.344202346661883,
          6.106762915077423,
          5.911305219598479,
          6.3161324639614085,
          5.687123400858586,
          6.3440394974686924,
          6.380735928198418,
          6.404265141601833,
          6.16670845023355,
          6.555174114061272,
          6.447807001266475
         ],
         "xaxis": "x",
         "y": [
          60.64779952949247,
          60.62457500335642,
          61.40379830888732,
          61.134157198805745,
          61.26354011372221,
          61.623269253561055,
          62.57603846507856,
          61.482890104735056,
          62.95698305481486,
          61.6677780498917,
          60.97420625867967,
          60.24025236214074,
          64.45321913896632,
          62.71669583149189,
          61.194248446794056,
          59.30094868172005,
          60.839268991395606,
          61.64660210249612,
          62.86032341164324,
          61.624606722959264,
          62.532036303234094,
          62.10620297229977,
          61.232288313812184,
          63.47613063909638,
          59.4695351218028,
          62.04776859041221,
          63.01507073311144,
          60.66205016331484,
          62.81878093685466,
          62.52265915815285,
          63.172817517509856,
          62.8876388529945,
          62.68599417079768,
          62.13563040938893,
          59.69486726314326,
          61.983936501297585,
          60.58850805277065,
          62.14047916803388,
          63.06043559314456,
          62.050054032155394,
          62.23060864800309,
          62.9820852657168,
          61.4306448748761,
          60.58895852674073,
          60.8726840777734,
          62.3441278560699,
          62.02236315081332,
          61.03045456945922,
          59.30390227263802,
          61.224636066215766,
          61.35847069875947,
          60.740022347520984,
          62.07939690902099,
          63.03488582521085,
          62.131525873339505,
          63.374274651626614,
          61.016726839074664,
          61.81015775771282,
          62.08164490382269,
          62.87669615476342,
          63.08241548959231,
          63.65854881351148,
          61.1160221840336,
          62.55047517409037,
          62.307699234837145,
          61.73705819704417,
          61.82863473678405,
          61.81331083363587,
          63.134148695918405,
          61.30604783915043,
          62.4048451959037,
          60.92158404128375,
          61.04311073279979,
          62.95956710843625,
          65.1261959298827,
          64.18116530695077,
          61.34059133122794,
          61.56315812658441,
          60.672679501908185,
          61.97999149283115,
          62.60394699769231,
          63.197540857278945,
          62.96392561016188,
          62.28387205830272,
          62.421530128647305,
          61.75079056415426,
          60.05449823826183,
          63.262483202760755,
          60.75540084988199,
          62.408933240971955,
          59.76970569234275,
          60.564439442861456,
          62.57760641272226,
          59.564666325947904,
          60.96301707219556,
          61.2750968079298,
          60.64181652653162,
          61.92093715305824,
          62.44084694500252,
          61.793389735593315
         ],
         "yaxis": "y"
        },
        {
         "customdata": [
          [
           "Eggplants"
          ],
          [
           "Eggplants"
          ],
          [
           "Eggplants"
          ],
          [
           "Eggplants"
          ],
          [
           "Eggplants"
          ],
          [
           "Eggplants"
          ],
          [
           "Eggplants"
          ],
          [
           "Eggplants"
          ],
          [
           "Eggplants"
          ],
          [
           "Eggplants"
          ],
          [
           "Eggplants"
          ],
          [
           "Eggplants"
          ],
          [
           "Eggplants"
          ],
          [
           "Eggplants"
          ],
          [
           "Eggplants"
          ],
          [
           "Eggplants"
          ],
          [
           "Eggplants"
          ],
          [
           "Eggplants"
          ],
          [
           "Eggplants"
          ],
          [
           "Eggplants"
          ],
          [
           "Eggplants"
          ],
          [
           "Eggplants"
          ],
          [
           "Eggplants"
          ],
          [
           "Eggplants"
          ],
          [
           "Eggplants"
          ],
          [
           "Eggplants"
          ],
          [
           "Eggplants"
          ],
          [
           "Eggplants"
          ],
          [
           "Eggplants"
          ],
          [
           "Eggplants"
          ],
          [
           "Eggplants"
          ],
          [
           "Eggplants"
          ],
          [
           "Eggplants"
          ],
          [
           "Eggplants"
          ],
          [
           "Eggplants"
          ],
          [
           "Eggplants"
          ],
          [
           "Eggplants"
          ],
          [
           "Eggplants"
          ],
          [
           "Eggplants"
          ],
          [
           "Eggplants"
          ],
          [
           "Eggplants"
          ],
          [
           "Eggplants"
          ],
          [
           "Eggplants"
          ],
          [
           "Eggplants"
          ],
          [
           "Eggplants"
          ],
          [
           "Eggplants"
          ],
          [
           "Eggplants"
          ],
          [
           "Eggplants"
          ],
          [
           "Eggplants"
          ],
          [
           "Eggplants"
          ],
          [
           "Eggplants"
          ],
          [
           "Eggplants"
          ],
          [
           "Eggplants"
          ],
          [
           "Eggplants"
          ],
          [
           "Eggplants"
          ],
          [
           "Eggplants"
          ],
          [
           "Eggplants"
          ],
          [
           "Eggplants"
          ],
          [
           "Eggplants"
          ],
          [
           "Eggplants"
          ],
          [
           "Eggplants"
          ],
          [
           "Eggplants"
          ],
          [
           "Eggplants"
          ],
          [
           "Eggplants"
          ],
          [
           "Eggplants"
          ],
          [
           "Eggplants"
          ],
          [
           "Eggplants"
          ],
          [
           "Eggplants"
          ],
          [
           "Eggplants"
          ],
          [
           "Eggplants"
          ],
          [
           "Eggplants"
          ],
          [
           "Eggplants"
          ],
          [
           "Eggplants"
          ],
          [
           "Eggplants"
          ],
          [
           "Eggplants"
          ],
          [
           "Eggplants"
          ],
          [
           "Eggplants"
          ],
          [
           "Eggplants"
          ],
          [
           "Eggplants"
          ],
          [
           "Eggplants"
          ],
          [
           "Eggplants"
          ],
          [
           "Eggplants"
          ],
          [
           "Eggplants"
          ],
          [
           "Eggplants"
          ],
          [
           "Eggplants"
          ],
          [
           "Eggplants"
          ],
          [
           "Eggplants"
          ],
          [
           "Eggplants"
          ],
          [
           "Eggplants"
          ],
          [
           "Eggplants"
          ],
          [
           "Eggplants"
          ],
          [
           "Eggplants"
          ],
          [
           "Eggplants"
          ],
          [
           "Eggplants"
          ],
          [
           "Eggplants"
          ],
          [
           "Eggplants"
          ],
          [
           "Eggplants"
          ],
          [
           "Eggplants"
          ],
          [
           "Eggplants"
          ],
          [
           "Eggplants"
          ]
         ],
         "hovertemplate": "Name=%{customdata[0]}<br>pH Value=%{x}<br>Yield=%{y}<extra></extra>",
         "legendgroup": "Eggplants",
         "marker": {
          "color": "#EF553B",
          "symbol": "circle"
         },
         "mode": "markers",
         "name": "Eggplants",
         "orientation": "v",
         "showlegend": true,
         "type": "scatter",
         "x": [
          5.859966357522965,
          5.894084243851536,
          6.431300368101168,
          5.9911133620011645,
          6.318594266033952,
          6.3351497649621935,
          6.1478788921430585,
          5.8264994273334185,
          6.0477541774032275,
          6.035440003726572,
          6.216293259562303,
          6.056260508706666,
          6.144912628672191,
          6.207754190453926,
          5.89884403698665,
          6.560598747393305,
          5.886825423768485,
          6.026594140688152,
          6.249650139339801,
          5.958259250986512,
          6.021878545989174,
          5.996417858293687,
          6.325942034134995,
          6.351030139268964,
          6.372969751475402,
          6.0376979909256,
          6.270876335775094,
          6.291391604691292,
          6.191779966923407,
          5.853416458557414,
          6.412843156567375,
          6.438307608532493,
          5.905541353600352,
          6.172931592575088,
          6.222361845812321,
          6.017886149367519,
          6.183082448007278,
          6.469692955775383,
          5.986886879845972,
          6.16527743447972,
          6.219953795146724,
          5.858988804375236,
          5.938804212570478,
          6.135731934006808,
          5.852223875539789,
          6.177035363181112,
          6.516158577175579,
          5.87112385202836,
          5.991774437243623,
          6.372926320645898,
          6.2702591270390196,
          6.383618109648477,
          6.015048561513918,
          6.197851551243936,
          6.140279571937645,
          6.092533876882477,
          6.225953192573135,
          6.004651221592246,
          6.0394329457078975,
          6.55206553789888,
          5.802912064507896,
          5.887406934324952,
          6.044762514512035,
          6.192260690721776,
          6.369135603162399,
          6.279712223093856,
          6.2899390152956025,
          6.0874673112771935,
          5.9043613507236286,
          6.035695613414278,
          6.3467977299811285,
          6.012076552421882,
          6.098594246545536,
          6.245488890261848,
          5.737192300910055,
          6.167942111054572,
          6.491757111366012,
          6.475000014109359,
          5.887656996484297,
          6.311686679982923,
          6.231165295023735,
          5.875347301347523,
          6.080909020434211,
          6.466782890972319,
          6.190255300865751,
          6.345793791524357,
          5.86736101850283,
          6.020761169713175,
          6.299844881322036,
          6.076882187904251,
          6.330966090915481,
          6.316804921816114,
          6.169249703281605,
          6.218293764905795,
          6.2894505619916,
          5.787069558047742,
          5.801149760869054,
          6.626205213877552,
          6.245095267256921,
          5.860184949283941
         ],
         "xaxis": "x",
         "y": [
          31.777209545505546,
          31.703771270478818,
          31.6366044258216,
          31.456804597477543,
          31.718761486728255,
          31.49473639779081,
          31.615204379481735,
          31.877560827659185,
          31.731359948513983,
          31.391995948018373,
          31.49453144199182,
          31.550332036370595,
          31.79949992137027,
          31.49085149004969,
          31.418678241196098,
          31.785031180299143,
          31.660535195899016,
          31.764336463610285,
          31.745783821438987,
          31.847407474351954,
          31.6045882142212,
          31.638754442193623,
          31.53345168797549,
          31.846503965476703,
          31.790504653213254,
          31.571882266125417,
          31.757591891787527,
          31.340810476748416,
          31.576644750314028,
          31.62134200857327,
          31.208126390684978,
          31.772860371131102,
          31.62230355010529,
          31.891829056346833,
          31.412787161556185,
          31.83608773840539,
          31.518298475035095,
          31.44450837908979,
          31.649424446333857,
          31.484791934894325,
          31.638168713928984,
          31.389754446632356,
          31.73710258621255,
          31.43146912771882,
          31.67215651639424,
          31.415420494853585,
          31.452573919775613,
          31.60215707323217,
          31.693031351199895,
          31.974718716187468,
          31.511405816618367,
          31.646649868412695,
          31.72190383404803,
          31.37055586083588,
          31.529456464842095,
          31.594946826006016,
          31.659083437008466,
          31.83035793632651,
          31.56561497004232,
          31.3369899277669,
          31.642742648833977,
          31.362983541219936,
          31.6868352553274,
          31.581693943384693,
          31.603395924198356,
          31.67693072064419,
          31.737188792684353,
          31.546350972956738,
          31.71596379243306,
          31.45564773366166,
          31.72407247287603,
          31.63151047726725,
          31.645210992014597,
          31.691329704377768,
          31.83301811949594,
          31.633863283583626,
          31.363835756739142,
          31.619968610586778,
          31.714040085445745,
          31.787518239325063,
          31.88604310976407,
          31.61759955872448,
          31.62054870629838,
          31.588989586585527,
          31.737562467254207,
          31.81423429080686,
          31.27426288296719,
          31.574776519183096,
          31.88748362232711,
          31.622435504919984,
          31.76750884880564,
          31.7147994346799,
          31.6233435265379,
          31.47617612710546,
          31.40974995393664,
          31.726166220655266,
          31.705249774327548,
          31.350531727456733,
          31.398596102012295,
          31.72804876949189
         ],
         "yaxis": "y"
        },
        {
         "customdata": [
          [
           "Asparagus"
          ],
          [
           "Asparagus"
          ],
          [
           "Asparagus"
          ],
          [
           "Asparagus"
          ],
          [
           "Asparagus"
          ],
          [
           "Asparagus"
          ],
          [
           "Asparagus"
          ],
          [
           "Asparagus"
          ],
          [
           "Asparagus"
          ],
          [
           "Asparagus"
          ],
          [
           "Asparagus"
          ],
          [
           "Asparagus"
          ],
          [
           "Asparagus"
          ],
          [
           "Asparagus"
          ],
          [
           "Asparagus"
          ],
          [
           "Asparagus"
          ],
          [
           "Asparagus"
          ],
          [
           "Asparagus"
          ],
          [
           "Asparagus"
          ],
          [
           "Asparagus"
          ],
          [
           "Asparagus"
          ],
          [
           "Asparagus"
          ],
          [
           "Asparagus"
          ],
          [
           "Asparagus"
          ],
          [
           "Asparagus"
          ],
          [
           "Asparagus"
          ],
          [
           "Asparagus"
          ],
          [
           "Asparagus"
          ],
          [
           "Asparagus"
          ],
          [
           "Asparagus"
          ],
          [
           "Asparagus"
          ],
          [
           "Asparagus"
          ],
          [
           "Asparagus"
          ],
          [
           "Asparagus"
          ],
          [
           "Asparagus"
          ],
          [
           "Asparagus"
          ],
          [
           "Asparagus"
          ],
          [
           "Asparagus"
          ],
          [
           "Asparagus"
          ],
          [
           "Asparagus"
          ],
          [
           "Asparagus"
          ],
          [
           "Asparagus"
          ],
          [
           "Asparagus"
          ],
          [
           "Asparagus"
          ],
          [
           "Asparagus"
          ],
          [
           "Asparagus"
          ],
          [
           "Asparagus"
          ],
          [
           "Asparagus"
          ],
          [
           "Asparagus"
          ],
          [
           "Asparagus"
          ],
          [
           "Asparagus"
          ],
          [
           "Asparagus"
          ],
          [
           "Asparagus"
          ],
          [
           "Asparagus"
          ],
          [
           "Asparagus"
          ],
          [
           "Asparagus"
          ],
          [
           "Asparagus"
          ],
          [
           "Asparagus"
          ],
          [
           "Asparagus"
          ],
          [
           "Asparagus"
          ],
          [
           "Asparagus"
          ],
          [
           "Asparagus"
          ],
          [
           "Asparagus"
          ],
          [
           "Asparagus"
          ],
          [
           "Asparagus"
          ],
          [
           "Asparagus"
          ],
          [
           "Asparagus"
          ],
          [
           "Asparagus"
          ],
          [
           "Asparagus"
          ],
          [
           "Asparagus"
          ],
          [
           "Asparagus"
          ],
          [
           "Asparagus"
          ],
          [
           "Asparagus"
          ],
          [
           "Asparagus"
          ],
          [
           "Asparagus"
          ],
          [
           "Asparagus"
          ],
          [
           "Asparagus"
          ],
          [
           "Asparagus"
          ],
          [
           "Asparagus"
          ],
          [
           "Asparagus"
          ],
          [
           "Asparagus"
          ],
          [
           "Asparagus"
          ],
          [
           "Asparagus"
          ],
          [
           "Asparagus"
          ],
          [
           "Asparagus"
          ],
          [
           "Asparagus"
          ],
          [
           "Asparagus"
          ],
          [
           "Asparagus"
          ],
          [
           "Asparagus"
          ],
          [
           "Asparagus"
          ],
          [
           "Asparagus"
          ],
          [
           "Asparagus"
          ],
          [
           "Asparagus"
          ],
          [
           "Asparagus"
          ],
          [
           "Asparagus"
          ],
          [
           "Asparagus"
          ],
          [
           "Asparagus"
          ],
          [
           "Asparagus"
          ],
          [
           "Asparagus"
          ],
          [
           "Asparagus"
          ]
         ],
         "hovertemplate": "Name=%{customdata[0]}<br>pH Value=%{x}<br>Yield=%{y}<extra></extra>",
         "legendgroup": "Asparagus",
         "marker": {
          "color": "#00cc96",
          "symbol": "circle"
         },
         "mode": "markers",
         "name": "Asparagus",
         "orientation": "v",
         "showlegend": true,
         "type": "scatter",
         "x": [
          6.333328207777506,
          6.315938180314419,
          6.547196680979447,
          6.332921884941507,
          6.220687276903731,
          6.472413606991272,
          6.136324424558461,
          6.34136675451783,
          6.176083207827261,
          6.416865933373132,
          6.448880796863051,
          6.254349049347114,
          6.482419769122279,
          6.455786267353184,
          6.2043911253014405,
          6.4714527885577295,
          6.291061132247858,
          6.372543149311857,
          6.362030214198521,
          6.362052566565493,
          6.365297620048322,
          6.341135352039896,
          6.434369305926677,
          6.311718762795029,
          6.334893156406438,
          6.304686226963254,
          6.174816766018439,
          6.4286868644662425,
          6.29124755413777,
          6.391540447540423,
          6.407207012239407,
          6.2578084374017315,
          6.27572861357859,
          6.186618284020261,
          6.452585211944232,
          6.4480851569574975,
          6.309229866755448,
          6.3089859443429255,
          6.478395229501372,
          6.401826969195858,
          6.342569548365587,
          6.49434041365908,
          6.363573802516733,
          6.3681135562694235,
          6.33601671672538,
          6.423280026925513,
          6.467996846380509,
          6.295170224633808,
          6.50019560459161,
          6.4213190772890805,
          6.2371775316846945,
          6.3623593798622275,
          6.299874266167093,
          6.551024445030237,
          6.3421721239685125,
          6.249182727157861,
          6.303800653323112,
          6.061795551857509,
          6.301540351018397,
          6.37584022796147,
          6.415721378800168,
          6.2395859686609105,
          6.409018837810085,
          6.321915363044692,
          6.2878443407983875,
          6.301416149140415,
          6.332197069730482,
          6.4507114365428935,
          6.319785472166408,
          6.399124756123661,
          6.289183571520607,
          6.3450017297193115,
          6.495937477588512,
          6.4307578869116995,
          6.479897005349129,
          6.266233129587816,
          6.462052888916321,
          6.131337138539554,
          6.215991073292094,
          6.170309813143483,
          6.373817861019925,
          6.37861272300669,
          6.293638514159672,
          6.384171888646766,
          6.464353059615616,
          6.210949523613775,
          6.430671166015414,
          6.54796435737155,
          6.2681211458860595,
          6.403619878031727,
          6.669365196106549,
          6.175209721515434,
          6.27251807383359,
          6.2759779599980465,
          6.244896275512909,
          6.425165431818989,
          6.376077381514733,
          6.206223270829212,
          6.127283082168811,
          6.308508272153621
         ],
         "xaxis": "x",
         "y": [
          6.611789256392111,
          6.591324087370893,
          6.832073321776295,
          6.626778274408861,
          6.7443301776860425,
          6.838110339473676,
          6.45773435861889,
          6.564872857666331,
          6.6708609562811905,
          6.607872948008793,
          6.802812160057219,
          6.647591914155284,
          6.438006231694575,
          6.679336878226438,
          6.668082591676052,
          6.557810948006529,
          6.558143311118784,
          6.824578536568121,
          6.392781006416938,
          6.845477254245041,
          6.61522533584721,
          6.5767372161896995,
          7.010911385607304,
          6.450473291090452,
          6.450498800703884,
          6.612249025725,
          6.519736403454671,
          6.382362544327149,
          7.011923090838152,
          6.723599303369467,
          6.663704783900553,
          6.51916968098517,
          6.442372556209807,
          6.7314209432682945,
          6.496730707999709,
          6.473134692728826,
          6.595825196020316,
          6.899934394839626,
          6.603051026260682,
          6.181086203870798,
          6.682200671909099,
          6.880284939166689,
          6.576998548356004,
          6.732863368900132,
          6.784550484031069,
          6.902656873626429,
          6.789032275797326,
          6.516430796981014,
          6.570899827452221,
          6.691987644943499,
          6.614617669211206,
          6.459069238427209,
          6.596848532187635,
          6.548195714383837,
          6.523110806891983,
          6.8111570199235905,
          6.738587389724296,
          6.657041951193557,
          6.7270866675467555,
          6.575726460528708,
          6.8195149157532295,
          6.596152755773174,
          6.597278239741588,
          6.603032811619498,
          6.620779176629416,
          6.42926652612624,
          6.775731837580657,
          6.841789738542416,
          6.631311445200366,
          6.645811825724024,
          6.700502738062156,
          6.821699376711434,
          6.452272709796385,
          6.704194638545482,
          6.708407469043687,
          6.504133008965057,
          6.613776078799945,
          6.569256263851818,
          6.760682301184247,
          6.60311777317231,
          6.621230316547815,
          6.334817794191558,
          6.692569609092997,
          6.575012195579987,
          6.404897308842603,
          6.7415947502706475,
          6.75713920303334,
          6.831374759347907,
          6.488702503397849,
          6.292743667302765,
          6.3237529470506555,
          6.5990388522028685,
          6.3150574973046085,
          6.3915941298866015,
          6.854633121339222,
          6.64108664687968,
          6.992362296767459,
          6.589559988296405,
          6.783786722957206,
          6.820505277963559
         ],
         "yaxis": "y"
        },
        {
         "customdata": [
          [
           "Chilli Peppers"
          ],
          [
           "Chilli Peppers"
          ],
          [
           "Chilli Peppers"
          ],
          [
           "Chilli Peppers"
          ],
          [
           "Chilli Peppers"
          ],
          [
           "Chilli Peppers"
          ],
          [
           "Chilli Peppers"
          ],
          [
           "Chilli Peppers"
          ],
          [
           "Chilli Peppers"
          ],
          [
           "Chilli Peppers"
          ],
          [
           "Chilli Peppers"
          ],
          [
           "Chilli Peppers"
          ],
          [
           "Chilli Peppers"
          ],
          [
           "Chilli Peppers"
          ],
          [
           "Chilli Peppers"
          ],
          [
           "Chilli Peppers"
          ],
          [
           "Chilli Peppers"
          ],
          [
           "Chilli Peppers"
          ],
          [
           "Chilli Peppers"
          ],
          [
           "Chilli Peppers"
          ],
          [
           "Chilli Peppers"
          ],
          [
           "Chilli Peppers"
          ],
          [
           "Chilli Peppers"
          ],
          [
           "Chilli Peppers"
          ],
          [
           "Chilli Peppers"
          ],
          [
           "Chilli Peppers"
          ],
          [
           "Chilli Peppers"
          ],
          [
           "Chilli Peppers"
          ],
          [
           "Chilli Peppers"
          ],
          [
           "Chilli Peppers"
          ],
          [
           "Chilli Peppers"
          ],
          [
           "Chilli Peppers"
          ],
          [
           "Chilli Peppers"
          ],
          [
           "Chilli Peppers"
          ],
          [
           "Chilli Peppers"
          ],
          [
           "Chilli Peppers"
          ],
          [
           "Chilli Peppers"
          ],
          [
           "Chilli Peppers"
          ],
          [
           "Chilli Peppers"
          ],
          [
           "Chilli Peppers"
          ],
          [
           "Chilli Peppers"
          ],
          [
           "Chilli Peppers"
          ],
          [
           "Chilli Peppers"
          ],
          [
           "Chilli Peppers"
          ],
          [
           "Chilli Peppers"
          ],
          [
           "Chilli Peppers"
          ],
          [
           "Chilli Peppers"
          ],
          [
           "Chilli Peppers"
          ],
          [
           "Chilli Peppers"
          ],
          [
           "Chilli Peppers"
          ],
          [
           "Chilli Peppers"
          ],
          [
           "Chilli Peppers"
          ],
          [
           "Chilli Peppers"
          ],
          [
           "Chilli Peppers"
          ],
          [
           "Chilli Peppers"
          ],
          [
           "Chilli Peppers"
          ],
          [
           "Chilli Peppers"
          ],
          [
           "Chilli Peppers"
          ],
          [
           "Chilli Peppers"
          ],
          [
           "Chilli Peppers"
          ],
          [
           "Chilli Peppers"
          ],
          [
           "Chilli Peppers"
          ],
          [
           "Chilli Peppers"
          ],
          [
           "Chilli Peppers"
          ],
          [
           "Chilli Peppers"
          ],
          [
           "Chilli Peppers"
          ],
          [
           "Chilli Peppers"
          ],
          [
           "Chilli Peppers"
          ],
          [
           "Chilli Peppers"
          ],
          [
           "Chilli Peppers"
          ],
          [
           "Chilli Peppers"
          ],
          [
           "Chilli Peppers"
          ],
          [
           "Chilli Peppers"
          ],
          [
           "Chilli Peppers"
          ],
          [
           "Chilli Peppers"
          ],
          [
           "Chilli Peppers"
          ],
          [
           "Chilli Peppers"
          ],
          [
           "Chilli Peppers"
          ],
          [
           "Chilli Peppers"
          ],
          [
           "Chilli Peppers"
          ],
          [
           "Chilli Peppers"
          ],
          [
           "Chilli Peppers"
          ],
          [
           "Chilli Peppers"
          ],
          [
           "Chilli Peppers"
          ],
          [
           "Chilli Peppers"
          ],
          [
           "Chilli Peppers"
          ],
          [
           "Chilli Peppers"
          ],
          [
           "Chilli Peppers"
          ],
          [
           "Chilli Peppers"
          ],
          [
           "Chilli Peppers"
          ],
          [
           "Chilli Peppers"
          ],
          [
           "Chilli Peppers"
          ],
          [
           "Chilli Peppers"
          ],
          [
           "Chilli Peppers"
          ],
          [
           "Chilli Peppers"
          ],
          [
           "Chilli Peppers"
          ],
          [
           "Chilli Peppers"
          ],
          [
           "Chilli Peppers"
          ],
          [
           "Chilli Peppers"
          ],
          [
           "Chilli Peppers"
          ]
         ],
         "hovertemplate": "Name=%{customdata[0]}<br>pH Value=%{x}<br>Yield=%{y}<extra></extra>",
         "legendgroup": "Chilli Peppers",
         "marker": {
          "color": "#ab63fa",
          "symbol": "circle"
         },
         "mode": "markers",
         "name": "Chilli Peppers",
         "orientation": "v",
         "showlegend": true,
         "type": "scatter",
         "x": [
          6.0398859244600445,
          6.337569427451722,
          5.7938718146842385,
          6.21440654316916,
          5.9632161976580695,
          6.013587707585598,
          5.967261502263976,
          6.332802960405204,
          6.315343461419313,
          6.191245705033955,
          6.250124564966959,
          6.350096627602627,
          6.1470961978277145,
          6.369004206146251,
          5.811111264440971,
          6.490540335350283,
          6.475360364677981,
          6.125713506862066,
          6.42249400119435,
          6.074329356970744,
          6.072893765181798,
          6.454031061983127,
          5.876313562029688,
          6.072319796974188,
          6.2732796079806095,
          6.158937490145298,
          6.089329150736104,
          5.828601324740225,
          5.898671012661975,
          6.123860307412728,
          6.549894659832789,
          6.3802154768722685,
          6.007566196774089,
          5.939493427171303,
          6.330561155685045,
          6.208965771280943,
          5.847004579978537,
          6.335066082314304,
          6.041143166139384,
          6.049072642419863,
          6.27876729395889,
          5.967250957651142,
          6.1703438366277945,
          6.3378747254809875,
          6.45714308169033,
          6.354517596324176,
          6.524279214543293,
          6.185132738476234,
          6.305151512711071,
          6.144601206035877,
          6.042953958921638,
          5.843332459770601,
          6.092973993955239,
          6.290852261070889,
          6.077952709619809,
          5.7945435599535555,
          5.880632273729078,
          6.032325095427728,
          5.929245121109909,
          6.144224672346744,
          6.13958638716522,
          6.0097264432038795,
          6.268687938470507,
          6.162849310786792,
          6.249674080565111,
          6.372875830904775,
          6.283057300490298,
          5.727541723494797,
          5.891818491232893,
          6.220943839490084,
          5.9854286274311,
          6.327658293674174,
          6.348697888126982,
          6.216944288507574,
          6.078570740957586,
          6.349708349166843,
          6.0836134526662144,
          6.1500551910118855,
          6.019790802430384,
          6.353966375286867,
          6.574241855397149,
          6.24797593990491,
          6.569093669368993,
          6.1866656311074975,
          6.21066718297623,
          6.080061874339413,
          6.252329119473992,
          5.886890342396916,
          6.141411164314913,
          6.323499565693074,
          6.298416527053127,
          5.8310880136748,
          5.971729883432594,
          5.8790812450961205,
          6.221264112097096,
          5.908673058619847,
          5.980129807330574,
          6.048490457222971,
          6.428534730422725,
          6.107375047602327
         ],
         "xaxis": "x",
         "y": [
          24.82546239203023,
          24.65581614162401,
          24.793420732485863,
          24.593969692699662,
          24.937961923886665,
          24.69022741602702,
          24.864661937578884,
          24.82677399169064,
          24.90809799332003,
          25.00099767856864,
          24.928898182567213,
          24.936919144632967,
          24.801021312242906,
          24.778722361133784,
          24.929604792979497,
          24.689411425376253,
          25.036831951615053,
          25.053489587342764,
          24.96962139519749,
          25.00601945272365,
          24.70953426374226,
          24.785169837246933,
          24.702234867042176,
          24.80417716241206,
          24.894810501522787,
          24.798371832819527,
          25.030407724442156,
          25.07383709198996,
          24.859174061141317,
          24.852326896889533,
          24.997173610063697,
          24.4977182031969,
          24.97756859620556,
          24.588149625097643,
          24.851658287754592,
          24.70419127300272,
          24.75659005801032,
          24.824309202308772,
          24.626540487034685,
          24.694798991044586,
          24.7216553578295,
          24.75454051653653,
          24.71711200955486,
          24.96810697125825,
          24.913642381705735,
          24.66776723030313,
          24.768190093098255,
          24.88944808395794,
          24.90645758000879,
          24.77397327302847,
          24.780881955169644,
          24.73997171282597,
          24.847804567168733,
          24.655571890026348,
          24.544155058734177,
          24.843122765501104,
          24.62813264576274,
          24.78639480677822,
          24.6804121604126,
          25.159665210145153,
          25.094856379674347,
          24.783370918182825,
          24.71522510956203,
          24.795532757720547,
          24.83511888701085,
          24.894705500628294,
          24.627006866648877,
          24.834616078955772,
          24.809499795231712,
          24.730451391005857,
          24.76204946998257,
          24.715108706553885,
          24.85620832201552,
          24.969864520534585,
          24.664161377858484,
          24.623945831733327,
          25.040272791102502,
          24.95867255979463,
          25.087846918432533,
          24.72175573347404,
          24.666709847591157,
          24.81064799016673,
          24.89958540510135,
          24.821880914607735,
          24.81421955593096,
          24.998103738445295,
          24.855918581548288,
          24.894880444732273,
          24.93568880204059,
          24.86946461045773,
          24.399321286996024,
          25.001719266506644,
          24.92888049774775,
          24.539818673674898,
          24.74014462823476,
          24.57395486752295,
          24.487455398574877,
          24.781929394088365,
          24.819867733539468,
          24.83571077205093
         ],
         "yaxis": "y"
        },
        {
         "customdata": [
          [
           "Cabbage"
          ],
          [
           "Cabbage"
          ],
          [
           "Cabbage"
          ],
          [
           "Cabbage"
          ],
          [
           "Cabbage"
          ],
          [
           "Cabbage"
          ],
          [
           "Cabbage"
          ],
          [
           "Cabbage"
          ],
          [
           "Cabbage"
          ],
          [
           "Cabbage"
          ],
          [
           "Cabbage"
          ],
          [
           "Cabbage"
          ],
          [
           "Cabbage"
          ],
          [
           "Cabbage"
          ],
          [
           "Cabbage"
          ],
          [
           "Cabbage"
          ],
          [
           "Cabbage"
          ],
          [
           "Cabbage"
          ],
          [
           "Cabbage"
          ],
          [
           "Cabbage"
          ],
          [
           "Cabbage"
          ],
          [
           "Cabbage"
          ],
          [
           "Cabbage"
          ],
          [
           "Cabbage"
          ],
          [
           "Cabbage"
          ],
          [
           "Cabbage"
          ],
          [
           "Cabbage"
          ],
          [
           "Cabbage"
          ],
          [
           "Cabbage"
          ],
          [
           "Cabbage"
          ],
          [
           "Cabbage"
          ],
          [
           "Cabbage"
          ],
          [
           "Cabbage"
          ],
          [
           "Cabbage"
          ],
          [
           "Cabbage"
          ],
          [
           "Cabbage"
          ],
          [
           "Cabbage"
          ],
          [
           "Cabbage"
          ],
          [
           "Cabbage"
          ],
          [
           "Cabbage"
          ],
          [
           "Cabbage"
          ],
          [
           "Cabbage"
          ],
          [
           "Cabbage"
          ],
          [
           "Cabbage"
          ],
          [
           "Cabbage"
          ],
          [
           "Cabbage"
          ],
          [
           "Cabbage"
          ],
          [
           "Cabbage"
          ],
          [
           "Cabbage"
          ],
          [
           "Cabbage"
          ],
          [
           "Cabbage"
          ],
          [
           "Cabbage"
          ],
          [
           "Cabbage"
          ],
          [
           "Cabbage"
          ],
          [
           "Cabbage"
          ],
          [
           "Cabbage"
          ],
          [
           "Cabbage"
          ],
          [
           "Cabbage"
          ],
          [
           "Cabbage"
          ],
          [
           "Cabbage"
          ],
          [
           "Cabbage"
          ],
          [
           "Cabbage"
          ],
          [
           "Cabbage"
          ],
          [
           "Cabbage"
          ],
          [
           "Cabbage"
          ],
          [
           "Cabbage"
          ],
          [
           "Cabbage"
          ],
          [
           "Cabbage"
          ],
          [
           "Cabbage"
          ],
          [
           "Cabbage"
          ],
          [
           "Cabbage"
          ],
          [
           "Cabbage"
          ],
          [
           "Cabbage"
          ],
          [
           "Cabbage"
          ],
          [
           "Cabbage"
          ],
          [
           "Cabbage"
          ],
          [
           "Cabbage"
          ],
          [
           "Cabbage"
          ],
          [
           "Cabbage"
          ],
          [
           "Cabbage"
          ],
          [
           "Cabbage"
          ],
          [
           "Cabbage"
          ],
          [
           "Cabbage"
          ],
          [
           "Cabbage"
          ],
          [
           "Cabbage"
          ],
          [
           "Cabbage"
          ],
          [
           "Cabbage"
          ],
          [
           "Cabbage"
          ],
          [
           "Cabbage"
          ],
          [
           "Cabbage"
          ],
          [
           "Cabbage"
          ],
          [
           "Cabbage"
          ],
          [
           "Cabbage"
          ],
          [
           "Cabbage"
          ],
          [
           "Cabbage"
          ],
          [
           "Cabbage"
          ],
          [
           "Cabbage"
          ],
          [
           "Cabbage"
          ],
          [
           "Cabbage"
          ],
          [
           "Cabbage"
          ]
         ],
         "hovertemplate": "Name=%{customdata[0]}<br>pH Value=%{x}<br>Yield=%{y}<extra></extra>",
         "legendgroup": "Cabbage",
         "marker": {
          "color": "#FFA15A",
          "symbol": "circle"
         },
         "mode": "markers",
         "name": "Cabbage",
         "orientation": "v",
         "showlegend": true,
         "type": "scatter",
         "x": [
          6.385355375509659,
          6.748788788030769,
          6.3948615974103555,
          6.911099476247329,
          6.939254236257492,
          6.6916027453754685,
          6.477025396409002,
          6.646394017274576,
          6.725032121276055,
          6.742279555630226,
          6.9355660740815654,
          6.736338042288466,
          6.638805623161218,
          6.7909222764546096,
          6.822217868390277,
          6.570806058875597,
          6.830876975398288,
          7.3321213072301825,
          6.9553890529528255,
          7.1407906376340415,
          6.5640326814400485,
          6.729041038900212,
          6.472341346297691,
          6.501417865646015,
          7.266047187834625,
          6.890479330627571,
          6.655212038884097,
          7.0056299256476615,
          6.650864425758275,
          6.9075424281885125,
          6.898482768028397,
          6.524948218820408,
          7.050872277337096,
          6.959037499858497,
          6.659731933469216,
          7.154046876440019,
          6.909174016807238,
          6.8344433538690454,
          6.640807304114269,
          7.014465514611382,
          6.273598029019467,
          6.700030995000524,
          6.985914017762374,
          6.454235943983535,
          6.973373757877326,
          6.564664771865509,
          6.551043855408391,
          6.694703287737422,
          6.80787659951291,
          6.6653150648814545,
          6.636218812643123,
          6.310823709075308,
          6.858283644567229,
          7.146983847120062,
          6.719811442962381,
          7.001472938204134,
          6.877607935210849,
          6.6298441708653915,
          6.900986969284664,
          6.3960698126749005,
          7.148272701687108,
          6.560632576110622,
          6.74856140915059,
          6.827688647829192,
          6.731982820879467,
          6.459430518598079,
          6.804652838834497,
          6.717406467622156,
          7.236371971094558,
          6.740641574936824,
          6.860439665731813,
          6.557667259797632,
          7.015313785464396,
          6.896827833586684,
          7.103248922568758,
          6.849126741652095,
          6.511081474252256,
          6.658415310440151,
          6.099313752781967,
          6.392875109509112,
          6.384912921664085,
          6.288142368358283,
          6.805303927190447,
          7.042809024063189,
          7.054456066665754,
          6.955826170539048,
          6.745328628333704,
          6.601285894170971,
          7.148858057536778,
          6.4512739058266435,
          7.228281936051239,
          6.746025859159481,
          6.395737561601779,
          6.93041355784311,
          6.838868646661046,
          6.897675150215617,
          6.797958477260497,
          6.089276296249338,
          6.672450009349975,
          6.990853195466206
         ],
         "xaxis": "x",
         "y": [
          18.878988775100435,
          18.89870191751753,
          18.986262700550533,
          18.695047521270947,
          18.921789934070265,
          18.918834020187205,
          19.08099725571625,
          19.007605504857807,
          19.15453261449579,
          19.179598925302788,
          18.93815955909269,
          19.05743805471193,
          19.3802823599509,
          18.810015945426123,
          19.08671239025384,
          18.664659524052137,
          19.030293765344805,
          18.789541339221003,
          19.21936719111484,
          18.971626636306727,
          18.772954885296784,
          18.646240355575316,
          19.21612575214083,
          19.359396742402215,
          19.02825384795329,
          18.88645188224942,
          18.6463791035138,
          18.796624430475173,
          19.14068427578167,
          19.237919364709303,
          18.71922224786078,
          18.984280074068344,
          19.079219727918968,
          19.002992997722057,
          18.586898663955623,
          19.10205175007094,
          19.00548716857729,
          19.167264842185116,
          18.662551528795372,
          19.250429475137576,
          19.119880164116715,
          19.07063558917648,
          18.824500676768828,
          18.62310358522554,
          19.0201600280995,
          18.805294493253538,
          19.143459156251044,
          18.87879912939003,
          18.90180356091952,
          19.098985100077645,
          19.226755374703657,
          19.056794649431197,
          18.862535612425745,
          18.60082535113095,
          19.04832463716048,
          18.71186583843491,
          18.77561448123928,
          18.610689333409223,
          18.93883929885428,
          18.92951710311828,
          18.94193993523088,
          18.882224633597332,
          19.129103920471852,
          18.91944346448403,
          18.80714768870264,
          19.444515610443744,
          19.28938292303503,
          18.65552084755378,
          18.941798091473977,
          18.75595513618472,
          18.911127255255604,
          18.907516923036372,
          18.995104672593328,
          18.98800132465391,
          19.076194304670743,
          18.980388627780027,
          19.11411178346009,
          18.943761363142247,
          18.81959039402791,
          19.12192621071721,
          18.847085177506745,
          19.19206584890661,
          18.65772339609443,
          18.956719680080592,
          19.276461366101305,
          18.90327104810585,
          18.80830573321883,
          18.858606757921564,
          18.99080404965414,
          18.984570200979743,
          18.968642827982844,
          19.252256925538155,
          19.027631187723912,
          18.864357411934336,
          19.0782272124451,
          19.43387313796324,
          19.197943670391872,
          19.33295088597519,
          19.275640858880188,
          18.948146665165982
         ],
         "yaxis": "y"
        },
        {
         "customdata": [
          [
           "Cucumbers"
          ],
          [
           "Cucumbers"
          ],
          [
           "Cucumbers"
          ],
          [
           "Cucumbers"
          ],
          [
           "Cucumbers"
          ],
          [
           "Cucumbers"
          ],
          [
           "Cucumbers"
          ],
          [
           "Cucumbers"
          ],
          [
           "Cucumbers"
          ],
          [
           "Cucumbers"
          ],
          [
           "Cucumbers"
          ],
          [
           "Cucumbers"
          ],
          [
           "Cucumbers"
          ],
          [
           "Cucumbers"
          ],
          [
           "Cucumbers"
          ],
          [
           "Cucumbers"
          ],
          [
           "Cucumbers"
          ],
          [
           "Cucumbers"
          ],
          [
           "Cucumbers"
          ],
          [
           "Cucumbers"
          ],
          [
           "Cucumbers"
          ],
          [
           "Cucumbers"
          ],
          [
           "Cucumbers"
          ],
          [
           "Cucumbers"
          ],
          [
           "Cucumbers"
          ],
          [
           "Cucumbers"
          ],
          [
           "Cucumbers"
          ],
          [
           "Cucumbers"
          ],
          [
           "Cucumbers"
          ],
          [
           "Cucumbers"
          ],
          [
           "Cucumbers"
          ],
          [
           "Cucumbers"
          ],
          [
           "Cucumbers"
          ],
          [
           "Cucumbers"
          ],
          [
           "Cucumbers"
          ],
          [
           "Cucumbers"
          ],
          [
           "Cucumbers"
          ],
          [
           "Cucumbers"
          ],
          [
           "Cucumbers"
          ],
          [
           "Cucumbers"
          ],
          [
           "Cucumbers"
          ],
          [
           "Cucumbers"
          ],
          [
           "Cucumbers"
          ],
          [
           "Cucumbers"
          ],
          [
           "Cucumbers"
          ],
          [
           "Cucumbers"
          ],
          [
           "Cucumbers"
          ],
          [
           "Cucumbers"
          ],
          [
           "Cucumbers"
          ],
          [
           "Cucumbers"
          ],
          [
           "Cucumbers"
          ],
          [
           "Cucumbers"
          ],
          [
           "Cucumbers"
          ],
          [
           "Cucumbers"
          ],
          [
           "Cucumbers"
          ],
          [
           "Cucumbers"
          ],
          [
           "Cucumbers"
          ],
          [
           "Cucumbers"
          ],
          [
           "Cucumbers"
          ],
          [
           "Cucumbers"
          ],
          [
           "Cucumbers"
          ],
          [
           "Cucumbers"
          ],
          [
           "Cucumbers"
          ],
          [
           "Cucumbers"
          ],
          [
           "Cucumbers"
          ],
          [
           "Cucumbers"
          ],
          [
           "Cucumbers"
          ],
          [
           "Cucumbers"
          ],
          [
           "Cucumbers"
          ],
          [
           "Cucumbers"
          ],
          [
           "Cucumbers"
          ],
          [
           "Cucumbers"
          ],
          [
           "Cucumbers"
          ],
          [
           "Cucumbers"
          ],
          [
           "Cucumbers"
          ],
          [
           "Cucumbers"
          ],
          [
           "Cucumbers"
          ],
          [
           "Cucumbers"
          ],
          [
           "Cucumbers"
          ],
          [
           "Cucumbers"
          ],
          [
           "Cucumbers"
          ],
          [
           "Cucumbers"
          ],
          [
           "Cucumbers"
          ],
          [
           "Cucumbers"
          ],
          [
           "Cucumbers"
          ],
          [
           "Cucumbers"
          ],
          [
           "Cucumbers"
          ],
          [
           "Cucumbers"
          ],
          [
           "Cucumbers"
          ],
          [
           "Cucumbers"
          ],
          [
           "Cucumbers"
          ],
          [
           "Cucumbers"
          ],
          [
           "Cucumbers"
          ],
          [
           "Cucumbers"
          ],
          [
           "Cucumbers"
          ],
          [
           "Cucumbers"
          ],
          [
           "Cucumbers"
          ],
          [
           "Cucumbers"
          ],
          [
           "Cucumbers"
          ],
          [
           "Cucumbers"
          ]
         ],
         "hovertemplate": "Name=%{customdata[0]}<br>pH Value=%{x}<br>Yield=%{y}<extra></extra>",
         "legendgroup": "Cucumbers",
         "marker": {
          "color": "#19d3f3",
          "symbol": "circle"
         },
         "mode": "markers",
         "name": "Cucumbers",
         "orientation": "v",
         "showlegend": true,
         "type": "scatter",
         "x": [
          7.016180221576334,
          6.729390541885412,
          6.828930144988795,
          7.001877962644977,
          6.649353906449201,
          6.695618928452758,
          6.449178886944847,
          6.7537890186059135,
          6.7107420509002305,
          6.792057096841023,
          6.714646832706653,
          6.629994169241441,
          7.130028135058731,
          6.887491029180755,
          6.312989157010871,
          6.289927576227934,
          6.660102405309392,
          6.930231251760527,
          6.983497268993796,
          6.808380126208356,
          6.136454135203407,
          6.789210643586466,
          6.642020608645615,
          6.511662278924594,
          6.9617749030462726,
          7.021424364286621,
          6.799167175231316,
          6.87040350887293,
          6.829419633916347,
          6.579933188074771,
          7.227691882089225,
          6.904687755608527,
          6.878094323544458,
          6.425534258295481,
          7.061112103068621,
          7.30692688868294,
          6.161627832880356,
          6.545727286566192,
          6.402678806072329,
          7.22891950990271,
          7.344963199113697,
          6.315521363255753,
          6.472758256321327,
          6.301421549955583,
          6.903169424433055,
          6.774493797902163,
          6.87083031300444,
          7.0340141640672975,
          6.901763270341944,
          6.568858747085636,
          6.6218634697744445,
          6.707469128647917,
          7.397804928442304,
          6.68858913430252,
          6.555881328321503,
          6.64470499361833,
          6.87235476566412,
          6.606528335448637,
          6.245286920969737,
          6.56862516406422,
          6.47043418730798,
          6.946414975289484,
          6.787372519033089,
          6.786775658841915,
          6.645597668962671,
          6.753140811808752,
          6.474065450665475,
          6.6623778307164505,
          6.631173523985084,
          7.237712475724275,
          6.492592304048868,
          6.436603227771927,
          6.9811321748763895,
          6.971075397857457,
          7.037597799164812,
          6.6410429986509225,
          6.342249943813836,
          6.76092776404098,
          6.603144800851046,
          6.723613722873037,
          6.546212956539332,
          6.888040231605528,
          7.008711340988215,
          6.645971074805625,
          6.812563319691404,
          6.445428024516247,
          6.339091471032463,
          7.073052564480798,
          6.6438291225014625,
          6.660310160763541,
          7.0922185844038905,
          6.652015971417916,
          6.722137406947376,
          7.007052400398771,
          6.702879303635239,
          6.539837712063886,
          6.654449879857102,
          6.988668187634172,
          6.7913661978442486,
          6.885320371929399
         ],
         "xaxis": "x",
         "y": [
          28.23643967178276,
          28.09154201204898,
          29.150084721934867,
          28.730088024170534,
          27.62846099464229,
          29.501000074985505,
          28.666569722538956,
          29.335936739014965,
          29.50723788141208,
          29.77575935571881,
          29.65259520571032,
          29.643813609191724,
          27.62119476877116,
          29.128781681981483,
          28.25862284188455,
          29.269518356249744,
          28.53147917340276,
          28.250484275982153,
          28.360286226472947,
          28.275381017814397,
          28.04770433911257,
          28.330128488943785,
          29.140352415069703,
          28.549161894317734,
          29.040607871442106,
          29.29636515437458,
          30.83742729137948,
          27.769542340727806,
          28.870151304908468,
          29.326451541878686,
          28.17421485010488,
          29.137327576845312,
          28.245611996009984,
          28.257530403608747,
          28.44325254612659,
          28.19372826746204,
          28.857048250892017,
          29.570954919011843,
          29.559909662376324,
          29.433165079971992,
          28.46641838092959,
          29.34855449445128,
          28.93148969595469,
          29.45590490932584,
          29.72544924644707,
          28.59612744897709,
          28.78331345105923,
          28.62666174799687,
          28.849459688694,
          29.714793669774984,
          29.4956515773755,
          28.923291394880295,
          29.798724430437552,
          29.899899831530877,
          28.3747570777766,
          28.31583350900007,
          29.516046762738252,
          29.50018791824013,
          28.78153020690736,
          27.418166967013267,
          28.353379007067513,
          29.721218398781826,
          29.070100098741925,
          30.157776616325144,
          29.232836941823408,
          29.307089843571397,
          30.068767188920106,
          28.2380316265714,
          30.16041040246957,
          28.75053483733112,
          28.658454451215174,
          28.53241140857398,
          28.473289438682052,
          27.76432259248279,
          29.300874147300977,
          29.413403861093258,
          29.05001866454325,
          28.15523244853177,
          29.30690705343728,
          29.423928068271348,
          30.547369884418437,
          27.99700329762984,
          28.166886197852246,
          29.736538284096863,
          29.62544031015687,
          27.393131968267394,
          28.322984493199055,
          28.41298892555426,
          29.19616473616928,
          27.728016257842793,
          29.019162610315465,
          27.7116291125239,
          28.406601843148,
          28.529682078925003,
          28.62403509879085,
          28.93017804857542,
          28.048045921201748,
          28.20334750350235,
          30.334782612790217,
          29.597039281255103
         ],
         "yaxis": "y"
        },
        {
         "customdata": [
          [
           "Potatoes"
          ],
          [
           "Potatoes"
          ],
          [
           "Potatoes"
          ],
          [
           "Potatoes"
          ],
          [
           "Potatoes"
          ],
          [
           "Potatoes"
          ],
          [
           "Potatoes"
          ],
          [
           "Potatoes"
          ],
          [
           "Potatoes"
          ],
          [
           "Potatoes"
          ],
          [
           "Potatoes"
          ],
          [
           "Potatoes"
          ],
          [
           "Potatoes"
          ],
          [
           "Potatoes"
          ],
          [
           "Potatoes"
          ],
          [
           "Potatoes"
          ],
          [
           "Potatoes"
          ],
          [
           "Potatoes"
          ],
          [
           "Potatoes"
          ],
          [
           "Potatoes"
          ],
          [
           "Potatoes"
          ],
          [
           "Potatoes"
          ],
          [
           "Potatoes"
          ],
          [
           "Potatoes"
          ],
          [
           "Potatoes"
          ],
          [
           "Potatoes"
          ],
          [
           "Potatoes"
          ],
          [
           "Potatoes"
          ],
          [
           "Potatoes"
          ],
          [
           "Potatoes"
          ],
          [
           "Potatoes"
          ],
          [
           "Potatoes"
          ],
          [
           "Potatoes"
          ],
          [
           "Potatoes"
          ],
          [
           "Potatoes"
          ],
          [
           "Potatoes"
          ],
          [
           "Potatoes"
          ],
          [
           "Potatoes"
          ],
          [
           "Potatoes"
          ],
          [
           "Potatoes"
          ],
          [
           "Potatoes"
          ],
          [
           "Potatoes"
          ],
          [
           "Potatoes"
          ],
          [
           "Potatoes"
          ],
          [
           "Potatoes"
          ],
          [
           "Potatoes"
          ],
          [
           "Potatoes"
          ],
          [
           "Potatoes"
          ],
          [
           "Potatoes"
          ],
          [
           "Potatoes"
          ],
          [
           "Potatoes"
          ],
          [
           "Potatoes"
          ],
          [
           "Potatoes"
          ],
          [
           "Potatoes"
          ],
          [
           "Potatoes"
          ],
          [
           "Potatoes"
          ],
          [
           "Potatoes"
          ],
          [
           "Potatoes"
          ],
          [
           "Potatoes"
          ],
          [
           "Potatoes"
          ],
          [
           "Potatoes"
          ],
          [
           "Potatoes"
          ],
          [
           "Potatoes"
          ],
          [
           "Potatoes"
          ],
          [
           "Potatoes"
          ],
          [
           "Potatoes"
          ],
          [
           "Potatoes"
          ],
          [
           "Potatoes"
          ],
          [
           "Potatoes"
          ],
          [
           "Potatoes"
          ],
          [
           "Potatoes"
          ],
          [
           "Potatoes"
          ],
          [
           "Potatoes"
          ],
          [
           "Potatoes"
          ],
          [
           "Potatoes"
          ],
          [
           "Potatoes"
          ],
          [
           "Potatoes"
          ],
          [
           "Potatoes"
          ],
          [
           "Potatoes"
          ],
          [
           "Potatoes"
          ],
          [
           "Potatoes"
          ],
          [
           "Potatoes"
          ],
          [
           "Potatoes"
          ],
          [
           "Potatoes"
          ],
          [
           "Potatoes"
          ],
          [
           "Potatoes"
          ],
          [
           "Potatoes"
          ],
          [
           "Potatoes"
          ],
          [
           "Potatoes"
          ],
          [
           "Potatoes"
          ],
          [
           "Potatoes"
          ],
          [
           "Potatoes"
          ],
          [
           "Potatoes"
          ],
          [
           "Potatoes"
          ],
          [
           "Potatoes"
          ],
          [
           "Potatoes"
          ],
          [
           "Potatoes"
          ],
          [
           "Potatoes"
          ],
          [
           "Potatoes"
          ],
          [
           "Potatoes"
          ]
         ],
         "hovertemplate": "Name=%{customdata[0]}<br>pH Value=%{x}<br>Yield=%{y}<extra></extra>",
         "legendgroup": "Potatoes",
         "marker": {
          "color": "#FF6692",
          "symbol": "circle"
         },
         "mode": "markers",
         "name": "Potatoes",
         "orientation": "v",
         "showlegend": true,
         "type": "scatter",
         "x": [
          5.489641599436145,
          5.607163877215474,
          5.750622669305537,
          5.397219518163287,
          5.36019812159831,
          5.5977311563909575,
          5.484760995943803,
          5.496241523935964,
          5.667117872598788,
          5.664505483133733,
          5.427778177499323,
          5.763566965118239,
          5.432391716970969,
          5.455724622942601,
          5.303755059635268,
          5.684949130877423,
          5.4847052153104885,
          5.6658154570623065,
          5.564876904725916,
          5.614071353192289,
          5.633030260028252,
          5.708400731465985,
          4.972318352965987,
          5.924761047958345,
          5.35033319616113,
          5.613804612761141,
          5.642938813382818,
          5.967163187976419,
          5.6239736853997195,
          5.576598884455958,
          5.827680748700938,
          5.535201374956247,
          5.956863321896389,
          5.608018968052477,
          5.600330627889784,
          5.776127961561237,
          5.10484456766284,
          5.259239424480198,
          5.793630048431022,
          5.742284699973439,
          5.512589528919268,
          5.547307506565344,
          5.5320660785635765,
          5.287245242088713,
          5.618411088578088,
          5.708286377222802,
          5.541787520432974,
          5.602368959122847,
          6.106140074587144,
          5.634451522700543,
          5.860825336846635,
          5.610801060979216,
          5.94368548090707,
          5.5389170558236005,
          5.804839915216805,
          5.571668184374842,
          5.924179130569139,
          5.644816393243352,
          5.361685064231251,
          5.539416028227433,
          5.660870438420673,
          5.549568768002326,
          5.478204216356257,
          5.857554715285122,
          5.574462479223896,
          5.657634218622403,
          5.810175500643174,
          5.451336390131863,
          5.47918443221863,
          5.660566669254259,
          5.6423747245442835,
          5.529679480707256,
          5.831050054168586,
          5.8442659340559855,
          5.116695236848157,
          5.446064227491023,
          5.5677486397228,
          5.5604943869186005,
          5.687392509581273,
          5.698380462975093,
          5.614406966710083,
          5.357224352953048,
          5.569469907962449,
          5.558602591380713,
          5.98742825665604,
          5.689358179048682,
          5.1043088751609424,
          5.685563952949768,
          5.361317384920638,
          5.561799289238231,
          5.621305338654691,
          5.5050437777352546,
          4.869373458129565,
          5.815287993251383,
          5.896593101532483,
          5.52667750231022,
          5.708178116249435,
          5.349820242047349,
          5.513742016584853,
          5.484673501151429
         ],
         "xaxis": "x",
         "y": [
          28.62815861396516,
          29.756156928841097,
          28.87981463203956,
          29.460106434267768,
          29.311625803216295,
          29.1479459887747,
          29.117895680461416,
          28.997373664286343,
          29.414220862076284,
          28.419104525743172,
          28.75976605667205,
          28.892324724883597,
          28.91321367686878,
          29.05042507545689,
          29.050350596548142,
          28.89318909386884,
          29.044727720033706,
          29.40271717296452,
          28.956869839623085,
          29.628781978861024,
          29.149057066416685,
          29.16450371418481,
          29.60997254224429,
          29.229645939341516,
          29.578960520139223,
          29.023176496724457,
          29.382832787992378,
          28.986590140672337,
          29.481189718415745,
          28.508658508923883,
          29.25587266107353,
          28.611692347233628,
          29.062703969561305,
          29.0700489945046,
          28.96624293551737,
          28.660174130157277,
          29.257491905720272,
          29.049738395095044,
          29.42438879164632,
          29.16481018159532,
          28.959293763397095,
          29.052045140888296,
          29.202186239010505,
          29.229025538241597,
          28.75011861139509,
          29.09153192505439,
          29.46956782287088,
          29.280627486980897,
          29.381074774751276,
          29.783794306843223,
          29.047924067013454,
          28.89156938834137,
          29.734406707365437,
          29.061722685084156,
          29.201769318997098,
          29.75979976962682,
          29.109082737106,
          30.28063471144076,
          29.092647767782196,
          29.55938258770469,
          29.48065336794638,
          29.38929834062117,
          29.70856016994713,
          28.72200015721554,
          29.16974704441851,
          29.86132343622114,
          29.16633122482065,
          29.334072932890283,
          29.35400546145636,
          28.886654675024268,
          29.308864099045053,
          29.242541498752946,
          28.924708941601335,
          28.9274625674776,
          29.837625138829292,
          29.074118708392735,
          29.014124039273938,
          29.501885386971633,
          29.220307182262076,
          28.895838988008663,
          29.083339473846287,
          28.78492597071224,
          28.87825991310767,
          29.74232367171003,
          29.503435337993817,
          28.981756087452656,
          29.03895369994667,
          29.06400357088233,
          29.69404246643686,
          28.9174622061695,
          29.34478835515576,
          29.553756250767982,
          28.693137955681348,
          29.098163203002077,
          29.093087419309256,
          29.48931172533101,
          29.007424299220556,
          28.71128379116381,
          28.849832870092424,
          29.147887693109244
         ],
         "yaxis": "y"
        },
        {
         "customdata": [
          [
           "Cauliflowers"
          ],
          [
           "Cauliflowers"
          ],
          [
           "Cauliflowers"
          ],
          [
           "Cauliflowers"
          ],
          [
           "Cauliflowers"
          ],
          [
           "Cauliflowers"
          ],
          [
           "Cauliflowers"
          ],
          [
           "Cauliflowers"
          ],
          [
           "Cauliflowers"
          ],
          [
           "Cauliflowers"
          ],
          [
           "Cauliflowers"
          ],
          [
           "Cauliflowers"
          ],
          [
           "Cauliflowers"
          ],
          [
           "Cauliflowers"
          ],
          [
           "Cauliflowers"
          ],
          [
           "Cauliflowers"
          ],
          [
           "Cauliflowers"
          ],
          [
           "Cauliflowers"
          ],
          [
           "Cauliflowers"
          ],
          [
           "Cauliflowers"
          ],
          [
           "Cauliflowers"
          ],
          [
           "Cauliflowers"
          ],
          [
           "Cauliflowers"
          ],
          [
           "Cauliflowers"
          ],
          [
           "Cauliflowers"
          ],
          [
           "Cauliflowers"
          ],
          [
           "Cauliflowers"
          ],
          [
           "Cauliflowers"
          ],
          [
           "Cauliflowers"
          ],
          [
           "Cauliflowers"
          ],
          [
           "Cauliflowers"
          ],
          [
           "Cauliflowers"
          ],
          [
           "Cauliflowers"
          ],
          [
           "Cauliflowers"
          ],
          [
           "Cauliflowers"
          ],
          [
           "Cauliflowers"
          ],
          [
           "Cauliflowers"
          ],
          [
           "Cauliflowers"
          ],
          [
           "Cauliflowers"
          ],
          [
           "Cauliflowers"
          ],
          [
           "Cauliflowers"
          ],
          [
           "Cauliflowers"
          ],
          [
           "Cauliflowers"
          ],
          [
           "Cauliflowers"
          ],
          [
           "Cauliflowers"
          ],
          [
           "Cauliflowers"
          ],
          [
           "Cauliflowers"
          ],
          [
           "Cauliflowers"
          ],
          [
           "Cauliflowers"
          ],
          [
           "Cauliflowers"
          ],
          [
           "Cauliflowers"
          ],
          [
           "Cauliflowers"
          ],
          [
           "Cauliflowers"
          ],
          [
           "Cauliflowers"
          ],
          [
           "Cauliflowers"
          ],
          [
           "Cauliflowers"
          ],
          [
           "Cauliflowers"
          ],
          [
           "Cauliflowers"
          ],
          [
           "Cauliflowers"
          ],
          [
           "Cauliflowers"
          ],
          [
           "Cauliflowers"
          ],
          [
           "Cauliflowers"
          ],
          [
           "Cauliflowers"
          ],
          [
           "Cauliflowers"
          ],
          [
           "Cauliflowers"
          ],
          [
           "Cauliflowers"
          ],
          [
           "Cauliflowers"
          ],
          [
           "Cauliflowers"
          ],
          [
           "Cauliflowers"
          ],
          [
           "Cauliflowers"
          ],
          [
           "Cauliflowers"
          ],
          [
           "Cauliflowers"
          ],
          [
           "Cauliflowers"
          ],
          [
           "Cauliflowers"
          ],
          [
           "Cauliflowers"
          ],
          [
           "Cauliflowers"
          ],
          [
           "Cauliflowers"
          ],
          [
           "Cauliflowers"
          ],
          [
           "Cauliflowers"
          ],
          [
           "Cauliflowers"
          ],
          [
           "Cauliflowers"
          ],
          [
           "Cauliflowers"
          ],
          [
           "Cauliflowers"
          ],
          [
           "Cauliflowers"
          ],
          [
           "Cauliflowers"
          ],
          [
           "Cauliflowers"
          ],
          [
           "Cauliflowers"
          ],
          [
           "Cauliflowers"
          ],
          [
           "Cauliflowers"
          ],
          [
           "Cauliflowers"
          ],
          [
           "Cauliflowers"
          ],
          [
           "Cauliflowers"
          ],
          [
           "Cauliflowers"
          ],
          [
           "Cauliflowers"
          ],
          [
           "Cauliflowers"
          ],
          [
           "Cauliflowers"
          ],
          [
           "Cauliflowers"
          ],
          [
           "Cauliflowers"
          ],
          [
           "Cauliflowers"
          ],
          [
           "Cauliflowers"
          ]
         ],
         "hovertemplate": "Name=%{customdata[0]}<br>pH Value=%{x}<br>Yield=%{y}<extra></extra>",
         "legendgroup": "Cauliflowers",
         "marker": {
          "color": "#B6E880",
          "symbol": "circle"
         },
         "mode": "markers",
         "name": "Cauliflowers",
         "orientation": "v",
         "showlegend": true,
         "type": "scatter",
         "x": [
          6.498677766983464,
          6.576398321098426,
          6.1727928577881315,
          6.410728020110371,
          6.736544462714785,
          6.715010346923417,
          6.309991356842688,
          6.868982936873466,
          6.425116831913881,
          6.691644664258692,
          6.458817638254651,
          6.612916716173259,
          6.529062510400999,
          6.7755841711365905,
          6.354511709233839,
          6.584559615432701,
          6.157056138926899,
          6.55931368423655,
          6.417954456150634,
          6.385687332013725,
          6.277556397095969,
          6.159243995888334,
          6.633533569256708,
          6.510299566475034,
          6.422826040483014,
          6.070727723582019,
          6.376491640774844,
          6.346670350370633,
          6.4468636150546335,
          6.567871283026355,
          6.475553770727361,
          6.37269132694892,
          6.659377549486523,
          6.603632232039697,
          6.444847115749897,
          6.36521617009128,
          6.422076930625844,
          6.264603598389167,
          6.65913877753799,
          6.554423658051366,
          6.2445344397890015,
          6.240280968621751,
          6.489098806060405,
          6.451551153862244,
          6.636598025199548,
          6.454596926990982,
          6.648761325402743,
          6.469520080403352,
          6.343369483265854,
          6.544365345852572,
          6.404397527432923,
          6.524941406784713,
          6.546078365595221,
          6.320770477063412,
          6.254214215351007,
          6.6616541296412315,
          6.765546265315426,
          6.858548158367226,
          6.624977095707335,
          6.302975757258772,
          6.806489171975933,
          6.631951782666845,
          6.66605510858915,
          6.686944361659492,
          6.351211797401313,
          6.728526930586082,
          6.433547905782512,
          6.285736291840882,
          6.788693879931739,
          6.655136249252752,
          6.097545051971406,
          6.46440948149497,
          6.472229192080055,
          6.555619536818435,
          6.752306942752592,
          6.6355405020990545,
          6.495469737393321,
          6.266633069227337,
          6.462024779499978,
          6.544769288725357,
          6.655317367953658,
          6.467399648983315,
          6.355633015251635,
          6.533201932746793,
          6.343457024132612,
          6.547841063464088,
          6.7073499000189605,
          6.311753051297173,
          6.619688575711441,
          6.651154658834737,
          6.417658582249591,
          6.69961399563537,
          6.427061257008531,
          6.393240974082862,
          6.196883954034813,
          6.792203336025077,
          6.464163260361075,
          6.425197684838999,
          6.5863089564880655,
          6.37119599740407
         ],
         "xaxis": "x",
         "y": [
          23.49116222941413,
          23.60599809134086,
          23.634595841174637,
          23.4626856393679,
          23.540711366725773,
          23.480253716763208,
          23.525772189630853,
          23.7088570011337,
          23.659725517341663,
          23.60405873592386,
          23.480862737090273,
          23.554549580200305,
          23.409343491093903,
          23.67757485733841,
          23.48982966090113,
          23.608085053794717,
          23.521469568970993,
          23.559898186779595,
          23.359863005358974,
          23.435890009216727,
          23.66973980485687,
          23.52851095525204,
          23.4864665234392,
          23.69367780650675,
          23.56329768878633,
          23.592193152092356,
          23.463558406383328,
          23.598070124208135,
          23.61921073856536,
          23.509626368914287,
          23.381384008450254,
          23.43841265080293,
          23.51331523834648,
          23.479968616652364,
          23.791806367564803,
          23.772920747172403,
          23.463128458906425,
          23.53883779312537,
          23.64195290681711,
          23.5121027192795,
          23.517841496097553,
          23.432509854626055,
          23.591831678940405,
          23.498241697905552,
          23.58156011130412,
          23.588159927953875,
          23.64772683620192,
          23.632176265840975,
          23.382791130558186,
          23.624667439022115,
          23.613854873268306,
          23.52910687373864,
          23.532401231297513,
          23.561059117410306,
          23.571479268726947,
          23.686802437558654,
          23.62561242721988,
          23.71052565879629,
          23.417031623684,
          23.623315515054276,
          23.604236218969955,
          23.559625893589487,
          23.66104937267973,
          23.489142769182497,
          23.443284726372656,
          23.622286245506032,
          23.45372357695808,
          23.442820729956487,
          23.787005901256332,
          23.55916132933358,
          23.589735584604284,
          23.313770788010157,
          23.62021282265569,
          23.615470338780508,
          23.534496345547087,
          23.443364475717345,
          23.4624134871282,
          23.61688766084268,
          23.533183103691307,
          23.366471302569245,
          23.417691411097262,
          23.574770767673083,
          23.47623491122653,
          23.62760204935766,
          23.52706764953512,
          23.38164041095404,
          23.37736641681067,
          23.51219401901577,
          23.50265373836802,
          23.811559262562824,
          23.601301672563444,
          23.5767140163012,
          23.372331818362827,
          23.638610869518907,
          23.553243066600295,
          23.480414194186505,
          23.549655250955347,
          23.523847374005385,
          23.513948491107183,
          23.449748298212484
         ],
         "yaxis": "y"
        },
        {
         "customdata": [
          [
           "Broccoli"
          ],
          [
           "Broccoli"
          ],
          [
           "Broccoli"
          ],
          [
           "Broccoli"
          ],
          [
           "Broccoli"
          ],
          [
           "Broccoli"
          ],
          [
           "Broccoli"
          ],
          [
           "Broccoli"
          ],
          [
           "Broccoli"
          ],
          [
           "Broccoli"
          ],
          [
           "Broccoli"
          ],
          [
           "Broccoli"
          ],
          [
           "Broccoli"
          ],
          [
           "Broccoli"
          ],
          [
           "Broccoli"
          ],
          [
           "Broccoli"
          ],
          [
           "Broccoli"
          ],
          [
           "Broccoli"
          ],
          [
           "Broccoli"
          ],
          [
           "Broccoli"
          ],
          [
           "Broccoli"
          ],
          [
           "Broccoli"
          ],
          [
           "Broccoli"
          ],
          [
           "Broccoli"
          ],
          [
           "Broccoli"
          ],
          [
           "Broccoli"
          ],
          [
           "Broccoli"
          ],
          [
           "Broccoli"
          ],
          [
           "Broccoli"
          ],
          [
           "Broccoli"
          ],
          [
           "Broccoli"
          ],
          [
           "Broccoli"
          ],
          [
           "Broccoli"
          ],
          [
           "Broccoli"
          ],
          [
           "Broccoli"
          ],
          [
           "Broccoli"
          ],
          [
           "Broccoli"
          ],
          [
           "Broccoli"
          ],
          [
           "Broccoli"
          ],
          [
           "Broccoli"
          ],
          [
           "Broccoli"
          ],
          [
           "Broccoli"
          ],
          [
           "Broccoli"
          ],
          [
           "Broccoli"
          ],
          [
           "Broccoli"
          ],
          [
           "Broccoli"
          ],
          [
           "Broccoli"
          ],
          [
           "Broccoli"
          ],
          [
           "Broccoli"
          ],
          [
           "Broccoli"
          ],
          [
           "Broccoli"
          ],
          [
           "Broccoli"
          ],
          [
           "Broccoli"
          ],
          [
           "Broccoli"
          ],
          [
           "Broccoli"
          ],
          [
           "Broccoli"
          ],
          [
           "Broccoli"
          ],
          [
           "Broccoli"
          ],
          [
           "Broccoli"
          ],
          [
           "Broccoli"
          ],
          [
           "Broccoli"
          ],
          [
           "Broccoli"
          ],
          [
           "Broccoli"
          ],
          [
           "Broccoli"
          ],
          [
           "Broccoli"
          ],
          [
           "Broccoli"
          ],
          [
           "Broccoli"
          ],
          [
           "Broccoli"
          ],
          [
           "Broccoli"
          ],
          [
           "Broccoli"
          ],
          [
           "Broccoli"
          ],
          [
           "Broccoli"
          ],
          [
           "Broccoli"
          ],
          [
           "Broccoli"
          ],
          [
           "Broccoli"
          ],
          [
           "Broccoli"
          ],
          [
           "Broccoli"
          ],
          [
           "Broccoli"
          ],
          [
           "Broccoli"
          ],
          [
           "Broccoli"
          ],
          [
           "Broccoli"
          ],
          [
           "Broccoli"
          ],
          [
           "Broccoli"
          ],
          [
           "Broccoli"
          ],
          [
           "Broccoli"
          ],
          [
           "Broccoli"
          ],
          [
           "Broccoli"
          ],
          [
           "Broccoli"
          ],
          [
           "Broccoli"
          ],
          [
           "Broccoli"
          ],
          [
           "Broccoli"
          ],
          [
           "Broccoli"
          ],
          [
           "Broccoli"
          ],
          [
           "Broccoli"
          ],
          [
           "Broccoli"
          ],
          [
           "Broccoli"
          ],
          [
           "Broccoli"
          ],
          [
           "Broccoli"
          ],
          [
           "Broccoli"
          ],
          [
           "Broccoli"
          ]
         ],
         "hovertemplate": "Name=%{customdata[0]}<br>pH Value=%{x}<br>Yield=%{y}<extra></extra>",
         "legendgroup": "Broccoli",
         "marker": {
          "color": "#FF97FF",
          "symbol": "circle"
         },
         "mode": "markers",
         "name": "Broccoli",
         "orientation": "v",
         "showlegend": true,
         "type": "scatter",
         "x": [
          6.438131968733435,
          6.380599408323357,
          6.512545810551285,
          6.7846526732009185,
          6.48446028530917,
          6.455300617676391,
          6.382517481970856,
          6.5675505997285475,
          6.187266664355894,
          6.329781357797438,
          6.419385948412541,
          6.388152212318881,
          6.544438199125624,
          6.507974204997019,
          6.14328122928817,
          6.29211666447321,
          6.566707357449367,
          6.71083886873706,
          6.719763377278196,
          6.230630645096503,
          6.640977809649214,
          6.493583844537561,
          6.712130011625005,
          6.643622522825482,
          6.815486746614905,
          6.789537553310803,
          6.6946606594649785,
          6.407870813013665,
          6.733300360295847,
          6.7230972435368965,
          6.703816483020886,
          6.3820602242210995,
          6.535050606714717,
          6.303151980082081,
          6.468330362289003,
          6.557595234324138,
          6.433772389794918,
          6.661971408647862,
          6.503638761338272,
          6.5949439050672645,
          6.605286279343585,
          6.5210160948051055,
          6.895942585017519,
          6.659838258309894,
          6.527498478745747,
          6.305143580337642,
          6.38143611462732,
          6.420619164558064,
          6.809079920794188,
          6.603106624889534,
          6.471323131701334,
          6.553887933040834,
          6.680118651243399,
          6.374547270246468,
          6.556489919278043,
          6.666225207847711,
          6.401263384175955,
          6.284976336070603,
          6.600375313120712,
          6.6271757347403275,
          6.660698047155457,
          6.442074150339522,
          6.711939048058449,
          6.357891153361802,
          6.284651218906738,
          6.225916933630068,
          6.415409193988034,
          6.3554622188287775,
          6.555917957168263,
          6.251124934984401,
          6.86520439371592,
          6.322955668755208,
          6.296215683497928,
          6.524516470089764,
          6.605161404071215,
          6.434669922406734,
          6.523141670357709,
          6.526908458343934,
          6.505284650925786,
          6.446981325849409,
          6.439982955568531,
          6.43614057367077,
          6.556456668517018,
          6.605818581214139,
          6.624346472129644,
          6.736363253978798,
          6.250355063729406,
          6.512892108982193,
          6.386247910571913,
          6.6208951223728345,
          6.579303626797606,
          6.547806540984713,
          6.515330343564361,
          6.514116904849272,
          6.497763628622158,
          6.398502658074245,
          6.661969463726082,
          6.358115489116484,
          6.44705565075569,
          6.529457447078373
         ],
         "xaxis": "x",
         "y": [
          23.666485593248932,
          23.470540185155947,
          23.71126049891206,
          23.505890886524742,
          23.49363496367741,
          23.546206714719627,
          23.425715258072287,
          23.456857488007895,
          23.69215117816764,
          23.203239581587827,
          23.601461612275127,
          23.53678683143232,
          23.542160667106984,
          23.605073055773016,
          23.67648054178616,
          23.276922723688767,
          23.51432462498798,
          23.48322956327546,
          23.60821002773877,
          23.52924112789047,
          23.483071408876913,
          23.474564985004704,
          23.440332840898215,
          23.58416547295996,
          23.441850396080977,
          23.34347129018959,
          23.70395315681398,
          23.666537635149968,
          23.48055483065749,
          23.46114509746647,
          23.472961282761872,
          23.530508096522983,
          23.422191610377705,
          23.55142898898263,
          23.40475922480187,
          23.680056245926114,
          23.50603963260693,
          23.79213951268309,
          23.501730818869547,
          23.44013084628775,
          23.56917037878401,
          23.410414151486844,
          23.418029387625836,
          23.509647034573717,
          23.557965206236585,
          23.538999374979586,
          23.517612863650548,
          23.464738439305187,
          23.43028072180606,
          23.654401711517146,
          23.514163518928136,
          23.94906824054652,
          23.73215421143506,
          23.58900897065764,
          23.57575274956861,
          23.32830128096693,
          23.47646131435434,
          23.44410110143667,
          23.659763855221332,
          23.4759826350557,
          23.299665519981403,
          23.475385836690368,
          23.497962531870563,
          23.338963522903256,
          23.49908447347437,
          23.612617586540026,
          23.465548896252415,
          23.482870510038794,
          23.562867451436983,
          23.6397542179784,
          23.500279539320367,
          23.7714113755777,
          23.74312669355868,
          23.442980515235856,
          23.400981179936256,
          23.59536223144265,
          23.236215209307247,
          23.46955700444172,
          23.652717343677672,
          23.6425448363285,
          23.613934880381983,
          23.651155422471263,
          23.599418765455983,
          23.38499170505222,
          23.688164598216524,
          23.475046613981203,
          23.682941956247795,
          23.670083788090867,
          23.64959881633135,
          23.784211045425582,
          23.403648386088708,
          23.52863598632768,
          23.65773594877315,
          23.52286662632291,
          23.564825387317228,
          23.58238318629504,
          23.525049243107564,
          23.367004615777365,
          23.504033597585188,
          23.711034703708943
         ],
         "yaxis": "y"
        },
        {
         "customdata": [
          [
           "Green Peas"
          ],
          [
           "Green Peas"
          ],
          [
           "Green Peas"
          ],
          [
           "Green Peas"
          ],
          [
           "Green Peas"
          ],
          [
           "Green Peas"
          ],
          [
           "Green Peas"
          ],
          [
           "Green Peas"
          ],
          [
           "Green Peas"
          ],
          [
           "Green Peas"
          ],
          [
           "Green Peas"
          ],
          [
           "Green Peas"
          ],
          [
           "Green Peas"
          ],
          [
           "Green Peas"
          ],
          [
           "Green Peas"
          ],
          [
           "Green Peas"
          ],
          [
           "Green Peas"
          ],
          [
           "Green Peas"
          ],
          [
           "Green Peas"
          ],
          [
           "Green Peas"
          ],
          [
           "Green Peas"
          ],
          [
           "Green Peas"
          ],
          [
           "Green Peas"
          ],
          [
           "Green Peas"
          ],
          [
           "Green Peas"
          ],
          [
           "Green Peas"
          ],
          [
           "Green Peas"
          ],
          [
           "Green Peas"
          ],
          [
           "Green Peas"
          ],
          [
           "Green Peas"
          ],
          [
           "Green Peas"
          ],
          [
           "Green Peas"
          ],
          [
           "Green Peas"
          ],
          [
           "Green Peas"
          ],
          [
           "Green Peas"
          ],
          [
           "Green Peas"
          ],
          [
           "Green Peas"
          ],
          [
           "Green Peas"
          ],
          [
           "Green Peas"
          ],
          [
           "Green Peas"
          ],
          [
           "Green Peas"
          ],
          [
           "Green Peas"
          ],
          [
           "Green Peas"
          ],
          [
           "Green Peas"
          ],
          [
           "Green Peas"
          ],
          [
           "Green Peas"
          ],
          [
           "Green Peas"
          ],
          [
           "Green Peas"
          ],
          [
           "Green Peas"
          ],
          [
           "Green Peas"
          ],
          [
           "Green Peas"
          ],
          [
           "Green Peas"
          ],
          [
           "Green Peas"
          ],
          [
           "Green Peas"
          ],
          [
           "Green Peas"
          ],
          [
           "Green Peas"
          ],
          [
           "Green Peas"
          ],
          [
           "Green Peas"
          ],
          [
           "Green Peas"
          ],
          [
           "Green Peas"
          ],
          [
           "Green Peas"
          ],
          [
           "Green Peas"
          ],
          [
           "Green Peas"
          ],
          [
           "Green Peas"
          ],
          [
           "Green Peas"
          ],
          [
           "Green Peas"
          ],
          [
           "Green Peas"
          ],
          [
           "Green Peas"
          ],
          [
           "Green Peas"
          ],
          [
           "Green Peas"
          ],
          [
           "Green Peas"
          ],
          [
           "Green Peas"
          ],
          [
           "Green Peas"
          ],
          [
           "Green Peas"
          ],
          [
           "Green Peas"
          ],
          [
           "Green Peas"
          ],
          [
           "Green Peas"
          ],
          [
           "Green Peas"
          ],
          [
           "Green Peas"
          ],
          [
           "Green Peas"
          ],
          [
           "Green Peas"
          ],
          [
           "Green Peas"
          ],
          [
           "Green Peas"
          ],
          [
           "Green Peas"
          ],
          [
           "Green Peas"
          ],
          [
           "Green Peas"
          ],
          [
           "Green Peas"
          ],
          [
           "Green Peas"
          ],
          [
           "Green Peas"
          ],
          [
           "Green Peas"
          ],
          [
           "Green Peas"
          ],
          [
           "Green Peas"
          ],
          [
           "Green Peas"
          ],
          [
           "Green Peas"
          ],
          [
           "Green Peas"
          ],
          [
           "Green Peas"
          ],
          [
           "Green Peas"
          ],
          [
           "Green Peas"
          ],
          [
           "Green Peas"
          ],
          [
           "Green Peas"
          ]
         ],
         "hovertemplate": "Name=%{customdata[0]}<br>pH Value=%{x}<br>Yield=%{y}<extra></extra>",
         "legendgroup": "Green Peas",
         "marker": {
          "color": "#FECB52",
          "symbol": "circle"
         },
         "mode": "markers",
         "name": "Green Peas",
         "orientation": "v",
         "showlegend": true,
         "type": "scatter",
         "x": [
          6.321530941927601,
          6.1294164786485394,
          5.977098510539675,
          6.6835787328908705,
          6.694844131708733,
          6.145279237691872,
          6.26067988027357,
          6.240063182077443,
          6.6859454103976566,
          6.270438917851522,
          6.04381945833871,
          6.075894371061025,
          6.128739543206183,
          6.634102879023863,
          6.136403653399689,
          6.015622430853382,
          6.137652207982608,
          6.012450042596209,
          6.259051372490723,
          6.162333496240845,
          6.554034208571106,
          5.672484268311992,
          6.444807205822533,
          6.475652140803959,
          6.546112568673797,
          6.114143675815707,
          6.248568324036648,
          5.848099761541451,
          6.3157615857225045,
          5.640755514201204,
          6.567837101674506,
          6.450667512310488,
          5.580125532844421,
          6.103584745024308,
          6.322764292005792,
          5.852148926138218,
          5.973506934905149,
          6.110882717873803,
          6.350582124752463,
          6.466146406979352,
          6.49107797213033,
          6.3157277655665975,
          6.646422057316346,
          5.994777596477655,
          6.120635474455784,
          6.339896720532412,
          6.290823957797586,
          6.383883310487405,
          6.10386076333803,
          6.439897229682513,
          6.299317361426855,
          6.556348116176528,
          6.302807820424745,
          6.783904515653259,
          6.862811239099653,
          5.771568721383384,
          6.148847048557603,
          6.105743488042225,
          6.211248031334579,
          6.183863184313737,
          5.840740147468836,
          6.019917849267023,
          6.281736270793101,
          6.237635054973048,
          5.834466660554037,
          6.519196933081267,
          6.15283604068506,
          6.24981696227025,
          6.618261526650471,
          6.37624346320141,
          6.168076573893205,
          6.002926448727318,
          6.201217340210872,
          6.288266524233368,
          6.085430821073697,
          6.4106704949261895,
          5.929658747681495,
          6.038163840743477,
          6.4308675332281355,
          6.1582057637542595,
          5.997453251250592,
          6.723257344493434,
          5.992405474017859,
          5.936835405709252,
          6.481248008922016,
          6.0953994708726675,
          6.625701849235309,
          6.1846779476071845,
          6.22131353376442,
          6.275178043112306,
          6.414824351009005,
          6.1930827795077645,
          6.101124527797045,
          6.416078030435951,
          6.025732391718955,
          6.406648732531081,
          6.35453177471246,
          6.219520031593195,
          5.963226645308663,
          6.198282555943275
         ],
         "xaxis": "x",
         "y": [
          4.962161193756152,
          5.170424886702583,
          5.541002874914854,
          5.109885983759431,
          5.1084409402166555,
          4.87344425450389,
          4.832524921284558,
          5.127286759971976,
          4.922475138806819,
          5.098518395468444,
          5.05902408804206,
          4.976716238968844,
          4.842458383208316,
          5.060256763766376,
          4.973278104583438,
          5.002587370240678,
          4.878452808422989,
          5.10279415434069,
          4.962640794162029,
          4.957805462107678,
          5.053507364453156,
          4.901193382508826,
          4.884578422227958,
          5.001429541374476,
          5.123442757273665,
          5.073423769099274,
          5.096663846806636,
          5.041728484632336,
          4.90703101352175,
          5.290625307035778,
          5.20043083300451,
          4.816518735148952,
          5.274210947116152,
          5.25795720085315,
          5.301964136789443,
          5.197919582985226,
          5.105553064824504,
          5.295068206526288,
          4.889180021803892,
          5.124547239210633,
          5.237062042245634,
          5.152532882282049,
          4.9313015409567855,
          4.766346066937555,
          5.015289082595241,
          4.8900436438870525,
          5.045981146546898,
          5.137154480263278,
          4.793341917238115,
          5.045665255428759,
          4.823056776022196,
          4.99458863822371,
          4.695344057550402,
          5.1948597399606635,
          5.084543202850142,
          4.868249884025566,
          4.99405932495927,
          4.959762615842386,
          4.895481993646493,
          5.015500261954558,
          5.334385164304484,
          5.28663460822393,
          5.285492158823352,
          4.918452457293091,
          5.134275874335376,
          4.82917589034392,
          5.162271633926153,
          5.267053755218382,
          4.648453706119838,
          4.733608993795207,
          4.987214399324914,
          5.064103766564217,
          5.209296679589816,
          5.407897861888411,
          4.9258996705800975,
          5.0640253254806264,
          4.791120941586989,
          5.1168539852652035,
          5.214536885769923,
          5.18173047977794,
          5.2603262724716595,
          4.946067675422944,
          4.8293416921105425,
          4.928907997994049,
          5.0887318242479935,
          5.165791088407151,
          5.303082745416512,
          5.035450951754245,
          5.181104673978151,
          5.026547754845833,
          4.877939585595452,
          5.158765005110142,
          5.087758046749149,
          5.146402301162606,
          4.907187931958502,
          4.743146227640828,
          4.757584272498245,
          4.959721363419321,
          4.995292000571477,
          5.124607309804112
         ],
         "yaxis": "y"
        }
       ],
       "layout": {
        "legend": {
         "title": {
          "text": "Name"
         },
         "tracegroupgap": 0
        },
        "template": {
         "data": {
          "bar": [
           {
            "error_x": {
             "color": "#2a3f5f"
            },
            "error_y": {
             "color": "#2a3f5f"
            },
            "marker": {
             "line": {
              "color": "#E5ECF6",
              "width": 0.5
             },
             "pattern": {
              "fillmode": "overlay",
              "size": 10,
              "solidity": 0.2
             }
            },
            "type": "bar"
           }
          ],
          "barpolar": [
           {
            "marker": {
             "line": {
              "color": "#E5ECF6",
              "width": 0.5
             },
             "pattern": {
              "fillmode": "overlay",
              "size": 10,
              "solidity": 0.2
             }
            },
            "type": "barpolar"
           }
          ],
          "carpet": [
           {
            "aaxis": {
             "endlinecolor": "#2a3f5f",
             "gridcolor": "white",
             "linecolor": "white",
             "minorgridcolor": "white",
             "startlinecolor": "#2a3f5f"
            },
            "baxis": {
             "endlinecolor": "#2a3f5f",
             "gridcolor": "white",
             "linecolor": "white",
             "minorgridcolor": "white",
             "startlinecolor": "#2a3f5f"
            },
            "type": "carpet"
           }
          ],
          "choropleth": [
           {
            "colorbar": {
             "outlinewidth": 0,
             "ticks": ""
            },
            "type": "choropleth"
           }
          ],
          "contour": [
           {
            "colorbar": {
             "outlinewidth": 0,
             "ticks": ""
            },
            "colorscale": [
             [
              0,
              "#0d0887"
             ],
             [
              0.1111111111111111,
              "#46039f"
             ],
             [
              0.2222222222222222,
              "#7201a8"
             ],
             [
              0.3333333333333333,
              "#9c179e"
             ],
             [
              0.4444444444444444,
              "#bd3786"
             ],
             [
              0.5555555555555556,
              "#d8576b"
             ],
             [
              0.6666666666666666,
              "#ed7953"
             ],
             [
              0.7777777777777778,
              "#fb9f3a"
             ],
             [
              0.8888888888888888,
              "#fdca26"
             ],
             [
              1,
              "#f0f921"
             ]
            ],
            "type": "contour"
           }
          ],
          "contourcarpet": [
           {
            "colorbar": {
             "outlinewidth": 0,
             "ticks": ""
            },
            "type": "contourcarpet"
           }
          ],
          "heatmap": [
           {
            "colorbar": {
             "outlinewidth": 0,
             "ticks": ""
            },
            "colorscale": [
             [
              0,
              "#0d0887"
             ],
             [
              0.1111111111111111,
              "#46039f"
             ],
             [
              0.2222222222222222,
              "#7201a8"
             ],
             [
              0.3333333333333333,
              "#9c179e"
             ],
             [
              0.4444444444444444,
              "#bd3786"
             ],
             [
              0.5555555555555556,
              "#d8576b"
             ],
             [
              0.6666666666666666,
              "#ed7953"
             ],
             [
              0.7777777777777778,
              "#fb9f3a"
             ],
             [
              0.8888888888888888,
              "#fdca26"
             ],
             [
              1,
              "#f0f921"
             ]
            ],
            "type": "heatmap"
           }
          ],
          "heatmapgl": [
           {
            "colorbar": {
             "outlinewidth": 0,
             "ticks": ""
            },
            "colorscale": [
             [
              0,
              "#0d0887"
             ],
             [
              0.1111111111111111,
              "#46039f"
             ],
             [
              0.2222222222222222,
              "#7201a8"
             ],
             [
              0.3333333333333333,
              "#9c179e"
             ],
             [
              0.4444444444444444,
              "#bd3786"
             ],
             [
              0.5555555555555556,
              "#d8576b"
             ],
             [
              0.6666666666666666,
              "#ed7953"
             ],
             [
              0.7777777777777778,
              "#fb9f3a"
             ],
             [
              0.8888888888888888,
              "#fdca26"
             ],
             [
              1,
              "#f0f921"
             ]
            ],
            "type": "heatmapgl"
           }
          ],
          "histogram": [
           {
            "marker": {
             "pattern": {
              "fillmode": "overlay",
              "size": 10,
              "solidity": 0.2
             }
            },
            "type": "histogram"
           }
          ],
          "histogram2d": [
           {
            "colorbar": {
             "outlinewidth": 0,
             "ticks": ""
            },
            "colorscale": [
             [
              0,
              "#0d0887"
             ],
             [
              0.1111111111111111,
              "#46039f"
             ],
             [
              0.2222222222222222,
              "#7201a8"
             ],
             [
              0.3333333333333333,
              "#9c179e"
             ],
             [
              0.4444444444444444,
              "#bd3786"
             ],
             [
              0.5555555555555556,
              "#d8576b"
             ],
             [
              0.6666666666666666,
              "#ed7953"
             ],
             [
              0.7777777777777778,
              "#fb9f3a"
             ],
             [
              0.8888888888888888,
              "#fdca26"
             ],
             [
              1,
              "#f0f921"
             ]
            ],
            "type": "histogram2d"
           }
          ],
          "histogram2dcontour": [
           {
            "colorbar": {
             "outlinewidth": 0,
             "ticks": ""
            },
            "colorscale": [
             [
              0,
              "#0d0887"
             ],
             [
              0.1111111111111111,
              "#46039f"
             ],
             [
              0.2222222222222222,
              "#7201a8"
             ],
             [
              0.3333333333333333,
              "#9c179e"
             ],
             [
              0.4444444444444444,
              "#bd3786"
             ],
             [
              0.5555555555555556,
              "#d8576b"
             ],
             [
              0.6666666666666666,
              "#ed7953"
             ],
             [
              0.7777777777777778,
              "#fb9f3a"
             ],
             [
              0.8888888888888888,
              "#fdca26"
             ],
             [
              1,
              "#f0f921"
             ]
            ],
            "type": "histogram2dcontour"
           }
          ],
          "mesh3d": [
           {
            "colorbar": {
             "outlinewidth": 0,
             "ticks": ""
            },
            "type": "mesh3d"
           }
          ],
          "parcoords": [
           {
            "line": {
             "colorbar": {
              "outlinewidth": 0,
              "ticks": ""
             }
            },
            "type": "parcoords"
           }
          ],
          "pie": [
           {
            "automargin": true,
            "type": "pie"
           }
          ],
          "scatter": [
           {
            "fillpattern": {
             "fillmode": "overlay",
             "size": 10,
             "solidity": 0.2
            },
            "type": "scatter"
           }
          ],
          "scatter3d": [
           {
            "line": {
             "colorbar": {
              "outlinewidth": 0,
              "ticks": ""
             }
            },
            "marker": {
             "colorbar": {
              "outlinewidth": 0,
              "ticks": ""
             }
            },
            "type": "scatter3d"
           }
          ],
          "scattercarpet": [
           {
            "marker": {
             "colorbar": {
              "outlinewidth": 0,
              "ticks": ""
             }
            },
            "type": "scattercarpet"
           }
          ],
          "scattergeo": [
           {
            "marker": {
             "colorbar": {
              "outlinewidth": 0,
              "ticks": ""
             }
            },
            "type": "scattergeo"
           }
          ],
          "scattergl": [
           {
            "marker": {
             "colorbar": {
              "outlinewidth": 0,
              "ticks": ""
             }
            },
            "type": "scattergl"
           }
          ],
          "scattermapbox": [
           {
            "marker": {
             "colorbar": {
              "outlinewidth": 0,
              "ticks": ""
             }
            },
            "type": "scattermapbox"
           }
          ],
          "scatterpolar": [
           {
            "marker": {
             "colorbar": {
              "outlinewidth": 0,
              "ticks": ""
             }
            },
            "type": "scatterpolar"
           }
          ],
          "scatterpolargl": [
           {
            "marker": {
             "colorbar": {
              "outlinewidth": 0,
              "ticks": ""
             }
            },
            "type": "scatterpolargl"
           }
          ],
          "scatterternary": [
           {
            "marker": {
             "colorbar": {
              "outlinewidth": 0,
              "ticks": ""
             }
            },
            "type": "scatterternary"
           }
          ],
          "surface": [
           {
            "colorbar": {
             "outlinewidth": 0,
             "ticks": ""
            },
            "colorscale": [
             [
              0,
              "#0d0887"
             ],
             [
              0.1111111111111111,
              "#46039f"
             ],
             [
              0.2222222222222222,
              "#7201a8"
             ],
             [
              0.3333333333333333,
              "#9c179e"
             ],
             [
              0.4444444444444444,
              "#bd3786"
             ],
             [
              0.5555555555555556,
              "#d8576b"
             ],
             [
              0.6666666666666666,
              "#ed7953"
             ],
             [
              0.7777777777777778,
              "#fb9f3a"
             ],
             [
              0.8888888888888888,
              "#fdca26"
             ],
             [
              1,
              "#f0f921"
             ]
            ],
            "type": "surface"
           }
          ],
          "table": [
           {
            "cells": {
             "fill": {
              "color": "#EBF0F8"
             },
             "line": {
              "color": "white"
             }
            },
            "header": {
             "fill": {
              "color": "#C8D4E3"
             },
             "line": {
              "color": "white"
             }
            },
            "type": "table"
           }
          ]
         },
         "layout": {
          "annotationdefaults": {
           "arrowcolor": "#2a3f5f",
           "arrowhead": 0,
           "arrowwidth": 1
          },
          "autotypenumbers": "strict",
          "coloraxis": {
           "colorbar": {
            "outlinewidth": 0,
            "ticks": ""
           }
          },
          "colorscale": {
           "diverging": [
            [
             0,
             "#8e0152"
            ],
            [
             0.1,
             "#c51b7d"
            ],
            [
             0.2,
             "#de77ae"
            ],
            [
             0.3,
             "#f1b6da"
            ],
            [
             0.4,
             "#fde0ef"
            ],
            [
             0.5,
             "#f7f7f7"
            ],
            [
             0.6,
             "#e6f5d0"
            ],
            [
             0.7,
             "#b8e186"
            ],
            [
             0.8,
             "#7fbc41"
            ],
            [
             0.9,
             "#4d9221"
            ],
            [
             1,
             "#276419"
            ]
           ],
           "sequential": [
            [
             0,
             "#0d0887"
            ],
            [
             0.1111111111111111,
             "#46039f"
            ],
            [
             0.2222222222222222,
             "#7201a8"
            ],
            [
             0.3333333333333333,
             "#9c179e"
            ],
            [
             0.4444444444444444,
             "#bd3786"
            ],
            [
             0.5555555555555556,
             "#d8576b"
            ],
            [
             0.6666666666666666,
             "#ed7953"
            ],
            [
             0.7777777777777778,
             "#fb9f3a"
            ],
            [
             0.8888888888888888,
             "#fdca26"
            ],
            [
             1,
             "#f0f921"
            ]
           ],
           "sequentialminus": [
            [
             0,
             "#0d0887"
            ],
            [
             0.1111111111111111,
             "#46039f"
            ],
            [
             0.2222222222222222,
             "#7201a8"
            ],
            [
             0.3333333333333333,
             "#9c179e"
            ],
            [
             0.4444444444444444,
             "#bd3786"
            ],
            [
             0.5555555555555556,
             "#d8576b"
            ],
            [
             0.6666666666666666,
             "#ed7953"
            ],
            [
             0.7777777777777778,
             "#fb9f3a"
            ],
            [
             0.8888888888888888,
             "#fdca26"
            ],
            [
             1,
             "#f0f921"
            ]
           ]
          },
          "colorway": [
           "#636efa",
           "#EF553B",
           "#00cc96",
           "#ab63fa",
           "#FFA15A",
           "#19d3f3",
           "#FF6692",
           "#B6E880",
           "#FF97FF",
           "#FECB52"
          ],
          "font": {
           "color": "#2a3f5f"
          },
          "geo": {
           "bgcolor": "white",
           "lakecolor": "white",
           "landcolor": "#E5ECF6",
           "showlakes": true,
           "showland": true,
           "subunitcolor": "white"
          },
          "hoverlabel": {
           "align": "left"
          },
          "hovermode": "closest",
          "mapbox": {
           "style": "light"
          },
          "paper_bgcolor": "white",
          "plot_bgcolor": "#E5ECF6",
          "polar": {
           "angularaxis": {
            "gridcolor": "white",
            "linecolor": "white",
            "ticks": ""
           },
           "bgcolor": "#E5ECF6",
           "radialaxis": {
            "gridcolor": "white",
            "linecolor": "white",
            "ticks": ""
           }
          },
          "scene": {
           "xaxis": {
            "backgroundcolor": "#E5ECF6",
            "gridcolor": "white",
            "gridwidth": 2,
            "linecolor": "white",
            "showbackground": true,
            "ticks": "",
            "zerolinecolor": "white"
           },
           "yaxis": {
            "backgroundcolor": "#E5ECF6",
            "gridcolor": "white",
            "gridwidth": 2,
            "linecolor": "white",
            "showbackground": true,
            "ticks": "",
            "zerolinecolor": "white"
           },
           "zaxis": {
            "backgroundcolor": "#E5ECF6",
            "gridcolor": "white",
            "gridwidth": 2,
            "linecolor": "white",
            "showbackground": true,
            "ticks": "",
            "zerolinecolor": "white"
           }
          },
          "shapedefaults": {
           "line": {
            "color": "#2a3f5f"
           }
          },
          "ternary": {
           "aaxis": {
            "gridcolor": "white",
            "linecolor": "white",
            "ticks": ""
           },
           "baxis": {
            "gridcolor": "white",
            "linecolor": "white",
            "ticks": ""
           },
           "bgcolor": "#E5ECF6",
           "caxis": {
            "gridcolor": "white",
            "linecolor": "white",
            "ticks": ""
           }
          },
          "title": {
           "x": 0.05
          },
          "xaxis": {
           "automargin": true,
           "gridcolor": "white",
           "linecolor": "white",
           "ticks": "",
           "title": {
            "standoff": 15
           },
           "zerolinecolor": "white",
           "zerolinewidth": 2
          },
          "yaxis": {
           "automargin": true,
           "gridcolor": "white",
           "linecolor": "white",
           "ticks": "",
           "title": {
            "standoff": 15
           },
           "zerolinecolor": "white",
           "zerolinewidth": 2
          }
         }
        },
        "title": {
         "text": "Yield vs Continuous pH Values per Vegetable"
        },
        "xaxis": {
         "anchor": "y",
         "domain": [
          0,
          1
         ],
         "title": {
          "text": "pH Value"
         }
        },
        "yaxis": {
         "anchor": "x",
         "domain": [
          0,
          1
         ],
         "title": {
          "text": "Yield"
         }
        }
       }
      }
     },
     "metadata": {},
     "output_type": "display_data"
    }
   ],
   "source": [
    "fig_scatter = px.scatter(\n",
    "    veg_data, \n",
    "    x='pH', \n",
    "    y='Yield', \n",
    "    color='Name', \n",
    "    title='Yield vs Continuous pH Values per Vegetable',\n",
    "    labels={'pH': 'pH Value', 'Yield': 'Yield'},\n",
    "    hover_data=['Name', 'pH', 'Yield']\n",
    ")\n",
    "\n",
    "fig_scatter.show()"
   ]
  },
  {
   "cell_type": "code",
   "execution_count": 38,
   "metadata": {},
   "outputs": [],
   "source": [
    "import plotly.express as px\n",
    "import plotly.graph_objects as go\n"
   ]
  },
  {
   "cell_type": "code",
   "execution_count": 39,
   "metadata": {},
   "outputs": [
    {
     "data": {
      "application/vnd.plotly.v1+json": {
       "config": {
        "plotlyServerURL": "https://plot.ly"
       },
       "data": [
        {
         "alignmentgroup": "True",
         "customdata": [
          [
           "Tomatoes"
          ],
          [
           "Tomatoes"
          ],
          [
           "Tomatoes"
          ],
          [
           "Tomatoes"
          ],
          [
           "Tomatoes"
          ],
          [
           "Tomatoes"
          ],
          [
           "Tomatoes"
          ],
          [
           "Tomatoes"
          ],
          [
           "Tomatoes"
          ],
          [
           "Tomatoes"
          ],
          [
           "Tomatoes"
          ],
          [
           "Tomatoes"
          ],
          [
           "Tomatoes"
          ],
          [
           "Tomatoes"
          ],
          [
           "Tomatoes"
          ],
          [
           "Tomatoes"
          ],
          [
           "Tomatoes"
          ],
          [
           "Tomatoes"
          ],
          [
           "Tomatoes"
          ],
          [
           "Tomatoes"
          ],
          [
           "Tomatoes"
          ],
          [
           "Tomatoes"
          ],
          [
           "Tomatoes"
          ],
          [
           "Tomatoes"
          ],
          [
           "Tomatoes"
          ],
          [
           "Tomatoes"
          ],
          [
           "Tomatoes"
          ],
          [
           "Tomatoes"
          ],
          [
           "Tomatoes"
          ],
          [
           "Tomatoes"
          ],
          [
           "Tomatoes"
          ],
          [
           "Tomatoes"
          ],
          [
           "Tomatoes"
          ],
          [
           "Tomatoes"
          ],
          [
           "Tomatoes"
          ],
          [
           "Tomatoes"
          ],
          [
           "Tomatoes"
          ],
          [
           "Tomatoes"
          ],
          [
           "Tomatoes"
          ],
          [
           "Tomatoes"
          ],
          [
           "Tomatoes"
          ],
          [
           "Tomatoes"
          ],
          [
           "Tomatoes"
          ],
          [
           "Tomatoes"
          ],
          [
           "Tomatoes"
          ],
          [
           "Tomatoes"
          ],
          [
           "Tomatoes"
          ],
          [
           "Tomatoes"
          ],
          [
           "Tomatoes"
          ],
          [
           "Tomatoes"
          ],
          [
           "Tomatoes"
          ],
          [
           "Tomatoes"
          ],
          [
           "Tomatoes"
          ],
          [
           "Tomatoes"
          ],
          [
           "Tomatoes"
          ],
          [
           "Tomatoes"
          ],
          [
           "Tomatoes"
          ],
          [
           "Tomatoes"
          ],
          [
           "Tomatoes"
          ],
          [
           "Tomatoes"
          ],
          [
           "Tomatoes"
          ],
          [
           "Tomatoes"
          ],
          [
           "Tomatoes"
          ],
          [
           "Tomatoes"
          ],
          [
           "Tomatoes"
          ],
          [
           "Tomatoes"
          ],
          [
           "Tomatoes"
          ],
          [
           "Tomatoes"
          ],
          [
           "Tomatoes"
          ],
          [
           "Tomatoes"
          ],
          [
           "Tomatoes"
          ],
          [
           "Tomatoes"
          ],
          [
           "Tomatoes"
          ],
          [
           "Tomatoes"
          ],
          [
           "Tomatoes"
          ],
          [
           "Tomatoes"
          ],
          [
           "Tomatoes"
          ],
          [
           "Tomatoes"
          ],
          [
           "Tomatoes"
          ],
          [
           "Tomatoes"
          ],
          [
           "Tomatoes"
          ],
          [
           "Tomatoes"
          ],
          [
           "Tomatoes"
          ],
          [
           "Tomatoes"
          ],
          [
           "Tomatoes"
          ],
          [
           "Tomatoes"
          ],
          [
           "Tomatoes"
          ],
          [
           "Tomatoes"
          ],
          [
           "Tomatoes"
          ],
          [
           "Tomatoes"
          ],
          [
           "Tomatoes"
          ],
          [
           "Tomatoes"
          ],
          [
           "Tomatoes"
          ],
          [
           "Tomatoes"
          ],
          [
           "Tomatoes"
          ],
          [
           "Tomatoes"
          ],
          [
           "Tomatoes"
          ],
          [
           "Tomatoes"
          ],
          [
           "Tomatoes"
          ],
          [
           "Tomatoes"
          ]
         ],
         "hovertemplate": "Name=%{customdata[0]}<br>pH Label=%{x}<br>Yield=%{y}<extra></extra>",
         "legendgroup": "Tomatoes",
         "marker": {
          "color": "#636efa"
         },
         "name": "Tomatoes",
         "notched": false,
         "offsetgroup": "Tomatoes",
         "orientation": "v",
         "showlegend": true,
         "type": "box",
         "x": [
          "Acidic",
          "Acidic",
          "Acidic",
          "Acidic",
          "Acidic",
          "Acidic",
          "Acidic",
          "Acidic",
          "Acidic",
          "Acidic",
          "Acidic",
          "Acidic",
          "Acidic",
          "Acidic",
          "Acidic",
          "Neutral",
          "Acidic",
          "Acidic",
          "Acidic",
          "Acidic",
          "Acidic",
          "Acidic",
          "Acidic",
          "Acidic",
          "Acidic",
          "Acidic",
          "Neutral",
          "Acidic",
          "Acidic",
          "Acidic",
          "Acidic",
          "Acidic",
          "Acidic",
          "Acidic",
          "Acidic",
          "Neutral",
          "Acidic",
          "Acidic",
          "Acidic",
          "Acidic",
          "Acidic",
          "Acidic",
          "Acidic",
          "Acidic",
          "Acidic",
          "Acidic",
          "Acidic",
          "Acidic",
          "Acidic",
          "Acidic",
          "Acidic",
          "Acidic",
          "Acidic",
          "Acidic",
          "Acidic",
          "Acidic",
          "Acidic",
          "Acidic",
          "Neutral",
          "Acidic",
          "Acidic",
          "Acidic",
          "Acidic",
          "Acidic",
          "Acidic",
          "Acidic",
          "Acidic",
          "Acidic",
          "Acidic",
          "Acidic",
          "Acidic",
          "Acidic",
          "Acidic",
          "Acidic",
          "Acidic",
          "Acidic",
          "Acidic",
          "Acidic",
          "Acidic",
          "Acidic",
          "Acidic",
          "Acidic",
          "Acidic",
          "Acidic",
          "Acidic",
          "Acidic",
          "Acidic",
          "Acidic",
          "Acidic",
          "Acidic",
          "Acidic",
          "Acidic",
          "Acidic",
          "Acidic",
          "Acidic",
          "Acidic",
          "Acidic",
          "Acidic",
          "Neutral",
          "Acidic"
         ],
         "x0": " ",
         "xaxis": "x",
         "y": [
          60.64779952949247,
          60.62457500335642,
          61.40379830888732,
          61.134157198805745,
          61.26354011372221,
          61.623269253561055,
          62.57603846507856,
          61.482890104735056,
          62.95698305481486,
          61.6677780498917,
          60.97420625867967,
          60.24025236214074,
          64.45321913896632,
          62.71669583149189,
          61.194248446794056,
          59.30094868172005,
          60.839268991395606,
          61.64660210249612,
          62.86032341164324,
          61.624606722959264,
          62.532036303234094,
          62.10620297229977,
          61.232288313812184,
          63.47613063909638,
          59.4695351218028,
          62.04776859041221,
          63.01507073311144,
          60.66205016331484,
          62.81878093685466,
          62.52265915815285,
          63.172817517509856,
          62.8876388529945,
          62.68599417079768,
          62.13563040938893,
          59.69486726314326,
          61.983936501297585,
          60.58850805277065,
          62.14047916803388,
          63.06043559314456,
          62.050054032155394,
          62.23060864800309,
          62.9820852657168,
          61.4306448748761,
          60.58895852674073,
          60.8726840777734,
          62.3441278560699,
          62.02236315081332,
          61.03045456945922,
          59.30390227263802,
          61.224636066215766,
          61.35847069875947,
          60.740022347520984,
          62.07939690902099,
          63.03488582521085,
          62.131525873339505,
          63.374274651626614,
          61.016726839074664,
          61.81015775771282,
          62.08164490382269,
          62.87669615476342,
          63.08241548959231,
          63.65854881351148,
          61.1160221840336,
          62.55047517409037,
          62.307699234837145,
          61.73705819704417,
          61.82863473678405,
          61.81331083363587,
          63.134148695918405,
          61.30604783915043,
          62.4048451959037,
          60.92158404128375,
          61.04311073279979,
          62.95956710843625,
          65.1261959298827,
          64.18116530695077,
          61.34059133122794,
          61.56315812658441,
          60.672679501908185,
          61.97999149283115,
          62.60394699769231,
          63.197540857278945,
          62.96392561016188,
          62.28387205830272,
          62.421530128647305,
          61.75079056415426,
          60.05449823826183,
          63.262483202760755,
          60.75540084988199,
          62.408933240971955,
          59.76970569234275,
          60.564439442861456,
          62.57760641272226,
          59.564666325947904,
          60.96301707219556,
          61.2750968079298,
          60.64181652653162,
          61.92093715305824,
          62.44084694500252,
          61.793389735593315
         ],
         "y0": " ",
         "yaxis": "y"
        },
        {
         "alignmentgroup": "True",
         "customdata": [
          [
           "Eggplants"
          ],
          [
           "Eggplants"
          ],
          [
           "Eggplants"
          ],
          [
           "Eggplants"
          ],
          [
           "Eggplants"
          ],
          [
           "Eggplants"
          ],
          [
           "Eggplants"
          ],
          [
           "Eggplants"
          ],
          [
           "Eggplants"
          ],
          [
           "Eggplants"
          ],
          [
           "Eggplants"
          ],
          [
           "Eggplants"
          ],
          [
           "Eggplants"
          ],
          [
           "Eggplants"
          ],
          [
           "Eggplants"
          ],
          [
           "Eggplants"
          ],
          [
           "Eggplants"
          ],
          [
           "Eggplants"
          ],
          [
           "Eggplants"
          ],
          [
           "Eggplants"
          ],
          [
           "Eggplants"
          ],
          [
           "Eggplants"
          ],
          [
           "Eggplants"
          ],
          [
           "Eggplants"
          ],
          [
           "Eggplants"
          ],
          [
           "Eggplants"
          ],
          [
           "Eggplants"
          ],
          [
           "Eggplants"
          ],
          [
           "Eggplants"
          ],
          [
           "Eggplants"
          ],
          [
           "Eggplants"
          ],
          [
           "Eggplants"
          ],
          [
           "Eggplants"
          ],
          [
           "Eggplants"
          ],
          [
           "Eggplants"
          ],
          [
           "Eggplants"
          ],
          [
           "Eggplants"
          ],
          [
           "Eggplants"
          ],
          [
           "Eggplants"
          ],
          [
           "Eggplants"
          ],
          [
           "Eggplants"
          ],
          [
           "Eggplants"
          ],
          [
           "Eggplants"
          ],
          [
           "Eggplants"
          ],
          [
           "Eggplants"
          ],
          [
           "Eggplants"
          ],
          [
           "Eggplants"
          ],
          [
           "Eggplants"
          ],
          [
           "Eggplants"
          ],
          [
           "Eggplants"
          ],
          [
           "Eggplants"
          ],
          [
           "Eggplants"
          ],
          [
           "Eggplants"
          ],
          [
           "Eggplants"
          ],
          [
           "Eggplants"
          ],
          [
           "Eggplants"
          ],
          [
           "Eggplants"
          ],
          [
           "Eggplants"
          ],
          [
           "Eggplants"
          ],
          [
           "Eggplants"
          ],
          [
           "Eggplants"
          ],
          [
           "Eggplants"
          ],
          [
           "Eggplants"
          ],
          [
           "Eggplants"
          ],
          [
           "Eggplants"
          ],
          [
           "Eggplants"
          ],
          [
           "Eggplants"
          ],
          [
           "Eggplants"
          ],
          [
           "Eggplants"
          ],
          [
           "Eggplants"
          ],
          [
           "Eggplants"
          ],
          [
           "Eggplants"
          ],
          [
           "Eggplants"
          ],
          [
           "Eggplants"
          ],
          [
           "Eggplants"
          ],
          [
           "Eggplants"
          ],
          [
           "Eggplants"
          ],
          [
           "Eggplants"
          ],
          [
           "Eggplants"
          ],
          [
           "Eggplants"
          ],
          [
           "Eggplants"
          ],
          [
           "Eggplants"
          ],
          [
           "Eggplants"
          ],
          [
           "Eggplants"
          ],
          [
           "Eggplants"
          ],
          [
           "Eggplants"
          ],
          [
           "Eggplants"
          ],
          [
           "Eggplants"
          ],
          [
           "Eggplants"
          ],
          [
           "Eggplants"
          ],
          [
           "Eggplants"
          ],
          [
           "Eggplants"
          ],
          [
           "Eggplants"
          ],
          [
           "Eggplants"
          ],
          [
           "Eggplants"
          ],
          [
           "Eggplants"
          ],
          [
           "Eggplants"
          ],
          [
           "Eggplants"
          ],
          [
           "Eggplants"
          ],
          [
           "Eggplants"
          ]
         ],
         "hovertemplate": "Name=%{customdata[0]}<br>pH Label=%{x}<br>Yield=%{y}<extra></extra>",
         "legendgroup": "Eggplants",
         "marker": {
          "color": "#EF553B"
         },
         "name": "Eggplants",
         "notched": false,
         "offsetgroup": "Eggplants",
         "orientation": "v",
         "showlegend": true,
         "type": "box",
         "x": [
          "Acidic",
          "Acidic",
          "Acidic",
          "Acidic",
          "Acidic",
          "Acidic",
          "Acidic",
          "Acidic",
          "Acidic",
          "Acidic",
          "Acidic",
          "Acidic",
          "Acidic",
          "Acidic",
          "Acidic",
          "Neutral",
          "Acidic",
          "Acidic",
          "Acidic",
          "Acidic",
          "Acidic",
          "Acidic",
          "Acidic",
          "Acidic",
          "Acidic",
          "Acidic",
          "Acidic",
          "Acidic",
          "Acidic",
          "Acidic",
          "Acidic",
          "Acidic",
          "Acidic",
          "Acidic",
          "Acidic",
          "Acidic",
          "Acidic",
          "Acidic",
          "Acidic",
          "Acidic",
          "Acidic",
          "Acidic",
          "Acidic",
          "Acidic",
          "Acidic",
          "Acidic",
          "Neutral",
          "Acidic",
          "Acidic",
          "Acidic",
          "Acidic",
          "Acidic",
          "Acidic",
          "Acidic",
          "Acidic",
          "Acidic",
          "Acidic",
          "Acidic",
          "Acidic",
          "Neutral",
          "Acidic",
          "Acidic",
          "Acidic",
          "Acidic",
          "Acidic",
          "Acidic",
          "Acidic",
          "Acidic",
          "Acidic",
          "Acidic",
          "Acidic",
          "Acidic",
          "Acidic",
          "Acidic",
          "Acidic",
          "Acidic",
          "Acidic",
          "Acidic",
          "Acidic",
          "Acidic",
          "Acidic",
          "Acidic",
          "Acidic",
          "Acidic",
          "Acidic",
          "Acidic",
          "Acidic",
          "Acidic",
          "Acidic",
          "Acidic",
          "Acidic",
          "Acidic",
          "Acidic",
          "Acidic",
          "Acidic",
          "Acidic",
          "Acidic",
          "Neutral",
          "Acidic",
          "Acidic"
         ],
         "x0": " ",
         "xaxis": "x",
         "y": [
          31.777209545505546,
          31.703771270478818,
          31.6366044258216,
          31.456804597477543,
          31.718761486728255,
          31.49473639779081,
          31.615204379481735,
          31.877560827659185,
          31.731359948513983,
          31.391995948018373,
          31.49453144199182,
          31.550332036370595,
          31.79949992137027,
          31.49085149004969,
          31.418678241196098,
          31.785031180299143,
          31.660535195899016,
          31.764336463610285,
          31.745783821438987,
          31.847407474351954,
          31.6045882142212,
          31.638754442193623,
          31.53345168797549,
          31.846503965476703,
          31.790504653213254,
          31.571882266125417,
          31.757591891787527,
          31.340810476748416,
          31.576644750314028,
          31.62134200857327,
          31.208126390684978,
          31.772860371131102,
          31.62230355010529,
          31.891829056346833,
          31.412787161556185,
          31.83608773840539,
          31.518298475035095,
          31.44450837908979,
          31.649424446333857,
          31.484791934894325,
          31.638168713928984,
          31.389754446632356,
          31.73710258621255,
          31.43146912771882,
          31.67215651639424,
          31.415420494853585,
          31.452573919775613,
          31.60215707323217,
          31.693031351199895,
          31.974718716187468,
          31.511405816618367,
          31.646649868412695,
          31.72190383404803,
          31.37055586083588,
          31.529456464842095,
          31.594946826006016,
          31.659083437008466,
          31.83035793632651,
          31.56561497004232,
          31.3369899277669,
          31.642742648833977,
          31.362983541219936,
          31.6868352553274,
          31.581693943384693,
          31.603395924198356,
          31.67693072064419,
          31.737188792684353,
          31.546350972956738,
          31.71596379243306,
          31.45564773366166,
          31.72407247287603,
          31.63151047726725,
          31.645210992014597,
          31.691329704377768,
          31.83301811949594,
          31.633863283583626,
          31.363835756739142,
          31.619968610586778,
          31.714040085445745,
          31.787518239325063,
          31.88604310976407,
          31.61759955872448,
          31.62054870629838,
          31.588989586585527,
          31.737562467254207,
          31.81423429080686,
          31.27426288296719,
          31.574776519183096,
          31.88748362232711,
          31.622435504919984,
          31.76750884880564,
          31.7147994346799,
          31.6233435265379,
          31.47617612710546,
          31.40974995393664,
          31.726166220655266,
          31.705249774327548,
          31.350531727456733,
          31.398596102012295,
          31.72804876949189
         ],
         "y0": " ",
         "yaxis": "y"
        },
        {
         "alignmentgroup": "True",
         "customdata": [
          [
           "Asparagus"
          ],
          [
           "Asparagus"
          ],
          [
           "Asparagus"
          ],
          [
           "Asparagus"
          ],
          [
           "Asparagus"
          ],
          [
           "Asparagus"
          ],
          [
           "Asparagus"
          ],
          [
           "Asparagus"
          ],
          [
           "Asparagus"
          ],
          [
           "Asparagus"
          ],
          [
           "Asparagus"
          ],
          [
           "Asparagus"
          ],
          [
           "Asparagus"
          ],
          [
           "Asparagus"
          ],
          [
           "Asparagus"
          ],
          [
           "Asparagus"
          ],
          [
           "Asparagus"
          ],
          [
           "Asparagus"
          ],
          [
           "Asparagus"
          ],
          [
           "Asparagus"
          ],
          [
           "Asparagus"
          ],
          [
           "Asparagus"
          ],
          [
           "Asparagus"
          ],
          [
           "Asparagus"
          ],
          [
           "Asparagus"
          ],
          [
           "Asparagus"
          ],
          [
           "Asparagus"
          ],
          [
           "Asparagus"
          ],
          [
           "Asparagus"
          ],
          [
           "Asparagus"
          ],
          [
           "Asparagus"
          ],
          [
           "Asparagus"
          ],
          [
           "Asparagus"
          ],
          [
           "Asparagus"
          ],
          [
           "Asparagus"
          ],
          [
           "Asparagus"
          ],
          [
           "Asparagus"
          ],
          [
           "Asparagus"
          ],
          [
           "Asparagus"
          ],
          [
           "Asparagus"
          ],
          [
           "Asparagus"
          ],
          [
           "Asparagus"
          ],
          [
           "Asparagus"
          ],
          [
           "Asparagus"
          ],
          [
           "Asparagus"
          ],
          [
           "Asparagus"
          ],
          [
           "Asparagus"
          ],
          [
           "Asparagus"
          ],
          [
           "Asparagus"
          ],
          [
           "Asparagus"
          ],
          [
           "Asparagus"
          ],
          [
           "Asparagus"
          ],
          [
           "Asparagus"
          ],
          [
           "Asparagus"
          ],
          [
           "Asparagus"
          ],
          [
           "Asparagus"
          ],
          [
           "Asparagus"
          ],
          [
           "Asparagus"
          ],
          [
           "Asparagus"
          ],
          [
           "Asparagus"
          ],
          [
           "Asparagus"
          ],
          [
           "Asparagus"
          ],
          [
           "Asparagus"
          ],
          [
           "Asparagus"
          ],
          [
           "Asparagus"
          ],
          [
           "Asparagus"
          ],
          [
           "Asparagus"
          ],
          [
           "Asparagus"
          ],
          [
           "Asparagus"
          ],
          [
           "Asparagus"
          ],
          [
           "Asparagus"
          ],
          [
           "Asparagus"
          ],
          [
           "Asparagus"
          ],
          [
           "Asparagus"
          ],
          [
           "Asparagus"
          ],
          [
           "Asparagus"
          ],
          [
           "Asparagus"
          ],
          [
           "Asparagus"
          ],
          [
           "Asparagus"
          ],
          [
           "Asparagus"
          ],
          [
           "Asparagus"
          ],
          [
           "Asparagus"
          ],
          [
           "Asparagus"
          ],
          [
           "Asparagus"
          ],
          [
           "Asparagus"
          ],
          [
           "Asparagus"
          ],
          [
           "Asparagus"
          ],
          [
           "Asparagus"
          ],
          [
           "Asparagus"
          ],
          [
           "Asparagus"
          ],
          [
           "Asparagus"
          ],
          [
           "Asparagus"
          ],
          [
           "Asparagus"
          ],
          [
           "Asparagus"
          ],
          [
           "Asparagus"
          ],
          [
           "Asparagus"
          ],
          [
           "Asparagus"
          ],
          [
           "Asparagus"
          ],
          [
           "Asparagus"
          ],
          [
           "Asparagus"
          ]
         ],
         "hovertemplate": "Name=%{customdata[0]}<br>pH Label=%{x}<br>Yield=%{y}<extra></extra>",
         "legendgroup": "Asparagus",
         "marker": {
          "color": "#00cc96"
         },
         "name": "Asparagus",
         "notched": false,
         "offsetgroup": "Asparagus",
         "orientation": "v",
         "showlegend": true,
         "type": "box",
         "x": [
          "Acidic",
          "Acidic",
          "Neutral",
          "Acidic",
          "Acidic",
          "Acidic",
          "Acidic",
          "Acidic",
          "Acidic",
          "Acidic",
          "Acidic",
          "Acidic",
          "Acidic",
          "Acidic",
          "Acidic",
          "Acidic",
          "Acidic",
          "Acidic",
          "Acidic",
          "Acidic",
          "Acidic",
          "Acidic",
          "Acidic",
          "Acidic",
          "Acidic",
          "Acidic",
          "Acidic",
          "Acidic",
          "Acidic",
          "Acidic",
          "Acidic",
          "Acidic",
          "Acidic",
          "Acidic",
          "Acidic",
          "Acidic",
          "Acidic",
          "Acidic",
          "Acidic",
          "Acidic",
          "Acidic",
          "Acidic",
          "Acidic",
          "Acidic",
          "Acidic",
          "Acidic",
          "Acidic",
          "Acidic",
          "Neutral",
          "Acidic",
          "Acidic",
          "Acidic",
          "Acidic",
          "Neutral",
          "Acidic",
          "Acidic",
          "Acidic",
          "Acidic",
          "Acidic",
          "Acidic",
          "Acidic",
          "Acidic",
          "Acidic",
          "Acidic",
          "Acidic",
          "Acidic",
          "Acidic",
          "Acidic",
          "Acidic",
          "Acidic",
          "Acidic",
          "Acidic",
          "Acidic",
          "Acidic",
          "Acidic",
          "Acidic",
          "Acidic",
          "Acidic",
          "Acidic",
          "Acidic",
          "Acidic",
          "Acidic",
          "Acidic",
          "Acidic",
          "Acidic",
          "Acidic",
          "Acidic",
          "Neutral",
          "Acidic",
          "Acidic",
          "Neutral",
          "Acidic",
          "Acidic",
          "Acidic",
          "Acidic",
          "Acidic",
          "Acidic",
          "Acidic",
          "Acidic",
          "Acidic"
         ],
         "x0": " ",
         "xaxis": "x",
         "y": [
          6.611789256392111,
          6.591324087370893,
          6.832073321776295,
          6.626778274408861,
          6.7443301776860425,
          6.838110339473676,
          6.45773435861889,
          6.564872857666331,
          6.6708609562811905,
          6.607872948008793,
          6.802812160057219,
          6.647591914155284,
          6.438006231694575,
          6.679336878226438,
          6.668082591676052,
          6.557810948006529,
          6.558143311118784,
          6.824578536568121,
          6.392781006416938,
          6.845477254245041,
          6.61522533584721,
          6.5767372161896995,
          7.010911385607304,
          6.450473291090452,
          6.450498800703884,
          6.612249025725,
          6.519736403454671,
          6.382362544327149,
          7.011923090838152,
          6.723599303369467,
          6.663704783900553,
          6.51916968098517,
          6.442372556209807,
          6.7314209432682945,
          6.496730707999709,
          6.473134692728826,
          6.595825196020316,
          6.899934394839626,
          6.603051026260682,
          6.181086203870798,
          6.682200671909099,
          6.880284939166689,
          6.576998548356004,
          6.732863368900132,
          6.784550484031069,
          6.902656873626429,
          6.789032275797326,
          6.516430796981014,
          6.570899827452221,
          6.691987644943499,
          6.614617669211206,
          6.459069238427209,
          6.596848532187635,
          6.548195714383837,
          6.523110806891983,
          6.8111570199235905,
          6.738587389724296,
          6.657041951193557,
          6.7270866675467555,
          6.575726460528708,
          6.8195149157532295,
          6.596152755773174,
          6.597278239741588,
          6.603032811619498,
          6.620779176629416,
          6.42926652612624,
          6.775731837580657,
          6.841789738542416,
          6.631311445200366,
          6.645811825724024,
          6.700502738062156,
          6.821699376711434,
          6.452272709796385,
          6.704194638545482,
          6.708407469043687,
          6.504133008965057,
          6.613776078799945,
          6.569256263851818,
          6.760682301184247,
          6.60311777317231,
          6.621230316547815,
          6.334817794191558,
          6.692569609092997,
          6.575012195579987,
          6.404897308842603,
          6.7415947502706475,
          6.75713920303334,
          6.831374759347907,
          6.488702503397849,
          6.292743667302765,
          6.3237529470506555,
          6.5990388522028685,
          6.3150574973046085,
          6.3915941298866015,
          6.854633121339222,
          6.64108664687968,
          6.992362296767459,
          6.589559988296405,
          6.783786722957206,
          6.820505277963559
         ],
         "y0": " ",
         "yaxis": "y"
        },
        {
         "alignmentgroup": "True",
         "customdata": [
          [
           "Chilli Peppers"
          ],
          [
           "Chilli Peppers"
          ],
          [
           "Chilli Peppers"
          ],
          [
           "Chilli Peppers"
          ],
          [
           "Chilli Peppers"
          ],
          [
           "Chilli Peppers"
          ],
          [
           "Chilli Peppers"
          ],
          [
           "Chilli Peppers"
          ],
          [
           "Chilli Peppers"
          ],
          [
           "Chilli Peppers"
          ],
          [
           "Chilli Peppers"
          ],
          [
           "Chilli Peppers"
          ],
          [
           "Chilli Peppers"
          ],
          [
           "Chilli Peppers"
          ],
          [
           "Chilli Peppers"
          ],
          [
           "Chilli Peppers"
          ],
          [
           "Chilli Peppers"
          ],
          [
           "Chilli Peppers"
          ],
          [
           "Chilli Peppers"
          ],
          [
           "Chilli Peppers"
          ],
          [
           "Chilli Peppers"
          ],
          [
           "Chilli Peppers"
          ],
          [
           "Chilli Peppers"
          ],
          [
           "Chilli Peppers"
          ],
          [
           "Chilli Peppers"
          ],
          [
           "Chilli Peppers"
          ],
          [
           "Chilli Peppers"
          ],
          [
           "Chilli Peppers"
          ],
          [
           "Chilli Peppers"
          ],
          [
           "Chilli Peppers"
          ],
          [
           "Chilli Peppers"
          ],
          [
           "Chilli Peppers"
          ],
          [
           "Chilli Peppers"
          ],
          [
           "Chilli Peppers"
          ],
          [
           "Chilli Peppers"
          ],
          [
           "Chilli Peppers"
          ],
          [
           "Chilli Peppers"
          ],
          [
           "Chilli Peppers"
          ],
          [
           "Chilli Peppers"
          ],
          [
           "Chilli Peppers"
          ],
          [
           "Chilli Peppers"
          ],
          [
           "Chilli Peppers"
          ],
          [
           "Chilli Peppers"
          ],
          [
           "Chilli Peppers"
          ],
          [
           "Chilli Peppers"
          ],
          [
           "Chilli Peppers"
          ],
          [
           "Chilli Peppers"
          ],
          [
           "Chilli Peppers"
          ],
          [
           "Chilli Peppers"
          ],
          [
           "Chilli Peppers"
          ],
          [
           "Chilli Peppers"
          ],
          [
           "Chilli Peppers"
          ],
          [
           "Chilli Peppers"
          ],
          [
           "Chilli Peppers"
          ],
          [
           "Chilli Peppers"
          ],
          [
           "Chilli Peppers"
          ],
          [
           "Chilli Peppers"
          ],
          [
           "Chilli Peppers"
          ],
          [
           "Chilli Peppers"
          ],
          [
           "Chilli Peppers"
          ],
          [
           "Chilli Peppers"
          ],
          [
           "Chilli Peppers"
          ],
          [
           "Chilli Peppers"
          ],
          [
           "Chilli Peppers"
          ],
          [
           "Chilli Peppers"
          ],
          [
           "Chilli Peppers"
          ],
          [
           "Chilli Peppers"
          ],
          [
           "Chilli Peppers"
          ],
          [
           "Chilli Peppers"
          ],
          [
           "Chilli Peppers"
          ],
          [
           "Chilli Peppers"
          ],
          [
           "Chilli Peppers"
          ],
          [
           "Chilli Peppers"
          ],
          [
           "Chilli Peppers"
          ],
          [
           "Chilli Peppers"
          ],
          [
           "Chilli Peppers"
          ],
          [
           "Chilli Peppers"
          ],
          [
           "Chilli Peppers"
          ],
          [
           "Chilli Peppers"
          ],
          [
           "Chilli Peppers"
          ],
          [
           "Chilli Peppers"
          ],
          [
           "Chilli Peppers"
          ],
          [
           "Chilli Peppers"
          ],
          [
           "Chilli Peppers"
          ],
          [
           "Chilli Peppers"
          ],
          [
           "Chilli Peppers"
          ],
          [
           "Chilli Peppers"
          ],
          [
           "Chilli Peppers"
          ],
          [
           "Chilli Peppers"
          ],
          [
           "Chilli Peppers"
          ],
          [
           "Chilli Peppers"
          ],
          [
           "Chilli Peppers"
          ],
          [
           "Chilli Peppers"
          ],
          [
           "Chilli Peppers"
          ],
          [
           "Chilli Peppers"
          ],
          [
           "Chilli Peppers"
          ],
          [
           "Chilli Peppers"
          ],
          [
           "Chilli Peppers"
          ],
          [
           "Chilli Peppers"
          ],
          [
           "Chilli Peppers"
          ]
         ],
         "hovertemplate": "Name=%{customdata[0]}<br>pH Label=%{x}<br>Yield=%{y}<extra></extra>",
         "legendgroup": "Chilli Peppers",
         "marker": {
          "color": "#ab63fa"
         },
         "name": "Chilli Peppers",
         "notched": false,
         "offsetgroup": "Chilli Peppers",
         "orientation": "v",
         "showlegend": true,
         "type": "box",
         "x": [
          "Acidic",
          "Acidic",
          "Acidic",
          "Acidic",
          "Acidic",
          "Acidic",
          "Acidic",
          "Acidic",
          "Acidic",
          "Acidic",
          "Acidic",
          "Acidic",
          "Acidic",
          "Acidic",
          "Acidic",
          "Acidic",
          "Acidic",
          "Acidic",
          "Acidic",
          "Acidic",
          "Acidic",
          "Acidic",
          "Acidic",
          "Acidic",
          "Acidic",
          "Acidic",
          "Acidic",
          "Acidic",
          "Acidic",
          "Acidic",
          "Neutral",
          "Acidic",
          "Acidic",
          "Acidic",
          "Acidic",
          "Acidic",
          "Acidic",
          "Acidic",
          "Acidic",
          "Acidic",
          "Acidic",
          "Acidic",
          "Acidic",
          "Acidic",
          "Acidic",
          "Acidic",
          "Neutral",
          "Acidic",
          "Acidic",
          "Acidic",
          "Acidic",
          "Acidic",
          "Acidic",
          "Acidic",
          "Acidic",
          "Acidic",
          "Acidic",
          "Acidic",
          "Acidic",
          "Acidic",
          "Acidic",
          "Acidic",
          "Acidic",
          "Acidic",
          "Acidic",
          "Acidic",
          "Acidic",
          "Acidic",
          "Acidic",
          "Acidic",
          "Acidic",
          "Acidic",
          "Acidic",
          "Acidic",
          "Acidic",
          "Acidic",
          "Acidic",
          "Acidic",
          "Acidic",
          "Acidic",
          "Neutral",
          "Acidic",
          "Neutral",
          "Acidic",
          "Acidic",
          "Acidic",
          "Acidic",
          "Acidic",
          "Acidic",
          "Acidic",
          "Acidic",
          "Acidic",
          "Acidic",
          "Acidic",
          "Acidic",
          "Acidic",
          "Acidic",
          "Acidic",
          "Acidic",
          "Acidic"
         ],
         "x0": " ",
         "xaxis": "x",
         "y": [
          24.82546239203023,
          24.65581614162401,
          24.793420732485863,
          24.593969692699662,
          24.937961923886665,
          24.69022741602702,
          24.864661937578884,
          24.82677399169064,
          24.90809799332003,
          25.00099767856864,
          24.928898182567213,
          24.936919144632967,
          24.801021312242906,
          24.778722361133784,
          24.929604792979497,
          24.689411425376253,
          25.036831951615053,
          25.053489587342764,
          24.96962139519749,
          25.00601945272365,
          24.70953426374226,
          24.785169837246933,
          24.702234867042176,
          24.80417716241206,
          24.894810501522787,
          24.798371832819527,
          25.030407724442156,
          25.07383709198996,
          24.859174061141317,
          24.852326896889533,
          24.997173610063697,
          24.4977182031969,
          24.97756859620556,
          24.588149625097643,
          24.851658287754592,
          24.70419127300272,
          24.75659005801032,
          24.824309202308772,
          24.626540487034685,
          24.694798991044586,
          24.7216553578295,
          24.75454051653653,
          24.71711200955486,
          24.96810697125825,
          24.913642381705735,
          24.66776723030313,
          24.768190093098255,
          24.88944808395794,
          24.90645758000879,
          24.77397327302847,
          24.780881955169644,
          24.73997171282597,
          24.847804567168733,
          24.655571890026348,
          24.544155058734177,
          24.843122765501104,
          24.62813264576274,
          24.78639480677822,
          24.6804121604126,
          25.159665210145153,
          25.094856379674347,
          24.783370918182825,
          24.71522510956203,
          24.795532757720547,
          24.83511888701085,
          24.894705500628294,
          24.627006866648877,
          24.834616078955772,
          24.809499795231712,
          24.730451391005857,
          24.76204946998257,
          24.715108706553885,
          24.85620832201552,
          24.969864520534585,
          24.664161377858484,
          24.623945831733327,
          25.040272791102502,
          24.95867255979463,
          25.087846918432533,
          24.72175573347404,
          24.666709847591157,
          24.81064799016673,
          24.89958540510135,
          24.821880914607735,
          24.81421955593096,
          24.998103738445295,
          24.855918581548288,
          24.894880444732273,
          24.93568880204059,
          24.86946461045773,
          24.399321286996024,
          25.001719266506644,
          24.92888049774775,
          24.539818673674898,
          24.74014462823476,
          24.57395486752295,
          24.487455398574877,
          24.781929394088365,
          24.819867733539468,
          24.83571077205093
         ],
         "y0": " ",
         "yaxis": "y"
        },
        {
         "alignmentgroup": "True",
         "customdata": [
          [
           "Cabbage"
          ],
          [
           "Cabbage"
          ],
          [
           "Cabbage"
          ],
          [
           "Cabbage"
          ],
          [
           "Cabbage"
          ],
          [
           "Cabbage"
          ],
          [
           "Cabbage"
          ],
          [
           "Cabbage"
          ],
          [
           "Cabbage"
          ],
          [
           "Cabbage"
          ],
          [
           "Cabbage"
          ],
          [
           "Cabbage"
          ],
          [
           "Cabbage"
          ],
          [
           "Cabbage"
          ],
          [
           "Cabbage"
          ],
          [
           "Cabbage"
          ],
          [
           "Cabbage"
          ],
          [
           "Cabbage"
          ],
          [
           "Cabbage"
          ],
          [
           "Cabbage"
          ],
          [
           "Cabbage"
          ],
          [
           "Cabbage"
          ],
          [
           "Cabbage"
          ],
          [
           "Cabbage"
          ],
          [
           "Cabbage"
          ],
          [
           "Cabbage"
          ],
          [
           "Cabbage"
          ],
          [
           "Cabbage"
          ],
          [
           "Cabbage"
          ],
          [
           "Cabbage"
          ],
          [
           "Cabbage"
          ],
          [
           "Cabbage"
          ],
          [
           "Cabbage"
          ],
          [
           "Cabbage"
          ],
          [
           "Cabbage"
          ],
          [
           "Cabbage"
          ],
          [
           "Cabbage"
          ],
          [
           "Cabbage"
          ],
          [
           "Cabbage"
          ],
          [
           "Cabbage"
          ],
          [
           "Cabbage"
          ],
          [
           "Cabbage"
          ],
          [
           "Cabbage"
          ],
          [
           "Cabbage"
          ],
          [
           "Cabbage"
          ],
          [
           "Cabbage"
          ],
          [
           "Cabbage"
          ],
          [
           "Cabbage"
          ],
          [
           "Cabbage"
          ],
          [
           "Cabbage"
          ],
          [
           "Cabbage"
          ],
          [
           "Cabbage"
          ],
          [
           "Cabbage"
          ],
          [
           "Cabbage"
          ],
          [
           "Cabbage"
          ],
          [
           "Cabbage"
          ],
          [
           "Cabbage"
          ],
          [
           "Cabbage"
          ],
          [
           "Cabbage"
          ],
          [
           "Cabbage"
          ],
          [
           "Cabbage"
          ],
          [
           "Cabbage"
          ],
          [
           "Cabbage"
          ],
          [
           "Cabbage"
          ],
          [
           "Cabbage"
          ],
          [
           "Cabbage"
          ],
          [
           "Cabbage"
          ],
          [
           "Cabbage"
          ],
          [
           "Cabbage"
          ],
          [
           "Cabbage"
          ],
          [
           "Cabbage"
          ],
          [
           "Cabbage"
          ],
          [
           "Cabbage"
          ],
          [
           "Cabbage"
          ],
          [
           "Cabbage"
          ],
          [
           "Cabbage"
          ],
          [
           "Cabbage"
          ],
          [
           "Cabbage"
          ],
          [
           "Cabbage"
          ],
          [
           "Cabbage"
          ],
          [
           "Cabbage"
          ],
          [
           "Cabbage"
          ],
          [
           "Cabbage"
          ],
          [
           "Cabbage"
          ],
          [
           "Cabbage"
          ],
          [
           "Cabbage"
          ],
          [
           "Cabbage"
          ],
          [
           "Cabbage"
          ],
          [
           "Cabbage"
          ],
          [
           "Cabbage"
          ],
          [
           "Cabbage"
          ],
          [
           "Cabbage"
          ],
          [
           "Cabbage"
          ],
          [
           "Cabbage"
          ],
          [
           "Cabbage"
          ],
          [
           "Cabbage"
          ],
          [
           "Cabbage"
          ],
          [
           "Cabbage"
          ],
          [
           "Cabbage"
          ],
          [
           "Cabbage"
          ]
         ],
         "hovertemplate": "Name=%{customdata[0]}<br>pH Label=%{x}<br>Yield=%{y}<extra></extra>",
         "legendgroup": "Cabbage",
         "marker": {
          "color": "#FFA15A"
         },
         "name": "Cabbage",
         "notched": false,
         "offsetgroup": "Cabbage",
         "orientation": "v",
         "showlegend": true,
         "type": "box",
         "x": [
          "Acidic",
          "Neutral",
          "Acidic",
          "Neutral",
          "Neutral",
          "Neutral",
          "Acidic",
          "Neutral",
          "Neutral",
          "Neutral",
          "Neutral",
          "Neutral",
          "Neutral",
          "Neutral",
          "Neutral",
          "Neutral",
          "Neutral",
          "Neutral",
          "Neutral",
          "Neutral",
          "Neutral",
          "Neutral",
          "Acidic",
          "Neutral",
          "Neutral",
          "Neutral",
          "Neutral",
          "Neutral",
          "Neutral",
          "Neutral",
          "Neutral",
          "Neutral",
          "Neutral",
          "Neutral",
          "Neutral",
          "Neutral",
          "Neutral",
          "Neutral",
          "Neutral",
          "Neutral",
          "Acidic",
          "Neutral",
          "Neutral",
          "Acidic",
          "Neutral",
          "Neutral",
          "Neutral",
          "Neutral",
          "Neutral",
          "Neutral",
          "Neutral",
          "Acidic",
          "Neutral",
          "Neutral",
          "Neutral",
          "Neutral",
          "Neutral",
          "Neutral",
          "Neutral",
          "Acidic",
          "Neutral",
          "Neutral",
          "Neutral",
          "Neutral",
          "Neutral",
          "Acidic",
          "Neutral",
          "Neutral",
          "Neutral",
          "Neutral",
          "Neutral",
          "Neutral",
          "Neutral",
          "Neutral",
          "Neutral",
          "Neutral",
          "Neutral",
          "Neutral",
          "Acidic",
          "Acidic",
          "Acidic",
          "Acidic",
          "Neutral",
          "Neutral",
          "Neutral",
          "Neutral",
          "Neutral",
          "Neutral",
          "Neutral",
          "Acidic",
          "Neutral",
          "Neutral",
          "Acidic",
          "Neutral",
          "Neutral",
          "Neutral",
          "Neutral",
          "Acidic",
          "Neutral",
          "Neutral"
         ],
         "x0": " ",
         "xaxis": "x",
         "y": [
          18.878988775100435,
          18.89870191751753,
          18.986262700550533,
          18.695047521270947,
          18.921789934070265,
          18.918834020187205,
          19.08099725571625,
          19.007605504857807,
          19.15453261449579,
          19.179598925302788,
          18.93815955909269,
          19.05743805471193,
          19.3802823599509,
          18.810015945426123,
          19.08671239025384,
          18.664659524052137,
          19.030293765344805,
          18.789541339221003,
          19.21936719111484,
          18.971626636306727,
          18.772954885296784,
          18.646240355575316,
          19.21612575214083,
          19.359396742402215,
          19.02825384795329,
          18.88645188224942,
          18.6463791035138,
          18.796624430475173,
          19.14068427578167,
          19.237919364709303,
          18.71922224786078,
          18.984280074068344,
          19.079219727918968,
          19.002992997722057,
          18.586898663955623,
          19.10205175007094,
          19.00548716857729,
          19.167264842185116,
          18.662551528795372,
          19.250429475137576,
          19.119880164116715,
          19.07063558917648,
          18.824500676768828,
          18.62310358522554,
          19.0201600280995,
          18.805294493253538,
          19.143459156251044,
          18.87879912939003,
          18.90180356091952,
          19.098985100077645,
          19.226755374703657,
          19.056794649431197,
          18.862535612425745,
          18.60082535113095,
          19.04832463716048,
          18.71186583843491,
          18.77561448123928,
          18.610689333409223,
          18.93883929885428,
          18.92951710311828,
          18.94193993523088,
          18.882224633597332,
          19.129103920471852,
          18.91944346448403,
          18.80714768870264,
          19.444515610443744,
          19.28938292303503,
          18.65552084755378,
          18.941798091473977,
          18.75595513618472,
          18.911127255255604,
          18.907516923036372,
          18.995104672593328,
          18.98800132465391,
          19.076194304670743,
          18.980388627780027,
          19.11411178346009,
          18.943761363142247,
          18.81959039402791,
          19.12192621071721,
          18.847085177506745,
          19.19206584890661,
          18.65772339609443,
          18.956719680080592,
          19.276461366101305,
          18.90327104810585,
          18.80830573321883,
          18.858606757921564,
          18.99080404965414,
          18.984570200979743,
          18.968642827982844,
          19.252256925538155,
          19.027631187723912,
          18.864357411934336,
          19.0782272124451,
          19.43387313796324,
          19.197943670391872,
          19.33295088597519,
          19.275640858880188,
          18.948146665165982
         ],
         "y0": " ",
         "yaxis": "y"
        },
        {
         "alignmentgroup": "True",
         "customdata": [
          [
           "Cucumbers"
          ],
          [
           "Cucumbers"
          ],
          [
           "Cucumbers"
          ],
          [
           "Cucumbers"
          ],
          [
           "Cucumbers"
          ],
          [
           "Cucumbers"
          ],
          [
           "Cucumbers"
          ],
          [
           "Cucumbers"
          ],
          [
           "Cucumbers"
          ],
          [
           "Cucumbers"
          ],
          [
           "Cucumbers"
          ],
          [
           "Cucumbers"
          ],
          [
           "Cucumbers"
          ],
          [
           "Cucumbers"
          ],
          [
           "Cucumbers"
          ],
          [
           "Cucumbers"
          ],
          [
           "Cucumbers"
          ],
          [
           "Cucumbers"
          ],
          [
           "Cucumbers"
          ],
          [
           "Cucumbers"
          ],
          [
           "Cucumbers"
          ],
          [
           "Cucumbers"
          ],
          [
           "Cucumbers"
          ],
          [
           "Cucumbers"
          ],
          [
           "Cucumbers"
          ],
          [
           "Cucumbers"
          ],
          [
           "Cucumbers"
          ],
          [
           "Cucumbers"
          ],
          [
           "Cucumbers"
          ],
          [
           "Cucumbers"
          ],
          [
           "Cucumbers"
          ],
          [
           "Cucumbers"
          ],
          [
           "Cucumbers"
          ],
          [
           "Cucumbers"
          ],
          [
           "Cucumbers"
          ],
          [
           "Cucumbers"
          ],
          [
           "Cucumbers"
          ],
          [
           "Cucumbers"
          ],
          [
           "Cucumbers"
          ],
          [
           "Cucumbers"
          ],
          [
           "Cucumbers"
          ],
          [
           "Cucumbers"
          ],
          [
           "Cucumbers"
          ],
          [
           "Cucumbers"
          ],
          [
           "Cucumbers"
          ],
          [
           "Cucumbers"
          ],
          [
           "Cucumbers"
          ],
          [
           "Cucumbers"
          ],
          [
           "Cucumbers"
          ],
          [
           "Cucumbers"
          ],
          [
           "Cucumbers"
          ],
          [
           "Cucumbers"
          ],
          [
           "Cucumbers"
          ],
          [
           "Cucumbers"
          ],
          [
           "Cucumbers"
          ],
          [
           "Cucumbers"
          ],
          [
           "Cucumbers"
          ],
          [
           "Cucumbers"
          ],
          [
           "Cucumbers"
          ],
          [
           "Cucumbers"
          ],
          [
           "Cucumbers"
          ],
          [
           "Cucumbers"
          ],
          [
           "Cucumbers"
          ],
          [
           "Cucumbers"
          ],
          [
           "Cucumbers"
          ],
          [
           "Cucumbers"
          ],
          [
           "Cucumbers"
          ],
          [
           "Cucumbers"
          ],
          [
           "Cucumbers"
          ],
          [
           "Cucumbers"
          ],
          [
           "Cucumbers"
          ],
          [
           "Cucumbers"
          ],
          [
           "Cucumbers"
          ],
          [
           "Cucumbers"
          ],
          [
           "Cucumbers"
          ],
          [
           "Cucumbers"
          ],
          [
           "Cucumbers"
          ],
          [
           "Cucumbers"
          ],
          [
           "Cucumbers"
          ],
          [
           "Cucumbers"
          ],
          [
           "Cucumbers"
          ],
          [
           "Cucumbers"
          ],
          [
           "Cucumbers"
          ],
          [
           "Cucumbers"
          ],
          [
           "Cucumbers"
          ],
          [
           "Cucumbers"
          ],
          [
           "Cucumbers"
          ],
          [
           "Cucumbers"
          ],
          [
           "Cucumbers"
          ],
          [
           "Cucumbers"
          ],
          [
           "Cucumbers"
          ],
          [
           "Cucumbers"
          ],
          [
           "Cucumbers"
          ],
          [
           "Cucumbers"
          ],
          [
           "Cucumbers"
          ],
          [
           "Cucumbers"
          ],
          [
           "Cucumbers"
          ],
          [
           "Cucumbers"
          ],
          [
           "Cucumbers"
          ],
          [
           "Cucumbers"
          ]
         ],
         "hovertemplate": "Name=%{customdata[0]}<br>pH Label=%{x}<br>Yield=%{y}<extra></extra>",
         "legendgroup": "Cucumbers",
         "marker": {
          "color": "#19d3f3"
         },
         "name": "Cucumbers",
         "notched": false,
         "offsetgroup": "Cucumbers",
         "orientation": "v",
         "showlegend": true,
         "type": "box",
         "x": [
          "Neutral",
          "Neutral",
          "Neutral",
          "Neutral",
          "Neutral",
          "Neutral",
          "Acidic",
          "Neutral",
          "Neutral",
          "Neutral",
          "Neutral",
          "Neutral",
          "Neutral",
          "Neutral",
          "Acidic",
          "Acidic",
          "Neutral",
          "Neutral",
          "Neutral",
          "Neutral",
          "Acidic",
          "Neutral",
          "Neutral",
          "Neutral",
          "Neutral",
          "Neutral",
          "Neutral",
          "Neutral",
          "Neutral",
          "Neutral",
          "Neutral",
          "Neutral",
          "Neutral",
          "Acidic",
          "Neutral",
          "Neutral",
          "Acidic",
          "Neutral",
          "Acidic",
          "Neutral",
          "Neutral",
          "Acidic",
          "Acidic",
          "Acidic",
          "Neutral",
          "Neutral",
          "Neutral",
          "Neutral",
          "Neutral",
          "Neutral",
          "Neutral",
          "Neutral",
          "Neutral",
          "Neutral",
          "Neutral",
          "Neutral",
          "Neutral",
          "Neutral",
          "Acidic",
          "Neutral",
          "Acidic",
          "Neutral",
          "Neutral",
          "Neutral",
          "Neutral",
          "Neutral",
          "Acidic",
          "Neutral",
          "Neutral",
          "Neutral",
          "Acidic",
          "Acidic",
          "Neutral",
          "Neutral",
          "Neutral",
          "Neutral",
          "Acidic",
          "Neutral",
          "Neutral",
          "Neutral",
          "Neutral",
          "Neutral",
          "Neutral",
          "Neutral",
          "Neutral",
          "Acidic",
          "Acidic",
          "Neutral",
          "Neutral",
          "Neutral",
          "Neutral",
          "Neutral",
          "Neutral",
          "Neutral",
          "Neutral",
          "Neutral",
          "Neutral",
          "Neutral",
          "Neutral",
          "Neutral"
         ],
         "x0": " ",
         "xaxis": "x",
         "y": [
          28.23643967178276,
          28.09154201204898,
          29.150084721934867,
          28.730088024170534,
          27.62846099464229,
          29.501000074985505,
          28.666569722538956,
          29.335936739014965,
          29.50723788141208,
          29.77575935571881,
          29.65259520571032,
          29.643813609191724,
          27.62119476877116,
          29.128781681981483,
          28.25862284188455,
          29.269518356249744,
          28.53147917340276,
          28.250484275982153,
          28.360286226472947,
          28.275381017814397,
          28.04770433911257,
          28.330128488943785,
          29.140352415069703,
          28.549161894317734,
          29.040607871442106,
          29.29636515437458,
          30.83742729137948,
          27.769542340727806,
          28.870151304908468,
          29.326451541878686,
          28.17421485010488,
          29.137327576845312,
          28.245611996009984,
          28.257530403608747,
          28.44325254612659,
          28.19372826746204,
          28.857048250892017,
          29.570954919011843,
          29.559909662376324,
          29.433165079971992,
          28.46641838092959,
          29.34855449445128,
          28.93148969595469,
          29.45590490932584,
          29.72544924644707,
          28.59612744897709,
          28.78331345105923,
          28.62666174799687,
          28.849459688694,
          29.714793669774984,
          29.4956515773755,
          28.923291394880295,
          29.798724430437552,
          29.899899831530877,
          28.3747570777766,
          28.31583350900007,
          29.516046762738252,
          29.50018791824013,
          28.78153020690736,
          27.418166967013267,
          28.353379007067513,
          29.721218398781826,
          29.070100098741925,
          30.157776616325144,
          29.232836941823408,
          29.307089843571397,
          30.068767188920106,
          28.2380316265714,
          30.16041040246957,
          28.75053483733112,
          28.658454451215174,
          28.53241140857398,
          28.473289438682052,
          27.76432259248279,
          29.300874147300977,
          29.413403861093258,
          29.05001866454325,
          28.15523244853177,
          29.30690705343728,
          29.423928068271348,
          30.547369884418437,
          27.99700329762984,
          28.166886197852246,
          29.736538284096863,
          29.62544031015687,
          27.393131968267394,
          28.322984493199055,
          28.41298892555426,
          29.19616473616928,
          27.728016257842793,
          29.019162610315465,
          27.7116291125239,
          28.406601843148,
          28.529682078925003,
          28.62403509879085,
          28.93017804857542,
          28.048045921201748,
          28.20334750350235,
          30.334782612790217,
          29.597039281255103
         ],
         "y0": " ",
         "yaxis": "y"
        },
        {
         "alignmentgroup": "True",
         "customdata": [
          [
           "Potatoes"
          ],
          [
           "Potatoes"
          ],
          [
           "Potatoes"
          ],
          [
           "Potatoes"
          ],
          [
           "Potatoes"
          ],
          [
           "Potatoes"
          ],
          [
           "Potatoes"
          ],
          [
           "Potatoes"
          ],
          [
           "Potatoes"
          ],
          [
           "Potatoes"
          ],
          [
           "Potatoes"
          ],
          [
           "Potatoes"
          ],
          [
           "Potatoes"
          ],
          [
           "Potatoes"
          ],
          [
           "Potatoes"
          ],
          [
           "Potatoes"
          ],
          [
           "Potatoes"
          ],
          [
           "Potatoes"
          ],
          [
           "Potatoes"
          ],
          [
           "Potatoes"
          ],
          [
           "Potatoes"
          ],
          [
           "Potatoes"
          ],
          [
           "Potatoes"
          ],
          [
           "Potatoes"
          ],
          [
           "Potatoes"
          ],
          [
           "Potatoes"
          ],
          [
           "Potatoes"
          ],
          [
           "Potatoes"
          ],
          [
           "Potatoes"
          ],
          [
           "Potatoes"
          ],
          [
           "Potatoes"
          ],
          [
           "Potatoes"
          ],
          [
           "Potatoes"
          ],
          [
           "Potatoes"
          ],
          [
           "Potatoes"
          ],
          [
           "Potatoes"
          ],
          [
           "Potatoes"
          ],
          [
           "Potatoes"
          ],
          [
           "Potatoes"
          ],
          [
           "Potatoes"
          ],
          [
           "Potatoes"
          ],
          [
           "Potatoes"
          ],
          [
           "Potatoes"
          ],
          [
           "Potatoes"
          ],
          [
           "Potatoes"
          ],
          [
           "Potatoes"
          ],
          [
           "Potatoes"
          ],
          [
           "Potatoes"
          ],
          [
           "Potatoes"
          ],
          [
           "Potatoes"
          ],
          [
           "Potatoes"
          ],
          [
           "Potatoes"
          ],
          [
           "Potatoes"
          ],
          [
           "Potatoes"
          ],
          [
           "Potatoes"
          ],
          [
           "Potatoes"
          ],
          [
           "Potatoes"
          ],
          [
           "Potatoes"
          ],
          [
           "Potatoes"
          ],
          [
           "Potatoes"
          ],
          [
           "Potatoes"
          ],
          [
           "Potatoes"
          ],
          [
           "Potatoes"
          ],
          [
           "Potatoes"
          ],
          [
           "Potatoes"
          ],
          [
           "Potatoes"
          ],
          [
           "Potatoes"
          ],
          [
           "Potatoes"
          ],
          [
           "Potatoes"
          ],
          [
           "Potatoes"
          ],
          [
           "Potatoes"
          ],
          [
           "Potatoes"
          ],
          [
           "Potatoes"
          ],
          [
           "Potatoes"
          ],
          [
           "Potatoes"
          ],
          [
           "Potatoes"
          ],
          [
           "Potatoes"
          ],
          [
           "Potatoes"
          ],
          [
           "Potatoes"
          ],
          [
           "Potatoes"
          ],
          [
           "Potatoes"
          ],
          [
           "Potatoes"
          ],
          [
           "Potatoes"
          ],
          [
           "Potatoes"
          ],
          [
           "Potatoes"
          ],
          [
           "Potatoes"
          ],
          [
           "Potatoes"
          ],
          [
           "Potatoes"
          ],
          [
           "Potatoes"
          ],
          [
           "Potatoes"
          ],
          [
           "Potatoes"
          ],
          [
           "Potatoes"
          ],
          [
           "Potatoes"
          ],
          [
           "Potatoes"
          ],
          [
           "Potatoes"
          ],
          [
           "Potatoes"
          ],
          [
           "Potatoes"
          ],
          [
           "Potatoes"
          ],
          [
           "Potatoes"
          ],
          [
           "Potatoes"
          ]
         ],
         "hovertemplate": "Name=%{customdata[0]}<br>pH Label=%{x}<br>Yield=%{y}<extra></extra>",
         "legendgroup": "Potatoes",
         "marker": {
          "color": "#FF6692"
         },
         "name": "Potatoes",
         "notched": false,
         "offsetgroup": "Potatoes",
         "orientation": "v",
         "showlegend": true,
         "type": "box",
         "x": [
          "High Acidic",
          "Acidic",
          "Acidic",
          "High Acidic",
          "High Acidic",
          "Acidic",
          "High Acidic",
          "High Acidic",
          "Acidic",
          "Acidic",
          "High Acidic",
          "Acidic",
          "High Acidic",
          "High Acidic",
          "High Acidic",
          "Acidic",
          "High Acidic",
          "Acidic",
          "Acidic",
          "Acidic",
          "Acidic",
          "Acidic",
          "High Acidic",
          "Acidic",
          "High Acidic",
          "Acidic",
          "Acidic",
          "Acidic",
          "Acidic",
          "Acidic",
          "Acidic",
          "Acidic",
          "Acidic",
          "Acidic",
          "Acidic",
          "Acidic",
          "High Acidic",
          "High Acidic",
          "Acidic",
          "Acidic",
          "Acidic",
          "Acidic",
          "Acidic",
          "High Acidic",
          "Acidic",
          "Acidic",
          "Acidic",
          "Acidic",
          "Acidic",
          "Acidic",
          "Acidic",
          "Acidic",
          "Acidic",
          "Acidic",
          "Acidic",
          "Acidic",
          "Acidic",
          "Acidic",
          "High Acidic",
          "Acidic",
          "Acidic",
          "Acidic",
          "High Acidic",
          "Acidic",
          "Acidic",
          "Acidic",
          "Acidic",
          "High Acidic",
          "High Acidic",
          "Acidic",
          "Acidic",
          "Acidic",
          "Acidic",
          "Acidic",
          "High Acidic",
          "High Acidic",
          "Acidic",
          "Acidic",
          "Acidic",
          "Acidic",
          "Acidic",
          "High Acidic",
          "Acidic",
          "Acidic",
          "Acidic",
          "Acidic",
          "High Acidic",
          "Acidic",
          "High Acidic",
          "Acidic",
          "Acidic",
          "Acidic",
          "High Acidic",
          "Acidic",
          "Acidic",
          "Acidic",
          "Acidic",
          "High Acidic",
          "Acidic",
          "High Acidic"
         ],
         "x0": " ",
         "xaxis": "x",
         "y": [
          28.62815861396516,
          29.756156928841097,
          28.87981463203956,
          29.460106434267768,
          29.311625803216295,
          29.1479459887747,
          29.117895680461416,
          28.997373664286343,
          29.414220862076284,
          28.419104525743172,
          28.75976605667205,
          28.892324724883597,
          28.91321367686878,
          29.05042507545689,
          29.050350596548142,
          28.89318909386884,
          29.044727720033706,
          29.40271717296452,
          28.956869839623085,
          29.628781978861024,
          29.149057066416685,
          29.16450371418481,
          29.60997254224429,
          29.229645939341516,
          29.578960520139223,
          29.023176496724457,
          29.382832787992378,
          28.986590140672337,
          29.481189718415745,
          28.508658508923883,
          29.25587266107353,
          28.611692347233628,
          29.062703969561305,
          29.0700489945046,
          28.96624293551737,
          28.660174130157277,
          29.257491905720272,
          29.049738395095044,
          29.42438879164632,
          29.16481018159532,
          28.959293763397095,
          29.052045140888296,
          29.202186239010505,
          29.229025538241597,
          28.75011861139509,
          29.09153192505439,
          29.46956782287088,
          29.280627486980897,
          29.381074774751276,
          29.783794306843223,
          29.047924067013454,
          28.89156938834137,
          29.734406707365437,
          29.061722685084156,
          29.201769318997098,
          29.75979976962682,
          29.109082737106,
          30.28063471144076,
          29.092647767782196,
          29.55938258770469,
          29.48065336794638,
          29.38929834062117,
          29.70856016994713,
          28.72200015721554,
          29.16974704441851,
          29.86132343622114,
          29.16633122482065,
          29.334072932890283,
          29.35400546145636,
          28.886654675024268,
          29.308864099045053,
          29.242541498752946,
          28.924708941601335,
          28.9274625674776,
          29.837625138829292,
          29.074118708392735,
          29.014124039273938,
          29.501885386971633,
          29.220307182262076,
          28.895838988008663,
          29.083339473846287,
          28.78492597071224,
          28.87825991310767,
          29.74232367171003,
          29.503435337993817,
          28.981756087452656,
          29.03895369994667,
          29.06400357088233,
          29.69404246643686,
          28.9174622061695,
          29.34478835515576,
          29.553756250767982,
          28.693137955681348,
          29.098163203002077,
          29.093087419309256,
          29.48931172533101,
          29.007424299220556,
          28.71128379116381,
          28.849832870092424,
          29.147887693109244
         ],
         "y0": " ",
         "yaxis": "y"
        },
        {
         "alignmentgroup": "True",
         "customdata": [
          [
           "Cauliflowers"
          ],
          [
           "Cauliflowers"
          ],
          [
           "Cauliflowers"
          ],
          [
           "Cauliflowers"
          ],
          [
           "Cauliflowers"
          ],
          [
           "Cauliflowers"
          ],
          [
           "Cauliflowers"
          ],
          [
           "Cauliflowers"
          ],
          [
           "Cauliflowers"
          ],
          [
           "Cauliflowers"
          ],
          [
           "Cauliflowers"
          ],
          [
           "Cauliflowers"
          ],
          [
           "Cauliflowers"
          ],
          [
           "Cauliflowers"
          ],
          [
           "Cauliflowers"
          ],
          [
           "Cauliflowers"
          ],
          [
           "Cauliflowers"
          ],
          [
           "Cauliflowers"
          ],
          [
           "Cauliflowers"
          ],
          [
           "Cauliflowers"
          ],
          [
           "Cauliflowers"
          ],
          [
           "Cauliflowers"
          ],
          [
           "Cauliflowers"
          ],
          [
           "Cauliflowers"
          ],
          [
           "Cauliflowers"
          ],
          [
           "Cauliflowers"
          ],
          [
           "Cauliflowers"
          ],
          [
           "Cauliflowers"
          ],
          [
           "Cauliflowers"
          ],
          [
           "Cauliflowers"
          ],
          [
           "Cauliflowers"
          ],
          [
           "Cauliflowers"
          ],
          [
           "Cauliflowers"
          ],
          [
           "Cauliflowers"
          ],
          [
           "Cauliflowers"
          ],
          [
           "Cauliflowers"
          ],
          [
           "Cauliflowers"
          ],
          [
           "Cauliflowers"
          ],
          [
           "Cauliflowers"
          ],
          [
           "Cauliflowers"
          ],
          [
           "Cauliflowers"
          ],
          [
           "Cauliflowers"
          ],
          [
           "Cauliflowers"
          ],
          [
           "Cauliflowers"
          ],
          [
           "Cauliflowers"
          ],
          [
           "Cauliflowers"
          ],
          [
           "Cauliflowers"
          ],
          [
           "Cauliflowers"
          ],
          [
           "Cauliflowers"
          ],
          [
           "Cauliflowers"
          ],
          [
           "Cauliflowers"
          ],
          [
           "Cauliflowers"
          ],
          [
           "Cauliflowers"
          ],
          [
           "Cauliflowers"
          ],
          [
           "Cauliflowers"
          ],
          [
           "Cauliflowers"
          ],
          [
           "Cauliflowers"
          ],
          [
           "Cauliflowers"
          ],
          [
           "Cauliflowers"
          ],
          [
           "Cauliflowers"
          ],
          [
           "Cauliflowers"
          ],
          [
           "Cauliflowers"
          ],
          [
           "Cauliflowers"
          ],
          [
           "Cauliflowers"
          ],
          [
           "Cauliflowers"
          ],
          [
           "Cauliflowers"
          ],
          [
           "Cauliflowers"
          ],
          [
           "Cauliflowers"
          ],
          [
           "Cauliflowers"
          ],
          [
           "Cauliflowers"
          ],
          [
           "Cauliflowers"
          ],
          [
           "Cauliflowers"
          ],
          [
           "Cauliflowers"
          ],
          [
           "Cauliflowers"
          ],
          [
           "Cauliflowers"
          ],
          [
           "Cauliflowers"
          ],
          [
           "Cauliflowers"
          ],
          [
           "Cauliflowers"
          ],
          [
           "Cauliflowers"
          ],
          [
           "Cauliflowers"
          ],
          [
           "Cauliflowers"
          ],
          [
           "Cauliflowers"
          ],
          [
           "Cauliflowers"
          ],
          [
           "Cauliflowers"
          ],
          [
           "Cauliflowers"
          ],
          [
           "Cauliflowers"
          ],
          [
           "Cauliflowers"
          ],
          [
           "Cauliflowers"
          ],
          [
           "Cauliflowers"
          ],
          [
           "Cauliflowers"
          ],
          [
           "Cauliflowers"
          ],
          [
           "Cauliflowers"
          ],
          [
           "Cauliflowers"
          ],
          [
           "Cauliflowers"
          ],
          [
           "Cauliflowers"
          ],
          [
           "Cauliflowers"
          ],
          [
           "Cauliflowers"
          ],
          [
           "Cauliflowers"
          ],
          [
           "Cauliflowers"
          ],
          [
           "Cauliflowers"
          ]
         ],
         "hovertemplate": "Name=%{customdata[0]}<br>pH Label=%{x}<br>Yield=%{y}<extra></extra>",
         "legendgroup": "Cauliflowers",
         "marker": {
          "color": "#B6E880"
         },
         "name": "Cauliflowers",
         "notched": false,
         "offsetgroup": "Cauliflowers",
         "orientation": "v",
         "showlegend": true,
         "type": "box",
         "x": [
          "Acidic",
          "Neutral",
          "Acidic",
          "Acidic",
          "Neutral",
          "Neutral",
          "Acidic",
          "Neutral",
          "Acidic",
          "Neutral",
          "Acidic",
          "Neutral",
          "Neutral",
          "Neutral",
          "Acidic",
          "Neutral",
          "Acidic",
          "Neutral",
          "Acidic",
          "Acidic",
          "Acidic",
          "Acidic",
          "Neutral",
          "Neutral",
          "Acidic",
          "Acidic",
          "Acidic",
          "Acidic",
          "Acidic",
          "Neutral",
          "Acidic",
          "Acidic",
          "Neutral",
          "Neutral",
          "Acidic",
          "Acidic",
          "Acidic",
          "Acidic",
          "Neutral",
          "Neutral",
          "Acidic",
          "Acidic",
          "Acidic",
          "Acidic",
          "Neutral",
          "Acidic",
          "Neutral",
          "Acidic",
          "Acidic",
          "Neutral",
          "Acidic",
          "Neutral",
          "Neutral",
          "Acidic",
          "Acidic",
          "Neutral",
          "Neutral",
          "Neutral",
          "Neutral",
          "Acidic",
          "Neutral",
          "Neutral",
          "Neutral",
          "Neutral",
          "Acidic",
          "Neutral",
          "Acidic",
          "Acidic",
          "Neutral",
          "Neutral",
          "Acidic",
          "Acidic",
          "Acidic",
          "Neutral",
          "Neutral",
          "Neutral",
          "Acidic",
          "Acidic",
          "Acidic",
          "Neutral",
          "Neutral",
          "Acidic",
          "Acidic",
          "Neutral",
          "Acidic",
          "Neutral",
          "Neutral",
          "Acidic",
          "Neutral",
          "Neutral",
          "Acidic",
          "Neutral",
          "Acidic",
          "Acidic",
          "Acidic",
          "Neutral",
          "Acidic",
          "Acidic",
          "Neutral",
          "Acidic"
         ],
         "x0": " ",
         "xaxis": "x",
         "y": [
          23.49116222941413,
          23.60599809134086,
          23.634595841174637,
          23.4626856393679,
          23.540711366725773,
          23.480253716763208,
          23.525772189630853,
          23.7088570011337,
          23.659725517341663,
          23.60405873592386,
          23.480862737090273,
          23.554549580200305,
          23.409343491093903,
          23.67757485733841,
          23.48982966090113,
          23.608085053794717,
          23.521469568970993,
          23.559898186779595,
          23.359863005358974,
          23.435890009216727,
          23.66973980485687,
          23.52851095525204,
          23.4864665234392,
          23.69367780650675,
          23.56329768878633,
          23.592193152092356,
          23.463558406383328,
          23.598070124208135,
          23.61921073856536,
          23.509626368914287,
          23.381384008450254,
          23.43841265080293,
          23.51331523834648,
          23.479968616652364,
          23.791806367564803,
          23.772920747172403,
          23.463128458906425,
          23.53883779312537,
          23.64195290681711,
          23.5121027192795,
          23.517841496097553,
          23.432509854626055,
          23.591831678940405,
          23.498241697905552,
          23.58156011130412,
          23.588159927953875,
          23.64772683620192,
          23.632176265840975,
          23.382791130558186,
          23.624667439022115,
          23.613854873268306,
          23.52910687373864,
          23.532401231297513,
          23.561059117410306,
          23.571479268726947,
          23.686802437558654,
          23.62561242721988,
          23.71052565879629,
          23.417031623684,
          23.623315515054276,
          23.604236218969955,
          23.559625893589487,
          23.66104937267973,
          23.489142769182497,
          23.443284726372656,
          23.622286245506032,
          23.45372357695808,
          23.442820729956487,
          23.787005901256332,
          23.55916132933358,
          23.589735584604284,
          23.313770788010157,
          23.62021282265569,
          23.615470338780508,
          23.534496345547087,
          23.443364475717345,
          23.4624134871282,
          23.61688766084268,
          23.533183103691307,
          23.366471302569245,
          23.417691411097262,
          23.574770767673083,
          23.47623491122653,
          23.62760204935766,
          23.52706764953512,
          23.38164041095404,
          23.37736641681067,
          23.51219401901577,
          23.50265373836802,
          23.811559262562824,
          23.601301672563444,
          23.5767140163012,
          23.372331818362827,
          23.638610869518907,
          23.553243066600295,
          23.480414194186505,
          23.549655250955347,
          23.523847374005385,
          23.513948491107183,
          23.449748298212484
         ],
         "y0": " ",
         "yaxis": "y"
        },
        {
         "alignmentgroup": "True",
         "customdata": [
          [
           "Broccoli"
          ],
          [
           "Broccoli"
          ],
          [
           "Broccoli"
          ],
          [
           "Broccoli"
          ],
          [
           "Broccoli"
          ],
          [
           "Broccoli"
          ],
          [
           "Broccoli"
          ],
          [
           "Broccoli"
          ],
          [
           "Broccoli"
          ],
          [
           "Broccoli"
          ],
          [
           "Broccoli"
          ],
          [
           "Broccoli"
          ],
          [
           "Broccoli"
          ],
          [
           "Broccoli"
          ],
          [
           "Broccoli"
          ],
          [
           "Broccoli"
          ],
          [
           "Broccoli"
          ],
          [
           "Broccoli"
          ],
          [
           "Broccoli"
          ],
          [
           "Broccoli"
          ],
          [
           "Broccoli"
          ],
          [
           "Broccoli"
          ],
          [
           "Broccoli"
          ],
          [
           "Broccoli"
          ],
          [
           "Broccoli"
          ],
          [
           "Broccoli"
          ],
          [
           "Broccoli"
          ],
          [
           "Broccoli"
          ],
          [
           "Broccoli"
          ],
          [
           "Broccoli"
          ],
          [
           "Broccoli"
          ],
          [
           "Broccoli"
          ],
          [
           "Broccoli"
          ],
          [
           "Broccoli"
          ],
          [
           "Broccoli"
          ],
          [
           "Broccoli"
          ],
          [
           "Broccoli"
          ],
          [
           "Broccoli"
          ],
          [
           "Broccoli"
          ],
          [
           "Broccoli"
          ],
          [
           "Broccoli"
          ],
          [
           "Broccoli"
          ],
          [
           "Broccoli"
          ],
          [
           "Broccoli"
          ],
          [
           "Broccoli"
          ],
          [
           "Broccoli"
          ],
          [
           "Broccoli"
          ],
          [
           "Broccoli"
          ],
          [
           "Broccoli"
          ],
          [
           "Broccoli"
          ],
          [
           "Broccoli"
          ],
          [
           "Broccoli"
          ],
          [
           "Broccoli"
          ],
          [
           "Broccoli"
          ],
          [
           "Broccoli"
          ],
          [
           "Broccoli"
          ],
          [
           "Broccoli"
          ],
          [
           "Broccoli"
          ],
          [
           "Broccoli"
          ],
          [
           "Broccoli"
          ],
          [
           "Broccoli"
          ],
          [
           "Broccoli"
          ],
          [
           "Broccoli"
          ],
          [
           "Broccoli"
          ],
          [
           "Broccoli"
          ],
          [
           "Broccoli"
          ],
          [
           "Broccoli"
          ],
          [
           "Broccoli"
          ],
          [
           "Broccoli"
          ],
          [
           "Broccoli"
          ],
          [
           "Broccoli"
          ],
          [
           "Broccoli"
          ],
          [
           "Broccoli"
          ],
          [
           "Broccoli"
          ],
          [
           "Broccoli"
          ],
          [
           "Broccoli"
          ],
          [
           "Broccoli"
          ],
          [
           "Broccoli"
          ],
          [
           "Broccoli"
          ],
          [
           "Broccoli"
          ],
          [
           "Broccoli"
          ],
          [
           "Broccoli"
          ],
          [
           "Broccoli"
          ],
          [
           "Broccoli"
          ],
          [
           "Broccoli"
          ],
          [
           "Broccoli"
          ],
          [
           "Broccoli"
          ],
          [
           "Broccoli"
          ],
          [
           "Broccoli"
          ],
          [
           "Broccoli"
          ],
          [
           "Broccoli"
          ],
          [
           "Broccoli"
          ],
          [
           "Broccoli"
          ],
          [
           "Broccoli"
          ],
          [
           "Broccoli"
          ],
          [
           "Broccoli"
          ],
          [
           "Broccoli"
          ],
          [
           "Broccoli"
          ],
          [
           "Broccoli"
          ],
          [
           "Broccoli"
          ]
         ],
         "hovertemplate": "Name=%{customdata[0]}<br>pH Label=%{x}<br>Yield=%{y}<extra></extra>",
         "legendgroup": "Broccoli",
         "marker": {
          "color": "#FF97FF"
         },
         "name": "Broccoli",
         "notched": false,
         "offsetgroup": "Broccoli",
         "orientation": "v",
         "showlegend": true,
         "type": "box",
         "x": [
          "Acidic",
          "Acidic",
          "Neutral",
          "Neutral",
          "Acidic",
          "Acidic",
          "Acidic",
          "Neutral",
          "Acidic",
          "Acidic",
          "Acidic",
          "Acidic",
          "Neutral",
          "Neutral",
          "Acidic",
          "Acidic",
          "Neutral",
          "Neutral",
          "Neutral",
          "Acidic",
          "Neutral",
          "Acidic",
          "Neutral",
          "Neutral",
          "Neutral",
          "Neutral",
          "Neutral",
          "Acidic",
          "Neutral",
          "Neutral",
          "Neutral",
          "Acidic",
          "Neutral",
          "Acidic",
          "Acidic",
          "Neutral",
          "Acidic",
          "Neutral",
          "Neutral",
          "Neutral",
          "Neutral",
          "Neutral",
          "Neutral",
          "Neutral",
          "Neutral",
          "Acidic",
          "Acidic",
          "Acidic",
          "Neutral",
          "Neutral",
          "Acidic",
          "Neutral",
          "Neutral",
          "Acidic",
          "Neutral",
          "Neutral",
          "Acidic",
          "Acidic",
          "Neutral",
          "Neutral",
          "Neutral",
          "Acidic",
          "Neutral",
          "Acidic",
          "Acidic",
          "Acidic",
          "Acidic",
          "Acidic",
          "Neutral",
          "Acidic",
          "Neutral",
          "Acidic",
          "Acidic",
          "Neutral",
          "Neutral",
          "Acidic",
          "Neutral",
          "Neutral",
          "Neutral",
          "Acidic",
          "Acidic",
          "Acidic",
          "Neutral",
          "Neutral",
          "Neutral",
          "Neutral",
          "Acidic",
          "Neutral",
          "Acidic",
          "Neutral",
          "Neutral",
          "Neutral",
          "Neutral",
          "Neutral",
          "Acidic",
          "Acidic",
          "Neutral",
          "Acidic",
          "Acidic",
          "Neutral"
         ],
         "x0": " ",
         "xaxis": "x",
         "y": [
          23.666485593248932,
          23.470540185155947,
          23.71126049891206,
          23.505890886524742,
          23.49363496367741,
          23.546206714719627,
          23.425715258072287,
          23.456857488007895,
          23.69215117816764,
          23.203239581587827,
          23.601461612275127,
          23.53678683143232,
          23.542160667106984,
          23.605073055773016,
          23.67648054178616,
          23.276922723688767,
          23.51432462498798,
          23.48322956327546,
          23.60821002773877,
          23.52924112789047,
          23.483071408876913,
          23.474564985004704,
          23.440332840898215,
          23.58416547295996,
          23.441850396080977,
          23.34347129018959,
          23.70395315681398,
          23.666537635149968,
          23.48055483065749,
          23.46114509746647,
          23.472961282761872,
          23.530508096522983,
          23.422191610377705,
          23.55142898898263,
          23.40475922480187,
          23.680056245926114,
          23.50603963260693,
          23.79213951268309,
          23.501730818869547,
          23.44013084628775,
          23.56917037878401,
          23.410414151486844,
          23.418029387625836,
          23.509647034573717,
          23.557965206236585,
          23.538999374979586,
          23.517612863650548,
          23.464738439305187,
          23.43028072180606,
          23.654401711517146,
          23.514163518928136,
          23.94906824054652,
          23.73215421143506,
          23.58900897065764,
          23.57575274956861,
          23.32830128096693,
          23.47646131435434,
          23.44410110143667,
          23.659763855221332,
          23.4759826350557,
          23.299665519981403,
          23.475385836690368,
          23.497962531870563,
          23.338963522903256,
          23.49908447347437,
          23.612617586540026,
          23.465548896252415,
          23.482870510038794,
          23.562867451436983,
          23.6397542179784,
          23.500279539320367,
          23.7714113755777,
          23.74312669355868,
          23.442980515235856,
          23.400981179936256,
          23.59536223144265,
          23.236215209307247,
          23.46955700444172,
          23.652717343677672,
          23.6425448363285,
          23.613934880381983,
          23.651155422471263,
          23.599418765455983,
          23.38499170505222,
          23.688164598216524,
          23.475046613981203,
          23.682941956247795,
          23.670083788090867,
          23.64959881633135,
          23.784211045425582,
          23.403648386088708,
          23.52863598632768,
          23.65773594877315,
          23.52286662632291,
          23.564825387317228,
          23.58238318629504,
          23.525049243107564,
          23.367004615777365,
          23.504033597585188,
          23.711034703708943
         ],
         "y0": " ",
         "yaxis": "y"
        },
        {
         "alignmentgroup": "True",
         "customdata": [
          [
           "Green Peas"
          ],
          [
           "Green Peas"
          ],
          [
           "Green Peas"
          ],
          [
           "Green Peas"
          ],
          [
           "Green Peas"
          ],
          [
           "Green Peas"
          ],
          [
           "Green Peas"
          ],
          [
           "Green Peas"
          ],
          [
           "Green Peas"
          ],
          [
           "Green Peas"
          ],
          [
           "Green Peas"
          ],
          [
           "Green Peas"
          ],
          [
           "Green Peas"
          ],
          [
           "Green Peas"
          ],
          [
           "Green Peas"
          ],
          [
           "Green Peas"
          ],
          [
           "Green Peas"
          ],
          [
           "Green Peas"
          ],
          [
           "Green Peas"
          ],
          [
           "Green Peas"
          ],
          [
           "Green Peas"
          ],
          [
           "Green Peas"
          ],
          [
           "Green Peas"
          ],
          [
           "Green Peas"
          ],
          [
           "Green Peas"
          ],
          [
           "Green Peas"
          ],
          [
           "Green Peas"
          ],
          [
           "Green Peas"
          ],
          [
           "Green Peas"
          ],
          [
           "Green Peas"
          ],
          [
           "Green Peas"
          ],
          [
           "Green Peas"
          ],
          [
           "Green Peas"
          ],
          [
           "Green Peas"
          ],
          [
           "Green Peas"
          ],
          [
           "Green Peas"
          ],
          [
           "Green Peas"
          ],
          [
           "Green Peas"
          ],
          [
           "Green Peas"
          ],
          [
           "Green Peas"
          ],
          [
           "Green Peas"
          ],
          [
           "Green Peas"
          ],
          [
           "Green Peas"
          ],
          [
           "Green Peas"
          ],
          [
           "Green Peas"
          ],
          [
           "Green Peas"
          ],
          [
           "Green Peas"
          ],
          [
           "Green Peas"
          ],
          [
           "Green Peas"
          ],
          [
           "Green Peas"
          ],
          [
           "Green Peas"
          ],
          [
           "Green Peas"
          ],
          [
           "Green Peas"
          ],
          [
           "Green Peas"
          ],
          [
           "Green Peas"
          ],
          [
           "Green Peas"
          ],
          [
           "Green Peas"
          ],
          [
           "Green Peas"
          ],
          [
           "Green Peas"
          ],
          [
           "Green Peas"
          ],
          [
           "Green Peas"
          ],
          [
           "Green Peas"
          ],
          [
           "Green Peas"
          ],
          [
           "Green Peas"
          ],
          [
           "Green Peas"
          ],
          [
           "Green Peas"
          ],
          [
           "Green Peas"
          ],
          [
           "Green Peas"
          ],
          [
           "Green Peas"
          ],
          [
           "Green Peas"
          ],
          [
           "Green Peas"
          ],
          [
           "Green Peas"
          ],
          [
           "Green Peas"
          ],
          [
           "Green Peas"
          ],
          [
           "Green Peas"
          ],
          [
           "Green Peas"
          ],
          [
           "Green Peas"
          ],
          [
           "Green Peas"
          ],
          [
           "Green Peas"
          ],
          [
           "Green Peas"
          ],
          [
           "Green Peas"
          ],
          [
           "Green Peas"
          ],
          [
           "Green Peas"
          ],
          [
           "Green Peas"
          ],
          [
           "Green Peas"
          ],
          [
           "Green Peas"
          ],
          [
           "Green Peas"
          ],
          [
           "Green Peas"
          ],
          [
           "Green Peas"
          ],
          [
           "Green Peas"
          ],
          [
           "Green Peas"
          ],
          [
           "Green Peas"
          ],
          [
           "Green Peas"
          ],
          [
           "Green Peas"
          ],
          [
           "Green Peas"
          ],
          [
           "Green Peas"
          ],
          [
           "Green Peas"
          ],
          [
           "Green Peas"
          ],
          [
           "Green Peas"
          ],
          [
           "Green Peas"
          ]
         ],
         "hovertemplate": "Name=%{customdata[0]}<br>pH Label=%{x}<br>Yield=%{y}<extra></extra>",
         "legendgroup": "Green Peas",
         "marker": {
          "color": "#FECB52"
         },
         "name": "Green Peas",
         "notched": false,
         "offsetgroup": "Green Peas",
         "orientation": "v",
         "showlegend": true,
         "type": "box",
         "x": [
          "Acidic",
          "Acidic",
          "Acidic",
          "Neutral",
          "Neutral",
          "Acidic",
          "Acidic",
          "Acidic",
          "Neutral",
          "Acidic",
          "Acidic",
          "Acidic",
          "Acidic",
          "Neutral",
          "Acidic",
          "Acidic",
          "Acidic",
          "Acidic",
          "Acidic",
          "Acidic",
          "Neutral",
          "Acidic",
          "Acidic",
          "Acidic",
          "Neutral",
          "Acidic",
          "Acidic",
          "Acidic",
          "Acidic",
          "Acidic",
          "Neutral",
          "Acidic",
          "Acidic",
          "Acidic",
          "Acidic",
          "Acidic",
          "Acidic",
          "Acidic",
          "Acidic",
          "Acidic",
          "Acidic",
          "Acidic",
          "Neutral",
          "Acidic",
          "Acidic",
          "Acidic",
          "Acidic",
          "Acidic",
          "Acidic",
          "Acidic",
          "Acidic",
          "Neutral",
          "Acidic",
          "Neutral",
          "Neutral",
          "Acidic",
          "Acidic",
          "Acidic",
          "Acidic",
          "Acidic",
          "Acidic",
          "Acidic",
          "Acidic",
          "Acidic",
          "Acidic",
          "Neutral",
          "Acidic",
          "Acidic",
          "Neutral",
          "Acidic",
          "Acidic",
          "Acidic",
          "Acidic",
          "Acidic",
          "Acidic",
          "Acidic",
          "Acidic",
          "Acidic",
          "Acidic",
          "Acidic",
          "Acidic",
          "Neutral",
          "Acidic",
          "Acidic",
          "Acidic",
          "Acidic",
          "Neutral",
          "Acidic",
          "Acidic",
          "Acidic",
          "Acidic",
          "Acidic",
          "Acidic",
          "Acidic",
          "Acidic",
          "Acidic",
          "Acidic",
          "Acidic",
          "Acidic",
          "Acidic"
         ],
         "x0": " ",
         "xaxis": "x",
         "y": [
          4.962161193756152,
          5.170424886702583,
          5.541002874914854,
          5.109885983759431,
          5.1084409402166555,
          4.87344425450389,
          4.832524921284558,
          5.127286759971976,
          4.922475138806819,
          5.098518395468444,
          5.05902408804206,
          4.976716238968844,
          4.842458383208316,
          5.060256763766376,
          4.973278104583438,
          5.002587370240678,
          4.878452808422989,
          5.10279415434069,
          4.962640794162029,
          4.957805462107678,
          5.053507364453156,
          4.901193382508826,
          4.884578422227958,
          5.001429541374476,
          5.123442757273665,
          5.073423769099274,
          5.096663846806636,
          5.041728484632336,
          4.90703101352175,
          5.290625307035778,
          5.20043083300451,
          4.816518735148952,
          5.274210947116152,
          5.25795720085315,
          5.301964136789443,
          5.197919582985226,
          5.105553064824504,
          5.295068206526288,
          4.889180021803892,
          5.124547239210633,
          5.237062042245634,
          5.152532882282049,
          4.9313015409567855,
          4.766346066937555,
          5.015289082595241,
          4.8900436438870525,
          5.045981146546898,
          5.137154480263278,
          4.793341917238115,
          5.045665255428759,
          4.823056776022196,
          4.99458863822371,
          4.695344057550402,
          5.1948597399606635,
          5.084543202850142,
          4.868249884025566,
          4.99405932495927,
          4.959762615842386,
          4.895481993646493,
          5.015500261954558,
          5.334385164304484,
          5.28663460822393,
          5.285492158823352,
          4.918452457293091,
          5.134275874335376,
          4.82917589034392,
          5.162271633926153,
          5.267053755218382,
          4.648453706119838,
          4.733608993795207,
          4.987214399324914,
          5.064103766564217,
          5.209296679589816,
          5.407897861888411,
          4.9258996705800975,
          5.0640253254806264,
          4.791120941586989,
          5.1168539852652035,
          5.214536885769923,
          5.18173047977794,
          5.2603262724716595,
          4.946067675422944,
          4.8293416921105425,
          4.928907997994049,
          5.0887318242479935,
          5.165791088407151,
          5.303082745416512,
          5.035450951754245,
          5.181104673978151,
          5.026547754845833,
          4.877939585595452,
          5.158765005110142,
          5.087758046749149,
          5.146402301162606,
          4.907187931958502,
          4.743146227640828,
          4.757584272498245,
          4.959721363419321,
          4.995292000571477,
          5.124607309804112
         ],
         "y0": " ",
         "yaxis": "y"
        }
       ],
       "layout": {
        "boxmode": "group",
        "legend": {
         "title": {
          "text": "Name"
         },
         "tracegroupgap": 0
        },
        "template": {
         "data": {
          "bar": [
           {
            "error_x": {
             "color": "#2a3f5f"
            },
            "error_y": {
             "color": "#2a3f5f"
            },
            "marker": {
             "line": {
              "color": "#E5ECF6",
              "width": 0.5
             },
             "pattern": {
              "fillmode": "overlay",
              "size": 10,
              "solidity": 0.2
             }
            },
            "type": "bar"
           }
          ],
          "barpolar": [
           {
            "marker": {
             "line": {
              "color": "#E5ECF6",
              "width": 0.5
             },
             "pattern": {
              "fillmode": "overlay",
              "size": 10,
              "solidity": 0.2
             }
            },
            "type": "barpolar"
           }
          ],
          "carpet": [
           {
            "aaxis": {
             "endlinecolor": "#2a3f5f",
             "gridcolor": "white",
             "linecolor": "white",
             "minorgridcolor": "white",
             "startlinecolor": "#2a3f5f"
            },
            "baxis": {
             "endlinecolor": "#2a3f5f",
             "gridcolor": "white",
             "linecolor": "white",
             "minorgridcolor": "white",
             "startlinecolor": "#2a3f5f"
            },
            "type": "carpet"
           }
          ],
          "choropleth": [
           {
            "colorbar": {
             "outlinewidth": 0,
             "ticks": ""
            },
            "type": "choropleth"
           }
          ],
          "contour": [
           {
            "colorbar": {
             "outlinewidth": 0,
             "ticks": ""
            },
            "colorscale": [
             [
              0,
              "#0d0887"
             ],
             [
              0.1111111111111111,
              "#46039f"
             ],
             [
              0.2222222222222222,
              "#7201a8"
             ],
             [
              0.3333333333333333,
              "#9c179e"
             ],
             [
              0.4444444444444444,
              "#bd3786"
             ],
             [
              0.5555555555555556,
              "#d8576b"
             ],
             [
              0.6666666666666666,
              "#ed7953"
             ],
             [
              0.7777777777777778,
              "#fb9f3a"
             ],
             [
              0.8888888888888888,
              "#fdca26"
             ],
             [
              1,
              "#f0f921"
             ]
            ],
            "type": "contour"
           }
          ],
          "contourcarpet": [
           {
            "colorbar": {
             "outlinewidth": 0,
             "ticks": ""
            },
            "type": "contourcarpet"
           }
          ],
          "heatmap": [
           {
            "colorbar": {
             "outlinewidth": 0,
             "ticks": ""
            },
            "colorscale": [
             [
              0,
              "#0d0887"
             ],
             [
              0.1111111111111111,
              "#46039f"
             ],
             [
              0.2222222222222222,
              "#7201a8"
             ],
             [
              0.3333333333333333,
              "#9c179e"
             ],
             [
              0.4444444444444444,
              "#bd3786"
             ],
             [
              0.5555555555555556,
              "#d8576b"
             ],
             [
              0.6666666666666666,
              "#ed7953"
             ],
             [
              0.7777777777777778,
              "#fb9f3a"
             ],
             [
              0.8888888888888888,
              "#fdca26"
             ],
             [
              1,
              "#f0f921"
             ]
            ],
            "type": "heatmap"
           }
          ],
          "heatmapgl": [
           {
            "colorbar": {
             "outlinewidth": 0,
             "ticks": ""
            },
            "colorscale": [
             [
              0,
              "#0d0887"
             ],
             [
              0.1111111111111111,
              "#46039f"
             ],
             [
              0.2222222222222222,
              "#7201a8"
             ],
             [
              0.3333333333333333,
              "#9c179e"
             ],
             [
              0.4444444444444444,
              "#bd3786"
             ],
             [
              0.5555555555555556,
              "#d8576b"
             ],
             [
              0.6666666666666666,
              "#ed7953"
             ],
             [
              0.7777777777777778,
              "#fb9f3a"
             ],
             [
              0.8888888888888888,
              "#fdca26"
             ],
             [
              1,
              "#f0f921"
             ]
            ],
            "type": "heatmapgl"
           }
          ],
          "histogram": [
           {
            "marker": {
             "pattern": {
              "fillmode": "overlay",
              "size": 10,
              "solidity": 0.2
             }
            },
            "type": "histogram"
           }
          ],
          "histogram2d": [
           {
            "colorbar": {
             "outlinewidth": 0,
             "ticks": ""
            },
            "colorscale": [
             [
              0,
              "#0d0887"
             ],
             [
              0.1111111111111111,
              "#46039f"
             ],
             [
              0.2222222222222222,
              "#7201a8"
             ],
             [
              0.3333333333333333,
              "#9c179e"
             ],
             [
              0.4444444444444444,
              "#bd3786"
             ],
             [
              0.5555555555555556,
              "#d8576b"
             ],
             [
              0.6666666666666666,
              "#ed7953"
             ],
             [
              0.7777777777777778,
              "#fb9f3a"
             ],
             [
              0.8888888888888888,
              "#fdca26"
             ],
             [
              1,
              "#f0f921"
             ]
            ],
            "type": "histogram2d"
           }
          ],
          "histogram2dcontour": [
           {
            "colorbar": {
             "outlinewidth": 0,
             "ticks": ""
            },
            "colorscale": [
             [
              0,
              "#0d0887"
             ],
             [
              0.1111111111111111,
              "#46039f"
             ],
             [
              0.2222222222222222,
              "#7201a8"
             ],
             [
              0.3333333333333333,
              "#9c179e"
             ],
             [
              0.4444444444444444,
              "#bd3786"
             ],
             [
              0.5555555555555556,
              "#d8576b"
             ],
             [
              0.6666666666666666,
              "#ed7953"
             ],
             [
              0.7777777777777778,
              "#fb9f3a"
             ],
             [
              0.8888888888888888,
              "#fdca26"
             ],
             [
              1,
              "#f0f921"
             ]
            ],
            "type": "histogram2dcontour"
           }
          ],
          "mesh3d": [
           {
            "colorbar": {
             "outlinewidth": 0,
             "ticks": ""
            },
            "type": "mesh3d"
           }
          ],
          "parcoords": [
           {
            "line": {
             "colorbar": {
              "outlinewidth": 0,
              "ticks": ""
             }
            },
            "type": "parcoords"
           }
          ],
          "pie": [
           {
            "automargin": true,
            "type": "pie"
           }
          ],
          "scatter": [
           {
            "fillpattern": {
             "fillmode": "overlay",
             "size": 10,
             "solidity": 0.2
            },
            "type": "scatter"
           }
          ],
          "scatter3d": [
           {
            "line": {
             "colorbar": {
              "outlinewidth": 0,
              "ticks": ""
             }
            },
            "marker": {
             "colorbar": {
              "outlinewidth": 0,
              "ticks": ""
             }
            },
            "type": "scatter3d"
           }
          ],
          "scattercarpet": [
           {
            "marker": {
             "colorbar": {
              "outlinewidth": 0,
              "ticks": ""
             }
            },
            "type": "scattercarpet"
           }
          ],
          "scattergeo": [
           {
            "marker": {
             "colorbar": {
              "outlinewidth": 0,
              "ticks": ""
             }
            },
            "type": "scattergeo"
           }
          ],
          "scattergl": [
           {
            "marker": {
             "colorbar": {
              "outlinewidth": 0,
              "ticks": ""
             }
            },
            "type": "scattergl"
           }
          ],
          "scattermapbox": [
           {
            "marker": {
             "colorbar": {
              "outlinewidth": 0,
              "ticks": ""
             }
            },
            "type": "scattermapbox"
           }
          ],
          "scatterpolar": [
           {
            "marker": {
             "colorbar": {
              "outlinewidth": 0,
              "ticks": ""
             }
            },
            "type": "scatterpolar"
           }
          ],
          "scatterpolargl": [
           {
            "marker": {
             "colorbar": {
              "outlinewidth": 0,
              "ticks": ""
             }
            },
            "type": "scatterpolargl"
           }
          ],
          "scatterternary": [
           {
            "marker": {
             "colorbar": {
              "outlinewidth": 0,
              "ticks": ""
             }
            },
            "type": "scatterternary"
           }
          ],
          "surface": [
           {
            "colorbar": {
             "outlinewidth": 0,
             "ticks": ""
            },
            "colorscale": [
             [
              0,
              "#0d0887"
             ],
             [
              0.1111111111111111,
              "#46039f"
             ],
             [
              0.2222222222222222,
              "#7201a8"
             ],
             [
              0.3333333333333333,
              "#9c179e"
             ],
             [
              0.4444444444444444,
              "#bd3786"
             ],
             [
              0.5555555555555556,
              "#d8576b"
             ],
             [
              0.6666666666666666,
              "#ed7953"
             ],
             [
              0.7777777777777778,
              "#fb9f3a"
             ],
             [
              0.8888888888888888,
              "#fdca26"
             ],
             [
              1,
              "#f0f921"
             ]
            ],
            "type": "surface"
           }
          ],
          "table": [
           {
            "cells": {
             "fill": {
              "color": "#EBF0F8"
             },
             "line": {
              "color": "white"
             }
            },
            "header": {
             "fill": {
              "color": "#C8D4E3"
             },
             "line": {
              "color": "white"
             }
            },
            "type": "table"
           }
          ]
         },
         "layout": {
          "annotationdefaults": {
           "arrowcolor": "#2a3f5f",
           "arrowhead": 0,
           "arrowwidth": 1
          },
          "autotypenumbers": "strict",
          "coloraxis": {
           "colorbar": {
            "outlinewidth": 0,
            "ticks": ""
           }
          },
          "colorscale": {
           "diverging": [
            [
             0,
             "#8e0152"
            ],
            [
             0.1,
             "#c51b7d"
            ],
            [
             0.2,
             "#de77ae"
            ],
            [
             0.3,
             "#f1b6da"
            ],
            [
             0.4,
             "#fde0ef"
            ],
            [
             0.5,
             "#f7f7f7"
            ],
            [
             0.6,
             "#e6f5d0"
            ],
            [
             0.7,
             "#b8e186"
            ],
            [
             0.8,
             "#7fbc41"
            ],
            [
             0.9,
             "#4d9221"
            ],
            [
             1,
             "#276419"
            ]
           ],
           "sequential": [
            [
             0,
             "#0d0887"
            ],
            [
             0.1111111111111111,
             "#46039f"
            ],
            [
             0.2222222222222222,
             "#7201a8"
            ],
            [
             0.3333333333333333,
             "#9c179e"
            ],
            [
             0.4444444444444444,
             "#bd3786"
            ],
            [
             0.5555555555555556,
             "#d8576b"
            ],
            [
             0.6666666666666666,
             "#ed7953"
            ],
            [
             0.7777777777777778,
             "#fb9f3a"
            ],
            [
             0.8888888888888888,
             "#fdca26"
            ],
            [
             1,
             "#f0f921"
            ]
           ],
           "sequentialminus": [
            [
             0,
             "#0d0887"
            ],
            [
             0.1111111111111111,
             "#46039f"
            ],
            [
             0.2222222222222222,
             "#7201a8"
            ],
            [
             0.3333333333333333,
             "#9c179e"
            ],
            [
             0.4444444444444444,
             "#bd3786"
            ],
            [
             0.5555555555555556,
             "#d8576b"
            ],
            [
             0.6666666666666666,
             "#ed7953"
            ],
            [
             0.7777777777777778,
             "#fb9f3a"
            ],
            [
             0.8888888888888888,
             "#fdca26"
            ],
            [
             1,
             "#f0f921"
            ]
           ]
          },
          "colorway": [
           "#636efa",
           "#EF553B",
           "#00cc96",
           "#ab63fa",
           "#FFA15A",
           "#19d3f3",
           "#FF6692",
           "#B6E880",
           "#FF97FF",
           "#FECB52"
          ],
          "font": {
           "color": "#2a3f5f"
          },
          "geo": {
           "bgcolor": "white",
           "lakecolor": "white",
           "landcolor": "#E5ECF6",
           "showlakes": true,
           "showland": true,
           "subunitcolor": "white"
          },
          "hoverlabel": {
           "align": "left"
          },
          "hovermode": "closest",
          "mapbox": {
           "style": "light"
          },
          "paper_bgcolor": "white",
          "plot_bgcolor": "#E5ECF6",
          "polar": {
           "angularaxis": {
            "gridcolor": "white",
            "linecolor": "white",
            "ticks": ""
           },
           "bgcolor": "#E5ECF6",
           "radialaxis": {
            "gridcolor": "white",
            "linecolor": "white",
            "ticks": ""
           }
          },
          "scene": {
           "xaxis": {
            "backgroundcolor": "#E5ECF6",
            "gridcolor": "white",
            "gridwidth": 2,
            "linecolor": "white",
            "showbackground": true,
            "ticks": "",
            "zerolinecolor": "white"
           },
           "yaxis": {
            "backgroundcolor": "#E5ECF6",
            "gridcolor": "white",
            "gridwidth": 2,
            "linecolor": "white",
            "showbackground": true,
            "ticks": "",
            "zerolinecolor": "white"
           },
           "zaxis": {
            "backgroundcolor": "#E5ECF6",
            "gridcolor": "white",
            "gridwidth": 2,
            "linecolor": "white",
            "showbackground": true,
            "ticks": "",
            "zerolinecolor": "white"
           }
          },
          "shapedefaults": {
           "line": {
            "color": "#2a3f5f"
           }
          },
          "ternary": {
           "aaxis": {
            "gridcolor": "white",
            "linecolor": "white",
            "ticks": ""
           },
           "baxis": {
            "gridcolor": "white",
            "linecolor": "white",
            "ticks": ""
           },
           "bgcolor": "#E5ECF6",
           "caxis": {
            "gridcolor": "white",
            "linecolor": "white",
            "ticks": ""
           }
          },
          "title": {
           "x": 0.05
          },
          "xaxis": {
           "automargin": true,
           "gridcolor": "white",
           "linecolor": "white",
           "ticks": "",
           "title": {
            "standoff": 15
           },
           "zerolinecolor": "white",
           "zerolinewidth": 2
          },
          "yaxis": {
           "automargin": true,
           "gridcolor": "white",
           "linecolor": "white",
           "ticks": "",
           "title": {
            "standoff": 15
           },
           "zerolinecolor": "white",
           "zerolinewidth": 2
          }
         }
        },
        "title": {
         "text": "Yield vs Labeled pH Values per Vegetable"
        },
        "xaxis": {
         "anchor": "y",
         "domain": [
          0,
          1
         ],
         "title": {
          "text": "pH Label"
         }
        },
        "yaxis": {
         "anchor": "x",
         "domain": [
          0,
          1
         ],
         "title": {
          "text": "Yield"
         }
        }
       }
      }
     },
     "metadata": {},
     "output_type": "display_data"
    }
   ],
   "source": [
    "fig_box = px.box(\n",
    "    veg_data, \n",
    "    x='pH_Label', \n",
    "    y='Yield', \n",
    "    color='Name', \n",
    "    title='Yield vs Labeled pH Values per Vegetable',\n",
    "    labels={'pH_Label': 'pH Label', 'Yield': 'Yield'},\n",
    "    hover_data=['Name', 'pH_Label', 'Yield']\n",
    ")\n",
    "\n",
    "fig_box.show()"
   ]
  },
  {
   "cell_type": "markdown",
   "metadata": {},
   "source": [
    "Same general distribution with labels and continious pH values. "
   ]
  },
  {
   "cell_type": "code",
   "execution_count": 68,
   "metadata": {},
   "outputs": [
    {
     "name": "stdout",
     "output_type": "stream",
     "text": [
      "Tomatoes: Pearson correlation = -0.14, p-value = 1.66e-01\n",
      "Eggplants: Pearson correlation = -0.14, p-value = 1.76e-01\n",
      "Asparagus: Pearson correlation = -0.01, p-value = 9.58e-01\n",
      "Chilli Peppers: Pearson correlation = 0.01, p-value = 9.39e-01\n",
      "Cabbage: Pearson correlation = -0.10, p-value = 3.07e-01\n",
      "Cucumbers: Pearson correlation = -0.06, p-value = 5.26e-01\n",
      "Potatoes: Pearson correlation = -0.03, p-value = 7.60e-01\n",
      "Cauliflowers: Pearson correlation = 0.17, p-value = 9.99e-02\n",
      "Broccoli: Pearson correlation = -0.14, p-value = 1.58e-01\n",
      "Green Peas: Pearson correlation = -0.11, p-value = 2.65e-01\n"
     ]
    }
   ],
   "source": [
    "#Pearson r correlation with pH vals and Veg Yield\n",
    "corr_results = {} #initialize empy dict.\n",
    "\n",
    "#loop through each vegeatable\n",
    "for veg in veg_data['Name'].unique():\n",
    "    veg_subset = veg_data[veg_data['Name']== veg]\n",
    "    correlation, p_value = stats.pearsonr(veg_subset['pH'], veg_subset['Yield'])\n",
    "    corr_results[veg] = (correlation, p_value)\n",
    "\n",
    "#print results\n",
    "for veg, (correlation, p_value) in corr_results.items():\n",
    "    print(f\"{veg}: Pearson correlation = {correlation:.2f}, p-value = {p_value:.2e}\")\n"
   ]
  },
  {
   "cell_type": "markdown",
   "metadata": {},
   "source": [
    "There is some correlation with pH values and yield per vegetable , but none of these correlation show statistical significance in this dataset. \n",
    "\n",
    "Based on research pH does generally affect crop yield: \n",
    "\n",
    "\"As one of the most important soil chemical properties for optimal crop production, soil pH determines nutrient sufficiency, deficiency, toxicity, and potential need for liming (Fageria and Zimmermann 1998) or addition of sulfur. The pH range of most of the Florida's soils is approximately between 4.0 and 9.0 (Figure 1; Tables 1–4). Because nutrient solubility is highly pH dependent, soil pH near 4.0 or 9.0 is usually not suitable for commercial vegetable production. A pH-range from 5.5 to 7.0 is suitable for most vegetable crops. From a solubility point of view this pH range can assure high bioavailability of most nutrients essential for vegetable growth and development (Ronen 2007). For example, at soil pH 8.0 or higher, iron and/or manganese bioavailability cannot satisfy most vegetable crops' nutrient requirements. However, when soil pH reaches 5.0 or lower, aluminum (Al), iron (Fe), manganese (Mn), and/or zinc (Zn) solubility in soil solution becomes toxic to most vegetable crops (Osakia, Watanabe, and Tadano 1997).\" \n",
    "\n",
    "https://edis.ifas.ufl.edu/publication/HS1207\n",
    "\n",
    "\n"
   ]
  },
  {
   "cell_type": "code",
   "execution_count": 69,
   "metadata": {},
   "outputs": [
    {
     "data": {
      "image/png": "[encoded data removed]",
      "text/plain": [
       "<Figure size 1500x1000 with 10 Axes>"
      ]
     },
     "metadata": {},
     "output_type": "display_data"
    }
   ],
   "source": [
    "#plot scatter plots with regression lines for pH, correlation and yield\n",
    "plt.figure(figsize=(15, 10))\n",
    "for i, veg in enumerate(veg_data['Name'].unique(), 1):\n",
    "    plt.subplot(3, 4, i)\n",
    "    sns.regplot(data=veg_data[veg_data['Name'] == veg], x='pH', y='Yield')\n",
    "    plt.title(f\"{veg}: Pearson r = {corr_results[veg][0]:.2f}\")\n",
    "    plt.xlabel('pH')\n",
    "    plt.ylabel('Yield')\n",
    "plt.tight_layout()\n",
    "plt.show()\n"
   ]
  },
  {
   "cell_type": "markdown",
   "metadata": {},
   "source": [
    "### How can pH and NPK Be incorporated in Models\n",
    "\n",
    "pH:\n",
    "\n",
    "- pH affects nutrient availability in the soil. Most plants have an optimal pH range where they can absorb nutrients efficiently.\n",
    "- For example, pH influences the solubility of minerals and nutrients, which directly impacts plant health and yield.\n",
    "\n",
    "NPK Ratio:\n",
    "\n",
    "- The NPK ratio (Nitrogen, Phosphorus, Potassium) represents the primary nutrients required by plants.\n",
    "- Different crops have specific NPK requirements for optimal growth. For example, leafy vegetables often require more nitrogen, while root crops may need more phosphorus and potassium.\n",
    "\n",
    "**Strategies**\n",
    "\n",
    "- Adjust Synthetic Data Ranges:\n",
    "\n",
    "    - Adjust the pH and NPK ranges to reflect more realistic scenarios. This includes varying pH and NPK values within a range rather than using static values.\n",
    "    - Consider how pH and NPK interact. For example, if the pH is outside the optimal range, the effectiveness of the NPK ratio may be reduced.\n",
    "\n",
    "- Feature Engineering:\n",
    "\n",
    "    - Interaction Terms: Create interaction terms between pH and NPK components. For example, pH * N, pH * P, and pH * K.\n",
    "    - Categorical Variables: Convert pH into categorical variables (e.g., acidic, neutral, alkaline) to capture non-linear relationships.\n",
    "    -Composite Indices: Develop indices that combine pH and NPK values to reflect overall soil fertility.\n",
    "\n",
    "\n",
    "Modeling Considerations:\n",
    "\n",
    "- Classification Models: Use classification models to predict the suitability of growing conditions for each crop. - - Incorporate pH and NPK as key features.\n",
    "- Regression Models: Once suitability is established, use regression models to predict yield, including interaction terms and composite indices.\n"
   ]
  },
  {
   "cell_type": "markdown",
   "metadata": {},
   "source": [
    "## Adjust Ranges"
   ]
  },
  {
   "cell_type": "code",
   "execution_count": null,
   "metadata": {},
   "outputs": [],
   "source": []
  },
  {
   "cell_type": "markdown",
   "metadata": {},
   "source": []
  }
 ],
 "metadata": {
  "kernelspec": {
   "display_name": "capstone_wavepower",
   "language": "python",
   "name": "capstone_wavepower"
  },
  "language_info": {
   "codemirror_mode": {
    "name": "ipython",
    "version": 3
   },
   "file_extension": ".py",
   "mimetype": "text/x-python",
   "name": "python",
   "nbconvert_exporter": "python",
   "pygments_lexer": "ipython3",
   "version": "3.8.18"
  }
 },
 "nbformat": 4,
 "nbformat_minor": 2
}
